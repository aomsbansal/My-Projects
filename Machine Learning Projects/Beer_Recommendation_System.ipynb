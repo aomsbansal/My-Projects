{
 "cells": [
  {
   "cell_type": "markdown",
   "metadata": {
    "colab_type": "text",
    "id": "tUYk7EuETInJ"
   },
   "source": [
    "# Beer Recommendation System"
   ]
  },
  {
   "cell_type": "markdown",
   "metadata": {
    "colab_type": "text",
    "id": "jfEhpVL3TInV"
   },
   "source": [
    "**Problem Statement**<br>\n",
    "You are the sales manager for \"BeerMart\", an online beer store in the United States. You want to build a recommendation system (collaborative) for your store, where customers will be recommended the beer that they are most likely to buy. You collect data about the ratings that the customers have given in the past. "
   ]
  },
  {
   "cell_type": "markdown",
   "metadata": {
    "heading_collapsed": true
   },
   "source": [
    "## Loading libraries"
   ]
  },
  {
   "cell_type": "code",
   "execution_count": 1,
   "metadata": {
    "colab": {},
    "colab_type": "code",
    "hidden": true,
    "id": "9iwzvYQQTIna"
   },
   "outputs": [],
   "source": [
    "# Import necessary modules for data analysis and data visualization. \n",
    "import pandas as pd\n",
    "import numpy as np\n",
    "import plotly.express as px\n",
    "# Some visualization libraries\n",
    "from matplotlib import pyplot as plt\n",
    "import seaborn as sns\n",
    "sns.set_style('darkgrid')\n",
    "## Some other snippit of codes to get the setting right \n",
    "import warnings ## importing warnings library. \n",
    "warnings.filterwarnings('ignore') ## Ignore warning"
   ]
  },
  {
   "cell_type": "code",
   "execution_count": 2,
   "metadata": {
    "colab": {},
    "colab_type": "code",
    "hidden": true,
    "id": "f6rZNN8bTInt"
   },
   "outputs": [],
   "source": [
    "#creating a function for count of missing values and % of missing values for d1 dataframe\n",
    "def missing_data(d1):\n",
    "    missing_data1 = pd.DataFrame(round(d1.isnull().sum().sort_values(ascending=False)/len(d1.index)*100,2), columns=['% of missing value'])\n",
    "    missing_data1['Count of Missing Values'] = d1.isnull().sum()\n",
    "    return missing_data1"
   ]
  },
  {
   "cell_type": "markdown",
   "metadata": {
    "colab_type": "text",
    "id": "L0QjHs8lTIn-"
   },
   "source": [
    "## Data Loading and Preprocessing"
   ]
  },
  {
   "cell_type": "code",
   "execution_count": 3,
   "metadata": {
    "colab": {},
    "colab_type": "code",
    "id": "qhmZiFpcTIoF"
   },
   "outputs": [],
   "source": [
    "# loading the datset\n",
    "beer = pd.read_csv('beer_data.csv')"
   ]
  },
  {
   "cell_type": "code",
   "execution_count": 4,
   "metadata": {
    "colab": {
     "base_uri": "https://localhost:8080/",
     "height": 195
    },
    "colab_type": "code",
    "executionInfo": {
     "elapsed": 862,
     "status": "ok",
     "timestamp": 1581780618197,
     "user": {
      "displayName": "Ashish Bansal",
      "photoUrl": "https://lh3.googleusercontent.com/a-/AAuE7mAl4f5AYg93L5LxheDY1qujFVeyESegUCfT5BYI0A=s64",
      "userId": "16202438904858005659"
     },
     "user_tz": -330
    },
    "id": "DquaNBFsTIoU",
    "outputId": "d54f2f9a-970e-4d56-8a93-f1494d425a9f"
   },
   "outputs": [
    {
     "data": {
      "text/html": [
       "<div>\n",
       "<style scoped>\n",
       "    .dataframe tbody tr th:only-of-type {\n",
       "        vertical-align: middle;\n",
       "    }\n",
       "\n",
       "    .dataframe tbody tr th {\n",
       "        vertical-align: top;\n",
       "    }\n",
       "\n",
       "    .dataframe thead th {\n",
       "        text-align: right;\n",
       "    }\n",
       "</style>\n",
       "<table border=\"1\" class=\"dataframe\">\n",
       "  <thead>\n",
       "    <tr style=\"text-align: right;\">\n",
       "      <th></th>\n",
       "      <th>beer_beerid</th>\n",
       "      <th>review_profilename</th>\n",
       "      <th>review_overall</th>\n",
       "    </tr>\n",
       "  </thead>\n",
       "  <tbody>\n",
       "    <tr>\n",
       "      <td>0</td>\n",
       "      <td>48215</td>\n",
       "      <td>stcules</td>\n",
       "      <td>3.0</td>\n",
       "    </tr>\n",
       "    <tr>\n",
       "      <td>1</td>\n",
       "      <td>52159</td>\n",
       "      <td>oline73</td>\n",
       "      <td>3.0</td>\n",
       "    </tr>\n",
       "    <tr>\n",
       "      <td>2</td>\n",
       "      <td>52159</td>\n",
       "      <td>alpinebryant</td>\n",
       "      <td>3.0</td>\n",
       "    </tr>\n",
       "    <tr>\n",
       "      <td>3</td>\n",
       "      <td>52159</td>\n",
       "      <td>rawthar</td>\n",
       "      <td>4.0</td>\n",
       "    </tr>\n",
       "    <tr>\n",
       "      <td>4</td>\n",
       "      <td>52159</td>\n",
       "      <td>RangerClegg</td>\n",
       "      <td>3.5</td>\n",
       "    </tr>\n",
       "  </tbody>\n",
       "</table>\n",
       "</div>"
      ],
      "text/plain": [
       "   beer_beerid review_profilename  review_overall\n",
       "0        48215            stcules             3.0\n",
       "1        52159            oline73             3.0\n",
       "2        52159       alpinebryant             3.0\n",
       "3        52159            rawthar             4.0\n",
       "4        52159        RangerClegg             3.5"
      ]
     },
     "execution_count": 4,
     "metadata": {},
     "output_type": "execute_result"
    }
   ],
   "source": [
    "#checking the head of the data\n",
    "beer.head()"
   ]
  },
  {
   "cell_type": "code",
   "execution_count": 5,
   "metadata": {
    "colab": {
     "base_uri": "https://localhost:8080/",
     "height": 34
    },
    "colab_type": "code",
    "executionInfo": {
     "elapsed": 832,
     "status": "ok",
     "timestamp": 1581780618701,
     "user": {
      "displayName": "Ashish Bansal",
      "photoUrl": "https://lh3.googleusercontent.com/a-/AAuE7mAl4f5AYg93L5LxheDY1qujFVeyESegUCfT5BYI0A=s64",
      "userId": "16202438904858005659"
     },
     "user_tz": -330
    },
    "id": "GAJXPKxMTIop",
    "outputId": "255f718a-458a-4dc3-c24a-1e50bf91edea"
   },
   "outputs": [
    {
     "data": {
      "text/plain": [
       "(475984, 3)"
      ]
     },
     "execution_count": 5,
     "metadata": {},
     "output_type": "execute_result"
    }
   ],
   "source": [
    "#checking the shape of the data\n",
    "beer.shape"
   ]
  },
  {
   "cell_type": "code",
   "execution_count": 6,
   "metadata": {
    "colab": {
     "base_uri": "https://localhost:8080/",
     "height": 151
    },
    "colab_type": "code",
    "executionInfo": {
     "elapsed": 772,
     "status": "ok",
     "timestamp": 1581780619684,
     "user": {
      "displayName": "Ashish Bansal",
      "photoUrl": "https://lh3.googleusercontent.com/a-/AAuE7mAl4f5AYg93L5LxheDY1qujFVeyESegUCfT5BYI0A=s64",
      "userId": "16202438904858005659"
     },
     "user_tz": -330
    },
    "id": "1B6nu8L1TIpE",
    "outputId": "19a58015-4c24-4402-f5f3-7dc1740abdad"
   },
   "outputs": [
    {
     "name": "stdout",
     "output_type": "stream",
     "text": [
      "<class 'pandas.core.frame.DataFrame'>\n",
      "RangeIndex: 475984 entries, 0 to 475983\n",
      "Data columns (total 3 columns):\n",
      "beer_beerid           475984 non-null int64\n",
      "review_profilename    475884 non-null object\n",
      "review_overall        475984 non-null float64\n",
      "dtypes: float64(1), int64(1), object(1)\n",
      "memory usage: 10.9+ MB\n"
     ]
    }
   ],
   "source": [
    "#cheking the info\n",
    "beer.info()"
   ]
  },
  {
   "cell_type": "code",
   "execution_count": 7,
   "metadata": {
    "colab": {
     "base_uri": "https://localhost:8080/",
     "height": 136
    },
    "colab_type": "code",
    "executionInfo": {
     "elapsed": 849,
     "status": "ok",
     "timestamp": 1581780621322,
     "user": {
      "displayName": "Ashish Bansal",
      "photoUrl": "https://lh3.googleusercontent.com/a-/AAuE7mAl4f5AYg93L5LxheDY1qujFVeyESegUCfT5BYI0A=s64",
      "userId": "16202438904858005659"
     },
     "user_tz": -330
    },
    "id": "GApHjAwdTIpb",
    "outputId": "76c7dd6c-e46e-4d57-d3b9-b5fc94fde1ac"
   },
   "outputs": [
    {
     "data": {
      "text/html": [
       "<div>\n",
       "<style scoped>\n",
       "    .dataframe tbody tr th:only-of-type {\n",
       "        vertical-align: middle;\n",
       "    }\n",
       "\n",
       "    .dataframe tbody tr th {\n",
       "        vertical-align: top;\n",
       "    }\n",
       "\n",
       "    .dataframe thead th {\n",
       "        text-align: right;\n",
       "    }\n",
       "</style>\n",
       "<table border=\"1\" class=\"dataframe\">\n",
       "  <thead>\n",
       "    <tr style=\"text-align: right;\">\n",
       "      <th></th>\n",
       "      <th>% of missing value</th>\n",
       "      <th>Count of Missing Values</th>\n",
       "    </tr>\n",
       "  </thead>\n",
       "  <tbody>\n",
       "    <tr>\n",
       "      <td>review_profilename</td>\n",
       "      <td>0.02</td>\n",
       "      <td>100</td>\n",
       "    </tr>\n",
       "    <tr>\n",
       "      <td>review_overall</td>\n",
       "      <td>0.00</td>\n",
       "      <td>0</td>\n",
       "    </tr>\n",
       "    <tr>\n",
       "      <td>beer_beerid</td>\n",
       "      <td>0.00</td>\n",
       "      <td>0</td>\n",
       "    </tr>\n",
       "  </tbody>\n",
       "</table>\n",
       "</div>"
      ],
      "text/plain": [
       "                    % of missing value  Count of Missing Values\n",
       "review_profilename                0.02                      100\n",
       "review_overall                    0.00                        0\n",
       "beer_beerid                       0.00                        0"
      ]
     },
     "execution_count": 7,
     "metadata": {},
     "output_type": "execute_result"
    }
   ],
   "source": [
    "#checking the missing data\n",
    "missing_data(beer)"
   ]
  },
  {
   "cell_type": "markdown",
   "metadata": {
    "colab_type": "text",
    "id": "pPR8obKETIpu"
   },
   "source": [
    "As we can see 100 values are missing, since we have large amount of data , removing them wont affect our results."
   ]
  },
  {
   "cell_type": "code",
   "execution_count": 8,
   "metadata": {
    "colab": {},
    "colab_type": "code",
    "id": "JLdDnvxtTIp1"
   },
   "outputs": [],
   "source": [
    "#getting the index where review_profilename is null\n",
    "ind = beer[beer.review_profilename.isnull()].index"
   ]
  },
  {
   "cell_type": "code",
   "execution_count": 9,
   "metadata": {
    "colab": {
     "base_uri": "https://localhost:8080/",
     "height": 195
    },
    "colab_type": "code",
    "executionInfo": {
     "elapsed": 1174,
     "status": "ok",
     "timestamp": 1581780626203,
     "user": {
      "displayName": "Ashish Bansal",
      "photoUrl": "https://lh3.googleusercontent.com/a-/AAuE7mAl4f5AYg93L5LxheDY1qujFVeyESegUCfT5BYI0A=s64",
      "userId": "16202438904858005659"
     },
     "user_tz": -330
    },
    "id": "twtNkcQhTIqM",
    "outputId": "3d5b47a5-fbd6-4a2e-8245-80df14a2b81f"
   },
   "outputs": [
    {
     "data": {
      "text/html": [
       "<div>\n",
       "<style scoped>\n",
       "    .dataframe tbody tr th:only-of-type {\n",
       "        vertical-align: middle;\n",
       "    }\n",
       "\n",
       "    .dataframe tbody tr th {\n",
       "        vertical-align: top;\n",
       "    }\n",
       "\n",
       "    .dataframe thead th {\n",
       "        text-align: right;\n",
       "    }\n",
       "</style>\n",
       "<table border=\"1\" class=\"dataframe\">\n",
       "  <thead>\n",
       "    <tr style=\"text-align: right;\">\n",
       "      <th></th>\n",
       "      <th>index</th>\n",
       "      <th>beer_beerid</th>\n",
       "      <th>review_profilename</th>\n",
       "      <th>review_overall</th>\n",
       "    </tr>\n",
       "  </thead>\n",
       "  <tbody>\n",
       "    <tr>\n",
       "      <td>0</td>\n",
       "      <td>0</td>\n",
       "      <td>48215</td>\n",
       "      <td>stcules</td>\n",
       "      <td>3.0</td>\n",
       "    </tr>\n",
       "    <tr>\n",
       "      <td>1</td>\n",
       "      <td>1</td>\n",
       "      <td>52159</td>\n",
       "      <td>oline73</td>\n",
       "      <td>3.0</td>\n",
       "    </tr>\n",
       "    <tr>\n",
       "      <td>2</td>\n",
       "      <td>2</td>\n",
       "      <td>52159</td>\n",
       "      <td>alpinebryant</td>\n",
       "      <td>3.0</td>\n",
       "    </tr>\n",
       "    <tr>\n",
       "      <td>3</td>\n",
       "      <td>3</td>\n",
       "      <td>52159</td>\n",
       "      <td>rawthar</td>\n",
       "      <td>4.0</td>\n",
       "    </tr>\n",
       "    <tr>\n",
       "      <td>4</td>\n",
       "      <td>4</td>\n",
       "      <td>52159</td>\n",
       "      <td>RangerClegg</td>\n",
       "      <td>3.5</td>\n",
       "    </tr>\n",
       "  </tbody>\n",
       "</table>\n",
       "</div>"
      ],
      "text/plain": [
       "   index  beer_beerid review_profilename  review_overall\n",
       "0      0        48215            stcules             3.0\n",
       "1      1        52159            oline73             3.0\n",
       "2      2        52159       alpinebryant             3.0\n",
       "3      3        52159            rawthar             4.0\n",
       "4      4        52159        RangerClegg             3.5"
      ]
     },
     "execution_count": 9,
     "metadata": {},
     "output_type": "execute_result"
    }
   ],
   "source": [
    "#removing the rows where data is not present\n",
    "beer.drop(ind, inplace=True)\n",
    "beer.reset_index(inplace=True)\n",
    "beer.head()"
   ]
  },
  {
   "cell_type": "code",
   "execution_count": 10,
   "metadata": {
    "colab": {},
    "colab_type": "code",
    "id": "5b16TAfWTIqe"
   },
   "outputs": [],
   "source": [
    "beer.drop('index',axis=1, inplace=True)"
   ]
  },
  {
   "cell_type": "code",
   "execution_count": 11,
   "metadata": {
    "colab": {
     "base_uri": "https://localhost:8080/",
     "height": 84
    },
    "colab_type": "code",
    "executionInfo": {
     "elapsed": 1233,
     "status": "ok",
     "timestamp": 1581780628767,
     "user": {
      "displayName": "Ashish Bansal",
      "photoUrl": "https://lh3.googleusercontent.com/a-/AAuE7mAl4f5AYg93L5LxheDY1qujFVeyESegUCfT5BYI0A=s64",
      "userId": "16202438904858005659"
     },
     "user_tz": -330
    },
    "id": "HEYxKGgpTIqu",
    "outputId": "0ef32468-c073-41aa-9be8-83786666cc2e"
   },
   "outputs": [
    {
     "data": {
      "text/plain": [
       "beer_beerid           40304\n",
       "review_profilename    22497\n",
       "review_overall           10\n",
       "dtype: int64"
      ]
     },
     "execution_count": 11,
     "metadata": {},
     "output_type": "execute_result"
    }
   ],
   "source": [
    "#checking the no of unnique entries\n",
    "beer.nunique()"
   ]
  },
  {
   "cell_type": "markdown",
   "metadata": {
    "colab_type": "text",
    "id": "kLDsWFHnTIq_"
   },
   "source": [
    "As we can see we have 40308 unique beers which are rated by 22497 reviewers"
   ]
  },
  {
   "cell_type": "code",
   "execution_count": 12,
   "metadata": {
    "colab": {
     "base_uri": "https://localhost:8080/",
     "height": 402
    },
    "colab_type": "code",
    "executionInfo": {
     "elapsed": 932,
     "status": "ok",
     "timestamp": 1581780634500,
     "user": {
      "displayName": "Ashish Bansal",
      "photoUrl": "https://lh3.googleusercontent.com/a-/AAuE7mAl4f5AYg93L5LxheDY1qujFVeyESegUCfT5BYI0A=s64",
      "userId": "16202438904858005659"
     },
     "user_tz": -330
    },
    "id": "A19MNfFVTIrD",
    "outputId": "7d9267a5-8759-4f8c-dbbb-fbea364273cc"
   },
   "outputs": [
    {
     "data": {
      "text/html": [
       "<div>\n",
       "<style scoped>\n",
       "    .dataframe tbody tr th:only-of-type {\n",
       "        vertical-align: middle;\n",
       "    }\n",
       "\n",
       "    .dataframe tbody tr th {\n",
       "        vertical-align: top;\n",
       "    }\n",
       "\n",
       "    .dataframe thead th {\n",
       "        text-align: right;\n",
       "    }\n",
       "</style>\n",
       "<table border=\"1\" class=\"dataframe\">\n",
       "  <thead>\n",
       "    <tr style=\"text-align: right;\">\n",
       "      <th></th>\n",
       "      <th>beer_beerid</th>\n",
       "      <th>review_profilename</th>\n",
       "      <th>review_overall</th>\n",
       "    </tr>\n",
       "  </thead>\n",
       "  <tbody>\n",
       "    <tr>\n",
       "      <td>2301</td>\n",
       "      <td>73647</td>\n",
       "      <td>barleywinefiend</td>\n",
       "      <td>4.5</td>\n",
       "    </tr>\n",
       "    <tr>\n",
       "      <td>2349</td>\n",
       "      <td>14243</td>\n",
       "      <td>northyorksammy</td>\n",
       "      <td>2.5</td>\n",
       "    </tr>\n",
       "    <tr>\n",
       "      <td>2608</td>\n",
       "      <td>1122</td>\n",
       "      <td>Slatetank</td>\n",
       "      <td>4.0</td>\n",
       "    </tr>\n",
       "    <tr>\n",
       "      <td>3294</td>\n",
       "      <td>962</td>\n",
       "      <td>RedDiamond</td>\n",
       "      <td>3.5</td>\n",
       "    </tr>\n",
       "    <tr>\n",
       "      <td>3337</td>\n",
       "      <td>961</td>\n",
       "      <td>Offa</td>\n",
       "      <td>4.0</td>\n",
       "    </tr>\n",
       "    <tr>\n",
       "      <td>...</td>\n",
       "      <td>...</td>\n",
       "      <td>...</td>\n",
       "      <td>...</td>\n",
       "    </tr>\n",
       "    <tr>\n",
       "      <td>472326</td>\n",
       "      <td>958</td>\n",
       "      <td>barleywinefiend</td>\n",
       "      <td>3.0</td>\n",
       "    </tr>\n",
       "    <tr>\n",
       "      <td>472448</td>\n",
       "      <td>34563</td>\n",
       "      <td>beveritt</td>\n",
       "      <td>3.5</td>\n",
       "    </tr>\n",
       "    <tr>\n",
       "      <td>472461</td>\n",
       "      <td>16790</td>\n",
       "      <td>beveritt</td>\n",
       "      <td>4.0</td>\n",
       "    </tr>\n",
       "    <tr>\n",
       "      <td>474811</td>\n",
       "      <td>49070</td>\n",
       "      <td>Bitterbill</td>\n",
       "      <td>4.0</td>\n",
       "    </tr>\n",
       "    <tr>\n",
       "      <td>475103</td>\n",
       "      <td>138</td>\n",
       "      <td>goindownsouth</td>\n",
       "      <td>4.0</td>\n",
       "    </tr>\n",
       "  </tbody>\n",
       "</table>\n",
       "<p>580 rows × 3 columns</p>\n",
       "</div>"
      ],
      "text/plain": [
       "        beer_beerid review_profilename  review_overall\n",
       "2301          73647    barleywinefiend             4.5\n",
       "2349          14243     northyorksammy             2.5\n",
       "2608           1122          Slatetank             4.0\n",
       "3294            962         RedDiamond             3.5\n",
       "3337            961               Offa             4.0\n",
       "...             ...                ...             ...\n",
       "472326          958    barleywinefiend             3.0\n",
       "472448        34563           beveritt             3.5\n",
       "472461        16790           beveritt             4.0\n",
       "474811        49070         Bitterbill             4.0\n",
       "475103          138      goindownsouth             4.0\n",
       "\n",
       "[580 rows x 3 columns]"
      ]
     },
     "execution_count": 12,
     "metadata": {},
     "output_type": "execute_result"
    }
   ],
   "source": [
    "#checking the duplicate rows\n",
    "beer[beer.duplicated()]"
   ]
  },
  {
   "cell_type": "code",
   "execution_count": 13,
   "metadata": {
    "colab": {},
    "colab_type": "code",
    "id": "7SWvEL1HTIrX"
   },
   "outputs": [],
   "source": [
    "#as we can see we have 580 duplicate rows, so removing them\n",
    "beer.drop_duplicates(inplace=True)"
   ]
  },
  {
   "cell_type": "code",
   "execution_count": 14,
   "metadata": {
    "colab": {
     "base_uri": "https://localhost:8080/",
     "height": 47
    },
    "colab_type": "code",
    "executionInfo": {
     "elapsed": 688,
     "status": "ok",
     "timestamp": 1581780637538,
     "user": {
      "displayName": "Ashish Bansal",
      "photoUrl": "https://lh3.googleusercontent.com/a-/AAuE7mAl4f5AYg93L5LxheDY1qujFVeyESegUCfT5BYI0A=s64",
      "userId": "16202438904858005659"
     },
     "user_tz": -330
    },
    "id": "7rjU6S9wTIrn",
    "outputId": "c30c70d3-c9b6-4074-c2c8-618b516724fb"
   },
   "outputs": [
    {
     "data": {
      "text/html": [
       "<div>\n",
       "<style scoped>\n",
       "    .dataframe tbody tr th:only-of-type {\n",
       "        vertical-align: middle;\n",
       "    }\n",
       "\n",
       "    .dataframe tbody tr th {\n",
       "        vertical-align: top;\n",
       "    }\n",
       "\n",
       "    .dataframe thead th {\n",
       "        text-align: right;\n",
       "    }\n",
       "</style>\n",
       "<table border=\"1\" class=\"dataframe\">\n",
       "  <thead>\n",
       "    <tr style=\"text-align: right;\">\n",
       "      <th></th>\n",
       "      <th>beer_beerid</th>\n",
       "      <th>review_profilename</th>\n",
       "      <th>review_overall</th>\n",
       "    </tr>\n",
       "  </thead>\n",
       "  <tbody>\n",
       "  </tbody>\n",
       "</table>\n",
       "</div>"
      ],
      "text/plain": [
       "Empty DataFrame\n",
       "Columns: [beer_beerid, review_profilename, review_overall]\n",
       "Index: []"
      ]
     },
     "execution_count": 14,
     "metadata": {},
     "output_type": "execute_result"
    }
   ],
   "source": [
    "#checking the duplicate rows again\n",
    "beer[beer.duplicated()]"
   ]
  },
  {
   "cell_type": "markdown",
   "metadata": {
    "colab_type": "text",
    "id": "xpnlfT5xTIr5"
   },
   "source": [
    "## EDA"
   ]
  },
  {
   "cell_type": "code",
   "execution_count": 15,
   "metadata": {
    "colab": {
     "base_uri": "https://localhost:8080/",
     "height": 195
    },
    "colab_type": "code",
    "executionInfo": {
     "elapsed": 1150,
     "status": "ok",
     "timestamp": 1581780642443,
     "user": {
      "displayName": "Ashish Bansal",
      "photoUrl": "https://lh3.googleusercontent.com/a-/AAuE7mAl4f5AYg93L5LxheDY1qujFVeyESegUCfT5BYI0A=s64",
      "userId": "16202438904858005659"
     },
     "user_tz": -330
    },
    "id": "gmlXSpHETIr9",
    "outputId": "f6196ef2-5b5e-4a45-a1fd-fcad58472a09"
   },
   "outputs": [
    {
     "data": {
      "text/html": [
       "<div>\n",
       "<style scoped>\n",
       "    .dataframe tbody tr th:only-of-type {\n",
       "        vertical-align: middle;\n",
       "    }\n",
       "\n",
       "    .dataframe tbody tr th {\n",
       "        vertical-align: top;\n",
       "    }\n",
       "\n",
       "    .dataframe thead th {\n",
       "        text-align: right;\n",
       "    }\n",
       "</style>\n",
       "<table border=\"1\" class=\"dataframe\">\n",
       "  <thead>\n",
       "    <tr style=\"text-align: right;\">\n",
       "      <th></th>\n",
       "      <th>beer_beerid</th>\n",
       "      <th>review_profilename</th>\n",
       "      <th>review_overall</th>\n",
       "    </tr>\n",
       "  </thead>\n",
       "  <tbody>\n",
       "    <tr>\n",
       "      <td>0</td>\n",
       "      <td>48215</td>\n",
       "      <td>stcules</td>\n",
       "      <td>3.0</td>\n",
       "    </tr>\n",
       "    <tr>\n",
       "      <td>1</td>\n",
       "      <td>52159</td>\n",
       "      <td>oline73</td>\n",
       "      <td>3.0</td>\n",
       "    </tr>\n",
       "    <tr>\n",
       "      <td>2</td>\n",
       "      <td>52159</td>\n",
       "      <td>alpinebryant</td>\n",
       "      <td>3.0</td>\n",
       "    </tr>\n",
       "    <tr>\n",
       "      <td>3</td>\n",
       "      <td>52159</td>\n",
       "      <td>rawthar</td>\n",
       "      <td>4.0</td>\n",
       "    </tr>\n",
       "    <tr>\n",
       "      <td>4</td>\n",
       "      <td>52159</td>\n",
       "      <td>RangerClegg</td>\n",
       "      <td>3.5</td>\n",
       "    </tr>\n",
       "  </tbody>\n",
       "</table>\n",
       "</div>"
      ],
      "text/plain": [
       "   beer_beerid review_profilename  review_overall\n",
       "0        48215            stcules             3.0\n",
       "1        52159            oline73             3.0\n",
       "2        52159       alpinebryant             3.0\n",
       "3        52159            rawthar             4.0\n",
       "4        52159        RangerClegg             3.5"
      ]
     },
     "execution_count": 15,
     "metadata": {},
     "output_type": "execute_result"
    }
   ],
   "source": [
    "beer.head()"
   ]
  },
  {
   "cell_type": "code",
   "execution_count": 16,
   "metadata": {
    "colab": {
     "base_uri": "https://localhost:8080/",
     "height": 339
    },
    "colab_type": "code",
    "executionInfo": {
     "elapsed": 942,
     "status": "ok",
     "timestamp": 1581780642833,
     "user": {
      "displayName": "Ashish Bansal",
      "photoUrl": "https://lh3.googleusercontent.com/a-/AAuE7mAl4f5AYg93L5LxheDY1qujFVeyESegUCfT5BYI0A=s64",
      "userId": "16202438904858005659"
     },
     "user_tz": -330
    },
    "id": "JsNFpUurTIsM",
    "outputId": "3c515b11-9e5a-45bd-ff37-6e3f6eb2fbec"
   },
   "outputs": [
    {
     "data": {
      "image/png": "[encoded data removed]",
      "text/plain": [
       "<Figure size 600x400 with 1 Axes>"
      ]
     },
     "metadata": {
      "needs_background": "light"
     },
     "output_type": "display_data"
    }
   ],
   "source": [
    "#checking the distribution of review_overall\n",
    "plt.figure(dpi=100)\n",
    "sns.boxplot(y = beer.review_overall)\n",
    "plt.show()"
   ]
  },
  {
   "cell_type": "markdown",
   "metadata": {
    "colab_type": "text",
    "heading_collapsed": true,
    "id": "P60wx5s5TIsa"
   },
   "source": [
    "### Data Preperation"
   ]
  },
  {
   "cell_type": "markdown",
   "metadata": {
    "colab_type": "text",
    "hidden": true,
    "id": "LJqIq48iTIsf"
   },
   "source": [
    "Choose only those beers that have at least N number of reviews.<br>\n",
    "Figure out an appropriate value of N using EDA; this may not have one correct answer, but you should not choose beers that have an extremely low number of ratings."
   ]
  },
  {
   "cell_type": "code",
   "execution_count": 17,
   "metadata": {
    "colab": {
     "base_uri": "https://localhost:8080/",
     "height": 195
    },
    "colab_type": "code",
    "executionInfo": {
     "elapsed": 907,
     "status": "ok",
     "timestamp": 1581780648371,
     "user": {
      "displayName": "Ashish Bansal",
      "photoUrl": "https://lh3.googleusercontent.com/a-/AAuE7mAl4f5AYg93L5LxheDY1qujFVeyESegUCfT5BYI0A=s64",
      "userId": "16202438904858005659"
     },
     "user_tz": -330
    },
    "hidden": true,
    "id": "Z7c66AWqTIsj",
    "outputId": "869b662c-21ff-405a-92bd-03142c122085"
   },
   "outputs": [
    {
     "data": {
      "text/html": [
       "<div>\n",
       "<style scoped>\n",
       "    .dataframe tbody tr th:only-of-type {\n",
       "        vertical-align: middle;\n",
       "    }\n",
       "\n",
       "    .dataframe tbody tr th {\n",
       "        vertical-align: top;\n",
       "    }\n",
       "\n",
       "    .dataframe thead th {\n",
       "        text-align: right;\n",
       "    }\n",
       "</style>\n",
       "<table border=\"1\" class=\"dataframe\">\n",
       "  <thead>\n",
       "    <tr style=\"text-align: right;\">\n",
       "      <th></th>\n",
       "      <th>beer_beerid</th>\n",
       "    </tr>\n",
       "  </thead>\n",
       "  <tbody>\n",
       "    <tr>\n",
       "      <td>2093</td>\n",
       "      <td>980</td>\n",
       "    </tr>\n",
       "    <tr>\n",
       "      <td>412</td>\n",
       "      <td>972</td>\n",
       "    </tr>\n",
       "    <tr>\n",
       "      <td>1904</td>\n",
       "      <td>903</td>\n",
       "    </tr>\n",
       "    <tr>\n",
       "      <td>1093</td>\n",
       "      <td>845</td>\n",
       "    </tr>\n",
       "    <tr>\n",
       "      <td>92</td>\n",
       "      <td>817</td>\n",
       "    </tr>\n",
       "  </tbody>\n",
       "</table>\n",
       "</div>"
      ],
      "text/plain": [
       "      beer_beerid\n",
       "2093          980\n",
       "412           972\n",
       "1904          903\n",
       "1093          845\n",
       "92            817"
      ]
     },
     "execution_count": 17,
     "metadata": {},
     "output_type": "execute_result"
    }
   ],
   "source": [
    "#checking the number of ratings per beer\n",
    "beer_ratings = pd.DataFrame(beer.beer_beerid.value_counts())\n",
    "beer_ratings.head()"
   ]
  },
  {
   "cell_type": "code",
   "execution_count": 18,
   "metadata": {
    "colab": {
     "base_uri": "https://localhost:8080/",
     "height": 195
    },
    "colab_type": "code",
    "executionInfo": {
     "elapsed": 977,
     "status": "ok",
     "timestamp": 1581780655096,
     "user": {
      "displayName": "Ashish Bansal",
      "photoUrl": "https://lh3.googleusercontent.com/a-/AAuE7mAl4f5AYg93L5LxheDY1qujFVeyESegUCfT5BYI0A=s64",
      "userId": "16202438904858005659"
     },
     "user_tz": -330
    },
    "hidden": true,
    "id": "y2mJ6oI-TIsy",
    "outputId": "fbdc873a-cbf9-447f-bbdf-7073d37204f5"
   },
   "outputs": [
    {
     "data": {
      "text/html": [
       "<div>\n",
       "<style scoped>\n",
       "    .dataframe tbody tr th:only-of-type {\n",
       "        vertical-align: middle;\n",
       "    }\n",
       "\n",
       "    .dataframe tbody tr th {\n",
       "        vertical-align: top;\n",
       "    }\n",
       "\n",
       "    .dataframe thead th {\n",
       "        text-align: right;\n",
       "    }\n",
       "</style>\n",
       "<table border=\"1\" class=\"dataframe\">\n",
       "  <thead>\n",
       "    <tr style=\"text-align: right;\">\n",
       "      <th></th>\n",
       "      <th>beer_id</th>\n",
       "      <th>rating_count</th>\n",
       "    </tr>\n",
       "  </thead>\n",
       "  <tbody>\n",
       "    <tr>\n",
       "      <td>0</td>\n",
       "      <td>2093</td>\n",
       "      <td>980</td>\n",
       "    </tr>\n",
       "    <tr>\n",
       "      <td>1</td>\n",
       "      <td>412</td>\n",
       "      <td>972</td>\n",
       "    </tr>\n",
       "    <tr>\n",
       "      <td>2</td>\n",
       "      <td>1904</td>\n",
       "      <td>903</td>\n",
       "    </tr>\n",
       "    <tr>\n",
       "      <td>3</td>\n",
       "      <td>1093</td>\n",
       "      <td>845</td>\n",
       "    </tr>\n",
       "    <tr>\n",
       "      <td>4</td>\n",
       "      <td>92</td>\n",
       "      <td>817</td>\n",
       "    </tr>\n",
       "  </tbody>\n",
       "</table>\n",
       "</div>"
      ],
      "text/plain": [
       "   beer_id  rating_count\n",
       "0     2093           980\n",
       "1      412           972\n",
       "2     1904           903\n",
       "3     1093           845\n",
       "4       92           817"
      ]
     },
     "execution_count": 18,
     "metadata": {},
     "output_type": "execute_result"
    }
   ],
   "source": [
    "#reseting the index and changing the name of columns\n",
    "beer_ratings.reset_index(inplace=True)\n",
    "beer_ratings.rename(columns={'index':'beer_id','beer_beerid':'rating_count'}, inplace=True)\n",
    "beer_ratings.head()"
   ]
  },
  {
   "cell_type": "code",
   "execution_count": 19,
   "metadata": {
    "colab": {
     "base_uri": "https://localhost:8080/",
     "height": 284
    },
    "colab_type": "code",
    "executionInfo": {
     "elapsed": 1981,
     "status": "ok",
     "timestamp": 1581780660794,
     "user": {
      "displayName": "Ashish Bansal",
      "photoUrl": "https://lh3.googleusercontent.com/a-/AAuE7mAl4f5AYg93L5LxheDY1qujFVeyESegUCfT5BYI0A=s64",
      "userId": "16202438904858005659"
     },
     "user_tz": -330
    },
    "hidden": true,
    "id": "-rDa7Yf7TItE",
    "outputId": "dfd8c832-0dcc-45d0-9208-ff51e0625d6a"
   },
   "outputs": [
    {
     "data": {
      "image/png": "[encoded data removed]",
      "text/plain": [
       "<Figure size 432x288 with 1 Axes>"
      ]
     },
     "metadata": {
      "needs_background": "light"
     },
     "output_type": "display_data"
    }
   ],
   "source": [
    "#checking the distribution of rating count\n",
    "sns.distplot(beer_ratings.rating_count)\n",
    "plt.xscale('log')\n",
    "plt.show()"
   ]
  },
  {
   "cell_type": "code",
   "execution_count": 20,
   "metadata": {
    "colab": {
     "base_uri": "https://localhost:8080/",
     "height": 319
    },
    "colab_type": "code",
    "executionInfo": {
     "elapsed": 979,
     "status": "ok",
     "timestamp": 1581780663047,
     "user": {
      "displayName": "Ashish Bansal",
      "photoUrl": "https://lh3.googleusercontent.com/a-/AAuE7mAl4f5AYg93L5LxheDY1qujFVeyESegUCfT5BYI0A=s64",
      "userId": "16202438904858005659"
     },
     "user_tz": -330
    },
    "hidden": true,
    "id": "Zem8q6p4TItT",
    "outputId": "864c6245-b9db-4279-b89a-7ac5f231bb1c"
   },
   "outputs": [
    {
     "data": {
      "text/plain": [
       "count    40304.000000\n",
       "mean        11.792973\n",
       "std         42.007656\n",
       "min          1.000000\n",
       "10%          1.000000\n",
       "20%          1.000000\n",
       "50%          2.000000\n",
       "70%          4.000000\n",
       "75%          5.000000\n",
       "80%          7.000000\n",
       "90%         21.000000\n",
       "92%         28.000000\n",
       "95%         51.000000\n",
       "98%        122.000000\n",
       "99%        195.000000\n",
       "100%       980.000000\n",
       "max        980.000000\n",
       "Name: rating_count, dtype: float64"
      ]
     },
     "execution_count": 20,
     "metadata": {},
     "output_type": "execute_result"
    }
   ],
   "source": [
    "#checking the distribution of rating count\n",
    "beer_ratings.rating_count.describe(percentiles=[.1,.2,.5,.7,.75,.8,.9,.92,.95,.98,.99,1])"
   ]
  },
  {
   "cell_type": "markdown",
   "metadata": {
    "colab_type": "text",
    "hidden": true,
    "id": "0muj5HDWTItr"
   },
   "source": [
    "From the above data we can see that we should select those beers who are having minimum of 20 ratings."
   ]
  },
  {
   "cell_type": "code",
   "execution_count": 21,
   "metadata": {
    "colab": {
     "base_uri": "https://localhost:8080/",
     "height": 402
    },
    "colab_type": "code",
    "executionInfo": {
     "elapsed": 918,
     "status": "ok",
     "timestamp": 1581780691763,
     "user": {
      "displayName": "Ashish Bansal",
      "photoUrl": "https://lh3.googleusercontent.com/a-/AAuE7mAl4f5AYg93L5LxheDY1qujFVeyESegUCfT5BYI0A=s64",
      "userId": "16202438904858005659"
     },
     "user_tz": -330
    },
    "hidden": true,
    "id": "a2GLYvvvTItw",
    "outputId": "90d09fcd-4e9f-47ea-a370-cca86d54c15f"
   },
   "outputs": [
    {
     "data": {
      "text/html": [
       "<div>\n",
       "<style scoped>\n",
       "    .dataframe tbody tr th:only-of-type {\n",
       "        vertical-align: middle;\n",
       "    }\n",
       "\n",
       "    .dataframe tbody tr th {\n",
       "        vertical-align: top;\n",
       "    }\n",
       "\n",
       "    .dataframe thead th {\n",
       "        text-align: right;\n",
       "    }\n",
       "</style>\n",
       "<table border=\"1\" class=\"dataframe\">\n",
       "  <thead>\n",
       "    <tr style=\"text-align: right;\">\n",
       "      <th></th>\n",
       "      <th>beer_id</th>\n",
       "      <th>rating_count</th>\n",
       "    </tr>\n",
       "  </thead>\n",
       "  <tbody>\n",
       "    <tr>\n",
       "      <td>0</td>\n",
       "      <td>2093</td>\n",
       "      <td>980</td>\n",
       "    </tr>\n",
       "    <tr>\n",
       "      <td>1</td>\n",
       "      <td>412</td>\n",
       "      <td>972</td>\n",
       "    </tr>\n",
       "    <tr>\n",
       "      <td>2</td>\n",
       "      <td>1904</td>\n",
       "      <td>903</td>\n",
       "    </tr>\n",
       "    <tr>\n",
       "      <td>3</td>\n",
       "      <td>1093</td>\n",
       "      <td>845</td>\n",
       "    </tr>\n",
       "    <tr>\n",
       "      <td>4</td>\n",
       "      <td>92</td>\n",
       "      <td>817</td>\n",
       "    </tr>\n",
       "    <tr>\n",
       "      <td>...</td>\n",
       "      <td>...</td>\n",
       "      <td>...</td>\n",
       "    </tr>\n",
       "    <tr>\n",
       "      <td>4251</td>\n",
       "      <td>47463</td>\n",
       "      <td>20</td>\n",
       "    </tr>\n",
       "    <tr>\n",
       "      <td>4252</td>\n",
       "      <td>58905</td>\n",
       "      <td>20</td>\n",
       "    </tr>\n",
       "    <tr>\n",
       "      <td>4253</td>\n",
       "      <td>63156</td>\n",
       "      <td>20</td>\n",
       "    </tr>\n",
       "    <tr>\n",
       "      <td>4254</td>\n",
       "      <td>48555</td>\n",
       "      <td>20</td>\n",
       "    </tr>\n",
       "    <tr>\n",
       "      <td>4255</td>\n",
       "      <td>3906</td>\n",
       "      <td>20</td>\n",
       "    </tr>\n",
       "  </tbody>\n",
       "</table>\n",
       "<p>4256 rows × 2 columns</p>\n",
       "</div>"
      ],
      "text/plain": [
       "      beer_id  rating_count\n",
       "0        2093           980\n",
       "1         412           972\n",
       "2        1904           903\n",
       "3        1093           845\n",
       "4          92           817\n",
       "...       ...           ...\n",
       "4251    47463            20\n",
       "4252    58905            20\n",
       "4253    63156            20\n",
       "4254    48555            20\n",
       "4255     3906            20\n",
       "\n",
       "[4256 rows x 2 columns]"
      ]
     },
     "execution_count": 21,
     "metadata": {},
     "output_type": "execute_result"
    }
   ],
   "source": [
    "#lets see no of beers having ratings more than and equal to 20\n",
    "beer_ratings[beer_ratings.rating_count >= 20]"
   ]
  },
  {
   "cell_type": "markdown",
   "metadata": {
    "colab_type": "text",
    "hidden": true,
    "id": "kBAI_rJGTIt_"
   },
   "source": [
    "As we can see we have more than 4200 beers which have ratings more than 20, so we will consider only these beers"
   ]
  },
  {
   "cell_type": "code",
   "execution_count": 22,
   "metadata": {
    "colab": {},
    "colab_type": "code",
    "hidden": true,
    "id": "mljHtCm4TIuG"
   },
   "outputs": [],
   "source": [
    "#getting beerids of beers having more than or equal to 20 ratings\n",
    "beer_ids = beer_ratings[beer_ratings.rating_count >= 20]['beer_id']"
   ]
  },
  {
   "cell_type": "code",
   "execution_count": 23,
   "metadata": {
    "colab": {},
    "colab_type": "code",
    "hidden": true,
    "id": "q4mma5OpTIuc"
   },
   "outputs": [],
   "source": [
    "#selecting only beers having no of ratings more than or equal to 20\n",
    "beer = beer[beer.beer_beerid.isin(beer_ids)]"
   ]
  },
  {
   "cell_type": "code",
   "execution_count": 24,
   "metadata": {
    "colab": {
     "base_uri": "https://localhost:8080/",
     "height": 34
    },
    "colab_type": "code",
    "executionInfo": {
     "elapsed": 799,
     "status": "ok",
     "timestamp": 1581780729932,
     "user": {
      "displayName": "Ashish Bansal",
      "photoUrl": "https://lh3.googleusercontent.com/a-/AAuE7mAl4f5AYg93L5LxheDY1qujFVeyESegUCfT5BYI0A=s64",
      "userId": "16202438904858005659"
     },
     "user_tz": -330
    },
    "hidden": true,
    "id": "-8HGEAjcTIuv",
    "outputId": "2fa5d6ab-ad42-4773-958f-ae3acc9e2dc2"
   },
   "outputs": [
    {
     "data": {
      "text/plain": [
       "(364475, 3)"
      ]
     },
     "execution_count": 24,
     "metadata": {},
     "output_type": "execute_result"
    }
   ],
   "source": [
    "#checking the shape of this new beer dataframe\n",
    "beer.shape"
   ]
  },
  {
   "cell_type": "markdown",
   "metadata": {
    "colab_type": "text",
    "heading_collapsed": true,
    "id": "FAOHibDjTIu_"
   },
   "source": [
    "### Data Exploration"
   ]
  },
  {
   "cell_type": "markdown",
   "metadata": {
    "colab_type": "text",
    "hidden": true,
    "id": "f67ajL_HTIvA"
   },
   "source": [
    "1. What are the unique values of ratings?"
   ]
  },
  {
   "cell_type": "code",
   "execution_count": 25,
   "metadata": {
    "colab": {
     "base_uri": "https://localhost:8080/",
     "height": 84
    },
    "colab_type": "code",
    "executionInfo": {
     "elapsed": 918,
     "status": "ok",
     "timestamp": 1581780735626,
     "user": {
      "displayName": "Ashish Bansal",
      "photoUrl": "https://lh3.googleusercontent.com/a-/AAuE7mAl4f5AYg93L5LxheDY1qujFVeyESegUCfT5BYI0A=s64",
      "userId": "16202438904858005659"
     },
     "user_tz": -330
    },
    "hidden": true,
    "id": "KRXKPh70TIvD",
    "outputId": "462c9d1f-899f-44e7-f506-0bd725b61ea2"
   },
   "outputs": [
    {
     "data": {
      "text/plain": [
       "beer_beerid            4256\n",
       "review_profilename    20680\n",
       "review_overall            9\n",
       "dtype: int64"
      ]
     },
     "execution_count": 25,
     "metadata": {},
     "output_type": "execute_result"
    }
   ],
   "source": [
    "beer.nunique()"
   ]
  },
  {
   "cell_type": "code",
   "execution_count": 26,
   "metadata": {
    "colab": {
     "base_uri": "https://localhost:8080/",
     "height": 34
    },
    "colab_type": "code",
    "executionInfo": {
     "elapsed": 1461,
     "status": "ok",
     "timestamp": 1581780743165,
     "user": {
      "displayName": "Ashish Bansal",
      "photoUrl": "https://lh3.googleusercontent.com/a-/AAuE7mAl4f5AYg93L5LxheDY1qujFVeyESegUCfT5BYI0A=s64",
      "userId": "16202438904858005659"
     },
     "user_tz": -330
    },
    "hidden": true,
    "id": "LElxxnJ3TIvI",
    "outputId": "52f08e3b-1a37-4539-aaa4-37869fb697af"
   },
   "outputs": [
    {
     "data": {
      "text/plain": [
       "[1.0, 1.5, 2.0, 2.5, 3.0, 3.5, 4.0, 4.5, 5.0]"
      ]
     },
     "execution_count": 26,
     "metadata": {},
     "output_type": "execute_result"
    }
   ],
   "source": [
    "#checking the unique value of ratings\n",
    "sorted(beer.review_overall.unique())"
   ]
  },
  {
   "cell_type": "markdown",
   "metadata": {
    "colab_type": "text",
    "hidden": true,
    "id": "vvwR4KekTIvN"
   },
   "source": [
    "As we can see we have 9 unique values of ratings ranging from 1.0 to 5.0"
   ]
  },
  {
   "cell_type": "markdown",
   "metadata": {
    "colab_type": "text",
    "hidden": true,
    "id": "KoTzIh6fTIvP"
   },
   "source": [
    "2. Visualise the rating values and notice:\n",
    "    - The average beer ratings\n",
    "    - The average user ratings\n",
    "    - The average number of ratings given to the beers\n",
    "    - The average number of ratings given by the users"
   ]
  },
  {
   "cell_type": "code",
   "execution_count": 27,
   "metadata": {
    "hidden": true
   },
   "outputs": [
    {
     "data": {
      "text/plain": [
       "3.7749328732440266"
      ]
     },
     "execution_count": 27,
     "metadata": {},
     "output_type": "execute_result"
    }
   ],
   "source": [
    "#average beer ratings\n",
    "np.mean(beer.groupby('beer_beerid')['review_overall'].mean())"
   ]
  },
  {
   "cell_type": "code",
   "execution_count": 28,
   "metadata": {
    "hidden": true
   },
   "outputs": [
    {
     "data": {
      "text/plain": [
       "3.93018249171174"
      ]
     },
     "execution_count": 28,
     "metadata": {},
     "output_type": "execute_result"
    }
   ],
   "source": [
    "#average user ratings\n",
    "np.mean(beer.groupby('review_profilename')['review_overall'].mean())"
   ]
  },
  {
   "cell_type": "code",
   "execution_count": 29,
   "metadata": {
    "hidden": true
   },
   "outputs": [
    {
     "data": {
      "text/plain": [
       "85.63792293233082"
      ]
     },
     "execution_count": 29,
     "metadata": {},
     "output_type": "execute_result"
    }
   ],
   "source": [
    "#average no of ratings given to the beer\n",
    "np.mean(beer.groupby('beer_beerid')['beer_beerid'].count())"
   ]
  },
  {
   "cell_type": "code",
   "execution_count": 30,
   "metadata": {
    "hidden": true
   },
   "outputs": [
    {
     "data": {
      "text/plain": [
       "17.624516441005802"
      ]
     },
     "execution_count": 30,
     "metadata": {},
     "output_type": "execute_result"
    }
   ],
   "source": [
    "#average no of ratings given by the user\n",
    "np.mean(beer.groupby('review_profilename')['review_profilename'].count())"
   ]
  },
  {
   "cell_type": "markdown",
   "metadata": {
    "colab_type": "text",
    "heading_collapsed": true,
    "id": "ypEJnVf1TIvR"
   },
   "source": [
    "## Modelling"
   ]
  },
  {
   "cell_type": "markdown",
   "metadata": {
    "colab_type": "text",
    "hidden": true,
    "id": "lGhObtujTIvV"
   },
   "source": [
    "### Dividing the dataset into train and test"
   ]
  },
  {
   "cell_type": "code",
   "execution_count": 31,
   "metadata": {
    "colab": {
     "base_uri": "https://localhost:8080/",
     "height": 195
    },
    "colab_type": "code",
    "executionInfo": {
     "elapsed": 1060,
     "status": "ok",
     "timestamp": 1581780753560,
     "user": {
      "displayName": "Ashish Bansal",
      "photoUrl": "https://lh3.googleusercontent.com/a-/AAuE7mAl4f5AYg93L5LxheDY1qujFVeyESegUCfT5BYI0A=s64",
      "userId": "16202438904858005659"
     },
     "user_tz": -330
    },
    "hidden": true,
    "id": "8iGy5WG6TIvX",
    "outputId": "7214aac0-6053-42bb-c11d-b11bd31889ba"
   },
   "outputs": [
    {
     "data": {
      "text/html": [
       "<div>\n",
       "<style scoped>\n",
       "    .dataframe tbody tr th:only-of-type {\n",
       "        vertical-align: middle;\n",
       "    }\n",
       "\n",
       "    .dataframe tbody tr th {\n",
       "        vertical-align: top;\n",
       "    }\n",
       "\n",
       "    .dataframe thead th {\n",
       "        text-align: right;\n",
       "    }\n",
       "</style>\n",
       "<table border=\"1\" class=\"dataframe\">\n",
       "  <thead>\n",
       "    <tr style=\"text-align: right;\">\n",
       "      <th></th>\n",
       "      <th>beer_beerid</th>\n",
       "      <th>review_profilename</th>\n",
       "      <th>review_overall</th>\n",
       "    </tr>\n",
       "  </thead>\n",
       "  <tbody>\n",
       "    <tr>\n",
       "      <td>12</td>\n",
       "      <td>436</td>\n",
       "      <td>Brent</td>\n",
       "      <td>3.0</td>\n",
       "    </tr>\n",
       "    <tr>\n",
       "      <td>18</td>\n",
       "      <td>25414</td>\n",
       "      <td>NJpadreFan</td>\n",
       "      <td>4.0</td>\n",
       "    </tr>\n",
       "    <tr>\n",
       "      <td>19</td>\n",
       "      <td>25414</td>\n",
       "      <td>vacax</td>\n",
       "      <td>2.5</td>\n",
       "    </tr>\n",
       "    <tr>\n",
       "      <td>20</td>\n",
       "      <td>25414</td>\n",
       "      <td>mikesgroove</td>\n",
       "      <td>4.0</td>\n",
       "    </tr>\n",
       "    <tr>\n",
       "      <td>21</td>\n",
       "      <td>25414</td>\n",
       "      <td>hdofu</td>\n",
       "      <td>4.0</td>\n",
       "    </tr>\n",
       "  </tbody>\n",
       "</table>\n",
       "</div>"
      ],
      "text/plain": [
       "    beer_beerid review_profilename  review_overall\n",
       "12          436              Brent             3.0\n",
       "18        25414         NJpadreFan             4.0\n",
       "19        25414              vacax             2.5\n",
       "20        25414        mikesgroove             4.0\n",
       "21        25414              hdofu             4.0"
      ]
     },
     "execution_count": 31,
     "metadata": {},
     "output_type": "execute_result"
    }
   ],
   "source": [
    "beer.head()"
   ]
  },
  {
   "cell_type": "code",
   "execution_count": 32,
   "metadata": {
    "colab": {},
    "colab_type": "code",
    "hidden": true,
    "id": "wzog_kqiTIvd"
   },
   "outputs": [],
   "source": [
    "#split the data\n",
    "from sklearn.model_selection import train_test_split\n",
    "train, test = train_test_split(beer, test_size=0.30, random_state=31)"
   ]
  },
  {
   "cell_type": "code",
   "execution_count": 33,
   "metadata": {
    "colab": {
     "base_uri": "https://localhost:8080/",
     "height": 50
    },
    "colab_type": "code",
    "executionInfo": {
     "elapsed": 728,
     "status": "ok",
     "timestamp": 1581780790251,
     "user": {
      "displayName": "Ashish Bansal",
      "photoUrl": "https://lh3.googleusercontent.com/a-/AAuE7mAl4f5AYg93L5LxheDY1qujFVeyESegUCfT5BYI0A=s64",
      "userId": "16202438904858005659"
     },
     "user_tz": -330
    },
    "hidden": true,
    "id": "IS9Lo7YiTIvh",
    "outputId": "4ad6488b-d3bd-459e-c0b1-b48beb54e0fa"
   },
   "outputs": [
    {
     "name": "stdout",
     "output_type": "stream",
     "text": [
      "(255132, 3)\n",
      "(109343, 3)\n"
     ]
    }
   ],
   "source": [
    "print(train.shape)\n",
    "print(test.shape)"
   ]
  },
  {
   "cell_type": "code",
   "execution_count": 34,
   "metadata": {
    "colab": {},
    "colab_type": "code",
    "hidden": true,
    "id": "4p2JonoPTIvm"
   },
   "outputs": [],
   "source": [
    "# pivot the data into beer_features\n",
    "beer_features = train.pivot_table(\n",
    "    index='review_profilename',\n",
    "    columns='beer_beerid',\n",
    "    values='review_overall',\n",
    "    fill_value=0)"
   ]
  },
  {
   "cell_type": "code",
   "execution_count": 35,
   "metadata": {
    "colab": {
     "base_uri": "https://localhost:8080/",
     "height": 34
    },
    "colab_type": "code",
    "executionInfo": {
     "elapsed": 1223,
     "status": "ok",
     "timestamp": 1581780812431,
     "user": {
      "displayName": "Ashish Bansal",
      "photoUrl": "https://lh3.googleusercontent.com/a-/AAuE7mAl4f5AYg93L5LxheDY1qujFVeyESegUCfT5BYI0A=s64",
      "userId": "16202438904858005659"
     },
     "user_tz": -330
    },
    "hidden": true,
    "id": "Nv-GObXxTIvq",
    "outputId": "47a8b146-bfdd-45e0-f389-d763014870a0"
   },
   "outputs": [
    {
     "data": {
      "text/plain": [
       "(18178, 4256)"
      ]
     },
     "execution_count": 35,
     "metadata": {},
     "output_type": "execute_result"
    }
   ],
   "source": [
    "#checking the shape\n",
    "beer_features.shape"
   ]
  },
  {
   "cell_type": "code",
   "execution_count": 36,
   "metadata": {
    "colab": {
     "base_uri": "https://localhost:8080/",
     "height": 274
    },
    "colab_type": "code",
    "executionInfo": {
     "elapsed": 1302,
     "status": "ok",
     "timestamp": 1581780814505,
     "user": {
      "displayName": "Ashish Bansal",
      "photoUrl": "https://lh3.googleusercontent.com/a-/AAuE7mAl4f5AYg93L5LxheDY1qujFVeyESegUCfT5BYI0A=s64",
      "userId": "16202438904858005659"
     },
     "user_tz": -330
    },
    "hidden": true,
    "id": "AOHvXiXVTIvu",
    "outputId": "3ad9be61-9efc-4fd6-e390-020a3928b1e5"
   },
   "outputs": [
    {
     "data": {
      "text/html": [
       "<div>\n",
       "<style scoped>\n",
       "    .dataframe tbody tr th:only-of-type {\n",
       "        vertical-align: middle;\n",
       "    }\n",
       "\n",
       "    .dataframe tbody tr th {\n",
       "        vertical-align: top;\n",
       "    }\n",
       "\n",
       "    .dataframe thead th {\n",
       "        text-align: right;\n",
       "    }\n",
       "</style>\n",
       "<table border=\"1\" class=\"dataframe\">\n",
       "  <thead>\n",
       "    <tr style=\"text-align: right;\">\n",
       "      <th>beer_beerid</th>\n",
       "      <th>5</th>\n",
       "      <th>6</th>\n",
       "      <th>7</th>\n",
       "      <th>8</th>\n",
       "      <th>9</th>\n",
       "      <th>10</th>\n",
       "      <th>11</th>\n",
       "      <th>12</th>\n",
       "      <th>13</th>\n",
       "      <th>14</th>\n",
       "      <th>...</th>\n",
       "      <th>74548</th>\n",
       "      <th>74579</th>\n",
       "      <th>74591</th>\n",
       "      <th>74783</th>\n",
       "      <th>74827</th>\n",
       "      <th>74904</th>\n",
       "      <th>74986</th>\n",
       "      <th>75013</th>\n",
       "      <th>75086</th>\n",
       "      <th>76144</th>\n",
       "    </tr>\n",
       "    <tr>\n",
       "      <th>review_profilename</th>\n",
       "      <th></th>\n",
       "      <th></th>\n",
       "      <th></th>\n",
       "      <th></th>\n",
       "      <th></th>\n",
       "      <th></th>\n",
       "      <th></th>\n",
       "      <th></th>\n",
       "      <th></th>\n",
       "      <th></th>\n",
       "      <th></th>\n",
       "      <th></th>\n",
       "      <th></th>\n",
       "      <th></th>\n",
       "      <th></th>\n",
       "      <th></th>\n",
       "      <th></th>\n",
       "      <th></th>\n",
       "      <th></th>\n",
       "      <th></th>\n",
       "      <th></th>\n",
       "    </tr>\n",
       "  </thead>\n",
       "  <tbody>\n",
       "    <tr>\n",
       "      <td>0110x011</td>\n",
       "      <td>0.0</td>\n",
       "      <td>0.0</td>\n",
       "      <td>0.0</td>\n",
       "      <td>0.0</td>\n",
       "      <td>0.0</td>\n",
       "      <td>0.0</td>\n",
       "      <td>0.0</td>\n",
       "      <td>0.0</td>\n",
       "      <td>0.0</td>\n",
       "      <td>0.0</td>\n",
       "      <td>...</td>\n",
       "      <td>0.0</td>\n",
       "      <td>0.0</td>\n",
       "      <td>0.0</td>\n",
       "      <td>0.0</td>\n",
       "      <td>0.0</td>\n",
       "      <td>0.0</td>\n",
       "      <td>0.0</td>\n",
       "      <td>0.0</td>\n",
       "      <td>0.0</td>\n",
       "      <td>0.0</td>\n",
       "    </tr>\n",
       "    <tr>\n",
       "      <td>01Ryan10</td>\n",
       "      <td>0.0</td>\n",
       "      <td>0.0</td>\n",
       "      <td>0.0</td>\n",
       "      <td>0.0</td>\n",
       "      <td>0.0</td>\n",
       "      <td>0.0</td>\n",
       "      <td>0.0</td>\n",
       "      <td>0.0</td>\n",
       "      <td>0.0</td>\n",
       "      <td>0.0</td>\n",
       "      <td>...</td>\n",
       "      <td>0.0</td>\n",
       "      <td>0.0</td>\n",
       "      <td>0.0</td>\n",
       "      <td>0.0</td>\n",
       "      <td>0.0</td>\n",
       "      <td>0.0</td>\n",
       "      <td>0.0</td>\n",
       "      <td>0.0</td>\n",
       "      <td>0.0</td>\n",
       "      <td>0.0</td>\n",
       "    </tr>\n",
       "    <tr>\n",
       "      <td>04101Brewer</td>\n",
       "      <td>0.0</td>\n",
       "      <td>0.0</td>\n",
       "      <td>0.0</td>\n",
       "      <td>0.0</td>\n",
       "      <td>0.0</td>\n",
       "      <td>0.0</td>\n",
       "      <td>0.0</td>\n",
       "      <td>0.0</td>\n",
       "      <td>0.0</td>\n",
       "      <td>0.0</td>\n",
       "      <td>...</td>\n",
       "      <td>0.0</td>\n",
       "      <td>0.0</td>\n",
       "      <td>0.0</td>\n",
       "      <td>0.0</td>\n",
       "      <td>0.0</td>\n",
       "      <td>0.0</td>\n",
       "      <td>0.0</td>\n",
       "      <td>0.0</td>\n",
       "      <td>0.0</td>\n",
       "      <td>0.0</td>\n",
       "    </tr>\n",
       "    <tr>\n",
       "      <td>05Harley</td>\n",
       "      <td>0.0</td>\n",
       "      <td>0.0</td>\n",
       "      <td>0.0</td>\n",
       "      <td>0.0</td>\n",
       "      <td>0.0</td>\n",
       "      <td>0.0</td>\n",
       "      <td>0.0</td>\n",
       "      <td>0.0</td>\n",
       "      <td>0.0</td>\n",
       "      <td>0.0</td>\n",
       "      <td>...</td>\n",
       "      <td>0.0</td>\n",
       "      <td>0.0</td>\n",
       "      <td>0.0</td>\n",
       "      <td>0.0</td>\n",
       "      <td>0.0</td>\n",
       "      <td>0.0</td>\n",
       "      <td>0.0</td>\n",
       "      <td>0.0</td>\n",
       "      <td>0.0</td>\n",
       "      <td>0.0</td>\n",
       "    </tr>\n",
       "    <tr>\n",
       "      <td>0beerguy0</td>\n",
       "      <td>0.0</td>\n",
       "      <td>0.0</td>\n",
       "      <td>0.0</td>\n",
       "      <td>0.0</td>\n",
       "      <td>0.0</td>\n",
       "      <td>0.0</td>\n",
       "      <td>0.0</td>\n",
       "      <td>0.0</td>\n",
       "      <td>0.0</td>\n",
       "      <td>0.0</td>\n",
       "      <td>...</td>\n",
       "      <td>0.0</td>\n",
       "      <td>0.0</td>\n",
       "      <td>0.0</td>\n",
       "      <td>0.0</td>\n",
       "      <td>0.0</td>\n",
       "      <td>0.0</td>\n",
       "      <td>0.0</td>\n",
       "      <td>0.0</td>\n",
       "      <td>0.0</td>\n",
       "      <td>0.0</td>\n",
       "    </tr>\n",
       "  </tbody>\n",
       "</table>\n",
       "<p>5 rows × 4256 columns</p>\n",
       "</div>"
      ],
      "text/plain": [
       "beer_beerid         5      6      7      8      9      10     11     12     \\\n",
       "review_profilename                                                           \n",
       "0110x011              0.0    0.0    0.0    0.0    0.0    0.0    0.0    0.0   \n",
       "01Ryan10              0.0    0.0    0.0    0.0    0.0    0.0    0.0    0.0   \n",
       "04101Brewer           0.0    0.0    0.0    0.0    0.0    0.0    0.0    0.0   \n",
       "05Harley              0.0    0.0    0.0    0.0    0.0    0.0    0.0    0.0   \n",
       "0beerguy0             0.0    0.0    0.0    0.0    0.0    0.0    0.0    0.0   \n",
       "\n",
       "beer_beerid         13     14     ...  74548  74579  74591  74783  74827  \\\n",
       "review_profilename                ...                                      \n",
       "0110x011              0.0    0.0  ...    0.0    0.0    0.0    0.0    0.0   \n",
       "01Ryan10              0.0    0.0  ...    0.0    0.0    0.0    0.0    0.0   \n",
       "04101Brewer           0.0    0.0  ...    0.0    0.0    0.0    0.0    0.0   \n",
       "05Harley              0.0    0.0  ...    0.0    0.0    0.0    0.0    0.0   \n",
       "0beerguy0             0.0    0.0  ...    0.0    0.0    0.0    0.0    0.0   \n",
       "\n",
       "beer_beerid         74904  74986  75013  75086  76144  \n",
       "review_profilename                                     \n",
       "0110x011              0.0    0.0    0.0    0.0    0.0  \n",
       "01Ryan10              0.0    0.0    0.0    0.0    0.0  \n",
       "04101Brewer           0.0    0.0    0.0    0.0    0.0  \n",
       "05Harley              0.0    0.0    0.0    0.0    0.0  \n",
       "0beerguy0             0.0    0.0    0.0    0.0    0.0  \n",
       "\n",
       "[5 rows x 4256 columns]"
      ]
     },
     "execution_count": 36,
     "metadata": {},
     "output_type": "execute_result"
    }
   ],
   "source": [
    "#checking the head\n",
    "beer_features.head()"
   ]
  },
  {
   "cell_type": "markdown",
   "metadata": {
    "colab_type": "text",
    "heading_collapsed": true,
    "hidden": true,
    "id": "UA13D0bDTIv0"
   },
   "source": [
    "### Copy train and test dataset"
   ]
  },
  {
   "cell_type": "markdown",
   "metadata": {
    "hidden": true
   },
   "source": [
    "These dataset will be used for prediction and evaluation. \n",
    "- Dummy train will be used later for prediction of the beers which has not been rated by the user. To ignore the beers rated by the user, we will mark it as 0 during prediction. The beers not rated by user is marked as 1 for prediction. \n",
    "- Dummy test will be used for evaluation. To evaluate, we will only make prediction on the beers rated by the user. So, this is marked as 1. This is just opposite of dummy_train"
   ]
  },
  {
   "cell_type": "code",
   "execution_count": 37,
   "metadata": {
    "colab": {},
    "colab_type": "code",
    "hidden": true,
    "id": "7mjGaEw9TIv1"
   },
   "outputs": [],
   "source": [
    "dummy_train = train.copy()\n",
    "dummy_test = test.copy()"
   ]
  },
  {
   "cell_type": "code",
   "execution_count": 38,
   "metadata": {
    "colab": {},
    "colab_type": "code",
    "hidden": true,
    "id": "_JLswTMBTIv4"
   },
   "outputs": [],
   "source": [
    "#changing values to 0 and 1 based on the rules above\n",
    "dummy_train['review_overall'] = dummy_train['review_overall'].apply(lambda x: 0 if x>=1 else 1)\n",
    "dummy_test['review_overall'] = dummy_test['review_overall'].apply(lambda x: 1 if x>=1 else 0)"
   ]
  },
  {
   "cell_type": "code",
   "execution_count": 39,
   "metadata": {
    "colab": {},
    "colab_type": "code",
    "hidden": true,
    "id": "LYlrFTplTIv7"
   },
   "outputs": [],
   "source": [
    "# The beers not rated by user is marked as 1 for prediction. \n",
    "dummy_train = dummy_train.pivot_table(\n",
    "    index='review_profilename',\n",
    "    columns='beer_beerid',\n",
    "    values='review_overall',\n",
    "    fill_value= 1)\n",
    "\n",
    "# The beers not rated by user is marked as 0 for evaluation. \n",
    "dummy_test = dummy_test.pivot_table(\n",
    "    index='review_profilename',\n",
    "    columns='beer_beerid',\n",
    "    values='review_overall',\n",
    "    fill_value= 0)"
   ]
  },
  {
   "cell_type": "markdown",
   "metadata": {
    "colab_type": "text",
    "heading_collapsed": true,
    "id": "H85sYKmhTIwK"
   },
   "source": [
    "## User Similarity Matrix"
   ]
  },
  {
   "cell_type": "markdown",
   "metadata": {
    "colab_type": "text",
    "hidden": true,
    "id": "CMFufVOSTIwL"
   },
   "source": [
    "#### Using Cosine Similarity"
   ]
  },
  {
   "cell_type": "code",
   "execution_count": 40,
   "metadata": {
    "colab": {
     "base_uri": "https://localhost:8080/",
     "height": 134
    },
    "colab_type": "code",
    "executionInfo": {
     "elapsed": 40764,
     "status": "ok",
     "timestamp": 1581780885033,
     "user": {
      "displayName": "Ashish Bansal",
      "photoUrl": "https://lh3.googleusercontent.com/a-/AAuE7mAl4f5AYg93L5LxheDY1qujFVeyESegUCfT5BYI0A=s64",
      "userId": "16202438904858005659"
     },
     "user_tz": -330
    },
    "hidden": true,
    "id": "09QfAy49TIwM",
    "outputId": "c0ff0da5-1600-4e77-bef9-c8d0c62f2f0e"
   },
   "outputs": [
    {
     "name": "stdout",
     "output_type": "stream",
     "text": [
      "[[1. 0. 0. ... 0. 0. 0.]\n",
      " [0. 1. 0. ... 0. 0. 0.]\n",
      " [0. 0. 1. ... 0. 0. 0.]\n",
      " ...\n",
      " [0. 0. 0. ... 1. 0. 0.]\n",
      " [0. 0. 0. ... 0. 1. 0.]\n",
      " [0. 0. 0. ... 0. 0. 1.]]\n"
     ]
    }
   ],
   "source": [
    "from sklearn.metrics.pairwise import pairwise_distances\n",
    "\n",
    "# User Similarity Matrix\n",
    "user_correlation = 1 - pairwise_distances(beer_features, metric='cosine')\n",
    "user_correlation[np.isnan(user_correlation)] = 0\n",
    "print(user_correlation)"
   ]
  },
  {
   "cell_type": "code",
   "execution_count": 41,
   "metadata": {
    "colab": {
     "base_uri": "https://localhost:8080/",
     "height": 34
    },
    "colab_type": "code",
    "executionInfo": {
     "elapsed": 40448,
     "status": "ok",
     "timestamp": 1581780885037,
     "user": {
      "displayName": "Ashish Bansal",
      "photoUrl": "https://lh3.googleusercontent.com/a-/AAuE7mAl4f5AYg93L5LxheDY1qujFVeyESegUCfT5BYI0A=s64",
      "userId": "16202438904858005659"
     },
     "user_tz": -330
    },
    "hidden": true,
    "id": "9ROcJp9zTIwP",
    "outputId": "fd713085-9122-480d-960f-f36fd010ec18"
   },
   "outputs": [
    {
     "data": {
      "text/plain": [
       "(18178, 18178)"
      ]
     },
     "execution_count": 41,
     "metadata": {},
     "output_type": "execute_result"
    }
   ],
   "source": [
    "user_correlation.shape"
   ]
  },
  {
   "cell_type": "markdown",
   "metadata": {
    "colab_type": "text",
    "hidden": true,
    "id": "NTeAfmnhTIwY"
   },
   "source": [
    "#### Using adjusted Cosine "
   ]
  },
  {
   "cell_type": "markdown",
   "metadata": {
    "colab_type": "text",
    "hidden": true,
    "id": "A0X3wjryTIwZ"
   },
   "source": [
    "Here, not removing the NaN values and calculating the mean only for the beers rated by the user"
   ]
  },
  {
   "cell_type": "code",
   "execution_count": 42,
   "metadata": {
    "colab": {},
    "colab_type": "code",
    "hidden": true,
    "id": "Ig-1KsLaTIwa"
   },
   "outputs": [],
   "source": [
    "#creating the train dataframe again\n",
    "beer_features_1 = train.pivot_table(\n",
    "    index='review_profilename',\n",
    "    columns='beer_beerid',\n",
    "    values='review_overall'\n",
    ")"
   ]
  },
  {
   "cell_type": "code",
   "execution_count": 43,
   "metadata": {
    "colab": {
     "base_uri": "https://localhost:8080/",
     "height": 274
    },
    "colab_type": "code",
    "executionInfo": {
     "elapsed": 39056,
     "status": "ok",
     "timestamp": 1581780885990,
     "user": {
      "displayName": "Ashish Bansal",
      "photoUrl": "https://lh3.googleusercontent.com/a-/AAuE7mAl4f5AYg93L5LxheDY1qujFVeyESegUCfT5BYI0A=s64",
      "userId": "16202438904858005659"
     },
     "user_tz": -330
    },
    "hidden": true,
    "id": "GbMzwJ3tTIwd",
    "outputId": "83ab56df-77a7-43e0-cc93-09c6866e6c3a"
   },
   "outputs": [
    {
     "data": {
      "text/html": [
       "<div>\n",
       "<style scoped>\n",
       "    .dataframe tbody tr th:only-of-type {\n",
       "        vertical-align: middle;\n",
       "    }\n",
       "\n",
       "    .dataframe tbody tr th {\n",
       "        vertical-align: top;\n",
       "    }\n",
       "\n",
       "    .dataframe thead th {\n",
       "        text-align: right;\n",
       "    }\n",
       "</style>\n",
       "<table border=\"1\" class=\"dataframe\">\n",
       "  <thead>\n",
       "    <tr style=\"text-align: right;\">\n",
       "      <th>beer_beerid</th>\n",
       "      <th>5</th>\n",
       "      <th>6</th>\n",
       "      <th>7</th>\n",
       "      <th>8</th>\n",
       "      <th>9</th>\n",
       "      <th>10</th>\n",
       "      <th>11</th>\n",
       "      <th>12</th>\n",
       "      <th>13</th>\n",
       "      <th>14</th>\n",
       "      <th>...</th>\n",
       "      <th>74548</th>\n",
       "      <th>74579</th>\n",
       "      <th>74591</th>\n",
       "      <th>74783</th>\n",
       "      <th>74827</th>\n",
       "      <th>74904</th>\n",
       "      <th>74986</th>\n",
       "      <th>75013</th>\n",
       "      <th>75086</th>\n",
       "      <th>76144</th>\n",
       "    </tr>\n",
       "    <tr>\n",
       "      <th>review_profilename</th>\n",
       "      <th></th>\n",
       "      <th></th>\n",
       "      <th></th>\n",
       "      <th></th>\n",
       "      <th></th>\n",
       "      <th></th>\n",
       "      <th></th>\n",
       "      <th></th>\n",
       "      <th></th>\n",
       "      <th></th>\n",
       "      <th></th>\n",
       "      <th></th>\n",
       "      <th></th>\n",
       "      <th></th>\n",
       "      <th></th>\n",
       "      <th></th>\n",
       "      <th></th>\n",
       "      <th></th>\n",
       "      <th></th>\n",
       "      <th></th>\n",
       "      <th></th>\n",
       "    </tr>\n",
       "  </thead>\n",
       "  <tbody>\n",
       "    <tr>\n",
       "      <td>0110x011</td>\n",
       "      <td>NaN</td>\n",
       "      <td>NaN</td>\n",
       "      <td>NaN</td>\n",
       "      <td>NaN</td>\n",
       "      <td>NaN</td>\n",
       "      <td>NaN</td>\n",
       "      <td>NaN</td>\n",
       "      <td>NaN</td>\n",
       "      <td>NaN</td>\n",
       "      <td>NaN</td>\n",
       "      <td>...</td>\n",
       "      <td>NaN</td>\n",
       "      <td>NaN</td>\n",
       "      <td>NaN</td>\n",
       "      <td>NaN</td>\n",
       "      <td>NaN</td>\n",
       "      <td>NaN</td>\n",
       "      <td>NaN</td>\n",
       "      <td>NaN</td>\n",
       "      <td>NaN</td>\n",
       "      <td>NaN</td>\n",
       "    </tr>\n",
       "    <tr>\n",
       "      <td>01Ryan10</td>\n",
       "      <td>NaN</td>\n",
       "      <td>NaN</td>\n",
       "      <td>NaN</td>\n",
       "      <td>NaN</td>\n",
       "      <td>NaN</td>\n",
       "      <td>NaN</td>\n",
       "      <td>NaN</td>\n",
       "      <td>NaN</td>\n",
       "      <td>NaN</td>\n",
       "      <td>NaN</td>\n",
       "      <td>...</td>\n",
       "      <td>NaN</td>\n",
       "      <td>NaN</td>\n",
       "      <td>NaN</td>\n",
       "      <td>NaN</td>\n",
       "      <td>NaN</td>\n",
       "      <td>NaN</td>\n",
       "      <td>NaN</td>\n",
       "      <td>NaN</td>\n",
       "      <td>NaN</td>\n",
       "      <td>NaN</td>\n",
       "    </tr>\n",
       "    <tr>\n",
       "      <td>04101Brewer</td>\n",
       "      <td>NaN</td>\n",
       "      <td>NaN</td>\n",
       "      <td>NaN</td>\n",
       "      <td>NaN</td>\n",
       "      <td>NaN</td>\n",
       "      <td>NaN</td>\n",
       "      <td>NaN</td>\n",
       "      <td>NaN</td>\n",
       "      <td>NaN</td>\n",
       "      <td>NaN</td>\n",
       "      <td>...</td>\n",
       "      <td>NaN</td>\n",
       "      <td>NaN</td>\n",
       "      <td>NaN</td>\n",
       "      <td>NaN</td>\n",
       "      <td>NaN</td>\n",
       "      <td>NaN</td>\n",
       "      <td>NaN</td>\n",
       "      <td>NaN</td>\n",
       "      <td>NaN</td>\n",
       "      <td>NaN</td>\n",
       "    </tr>\n",
       "    <tr>\n",
       "      <td>05Harley</td>\n",
       "      <td>NaN</td>\n",
       "      <td>NaN</td>\n",
       "      <td>NaN</td>\n",
       "      <td>NaN</td>\n",
       "      <td>NaN</td>\n",
       "      <td>NaN</td>\n",
       "      <td>NaN</td>\n",
       "      <td>NaN</td>\n",
       "      <td>NaN</td>\n",
       "      <td>NaN</td>\n",
       "      <td>...</td>\n",
       "      <td>NaN</td>\n",
       "      <td>NaN</td>\n",
       "      <td>NaN</td>\n",
       "      <td>NaN</td>\n",
       "      <td>NaN</td>\n",
       "      <td>NaN</td>\n",
       "      <td>NaN</td>\n",
       "      <td>NaN</td>\n",
       "      <td>NaN</td>\n",
       "      <td>NaN</td>\n",
       "    </tr>\n",
       "    <tr>\n",
       "      <td>0beerguy0</td>\n",
       "      <td>NaN</td>\n",
       "      <td>NaN</td>\n",
       "      <td>NaN</td>\n",
       "      <td>NaN</td>\n",
       "      <td>NaN</td>\n",
       "      <td>NaN</td>\n",
       "      <td>NaN</td>\n",
       "      <td>NaN</td>\n",
       "      <td>NaN</td>\n",
       "      <td>NaN</td>\n",
       "      <td>...</td>\n",
       "      <td>NaN</td>\n",
       "      <td>NaN</td>\n",
       "      <td>NaN</td>\n",
       "      <td>NaN</td>\n",
       "      <td>NaN</td>\n",
       "      <td>NaN</td>\n",
       "      <td>NaN</td>\n",
       "      <td>NaN</td>\n",
       "      <td>NaN</td>\n",
       "      <td>NaN</td>\n",
       "    </tr>\n",
       "  </tbody>\n",
       "</table>\n",
       "<p>5 rows × 4256 columns</p>\n",
       "</div>"
      ],
      "text/plain": [
       "beer_beerid         5      6      7      8      9      10     11     12     \\\n",
       "review_profilename                                                           \n",
       "0110x011              NaN    NaN    NaN    NaN    NaN    NaN    NaN    NaN   \n",
       "01Ryan10              NaN    NaN    NaN    NaN    NaN    NaN    NaN    NaN   \n",
       "04101Brewer           NaN    NaN    NaN    NaN    NaN    NaN    NaN    NaN   \n",
       "05Harley              NaN    NaN    NaN    NaN    NaN    NaN    NaN    NaN   \n",
       "0beerguy0             NaN    NaN    NaN    NaN    NaN    NaN    NaN    NaN   \n",
       "\n",
       "beer_beerid         13     14     ...  74548  74579  74591  74783  74827  \\\n",
       "review_profilename                ...                                      \n",
       "0110x011              NaN    NaN  ...    NaN    NaN    NaN    NaN    NaN   \n",
       "01Ryan10              NaN    NaN  ...    NaN    NaN    NaN    NaN    NaN   \n",
       "04101Brewer           NaN    NaN  ...    NaN    NaN    NaN    NaN    NaN   \n",
       "05Harley              NaN    NaN  ...    NaN    NaN    NaN    NaN    NaN   \n",
       "0beerguy0             NaN    NaN  ...    NaN    NaN    NaN    NaN    NaN   \n",
       "\n",
       "beer_beerid         74904  74986  75013  75086  76144  \n",
       "review_profilename                                     \n",
       "0110x011              NaN    NaN    NaN    NaN    NaN  \n",
       "01Ryan10              NaN    NaN    NaN    NaN    NaN  \n",
       "04101Brewer           NaN    NaN    NaN    NaN    NaN  \n",
       "05Harley              NaN    NaN    NaN    NaN    NaN  \n",
       "0beerguy0             NaN    NaN    NaN    NaN    NaN  \n",
       "\n",
       "[5 rows x 4256 columns]"
      ]
     },
     "execution_count": 43,
     "metadata": {},
     "output_type": "execute_result"
    }
   ],
   "source": [
    "beer_features_1.head()"
   ]
  },
  {
   "cell_type": "markdown",
   "metadata": {
    "colab_type": "text",
    "hidden": true,
    "id": "cvopQ3cNTIwj"
   },
   "source": [
    "##### Normalising the rating of the beer for each user aroung 0 mean"
   ]
  },
  {
   "cell_type": "code",
   "execution_count": 44,
   "metadata": {
    "colab": {},
    "colab_type": "code",
    "hidden": true,
    "id": "JcU3bGLyTIwk"
   },
   "outputs": [],
   "source": [
    "mean = np.nanmean(beer_features_1, axis=1)\n",
    "df_subtracted = (beer_features_1.T-mean).T"
   ]
  },
  {
   "cell_type": "code",
   "execution_count": 45,
   "metadata": {
    "colab": {
     "base_uri": "https://localhost:8080/",
     "height": 274
    },
    "colab_type": "code",
    "executionInfo": {
     "elapsed": 41223,
     "status": "ok",
     "timestamp": 1581780891682,
     "user": {
      "displayName": "Ashish Bansal",
      "photoUrl": "https://lh3.googleusercontent.com/a-/AAuE7mAl4f5AYg93L5LxheDY1qujFVeyESegUCfT5BYI0A=s64",
      "userId": "16202438904858005659"
     },
     "user_tz": -330
    },
    "hidden": true,
    "id": "CCa2wo_kTIwp",
    "outputId": "5cdfdf96-d5f0-4b05-833b-04f36e6a6616"
   },
   "outputs": [
    {
     "data": {
      "text/html": [
       "<div>\n",
       "<style scoped>\n",
       "    .dataframe tbody tr th:only-of-type {\n",
       "        vertical-align: middle;\n",
       "    }\n",
       "\n",
       "    .dataframe tbody tr th {\n",
       "        vertical-align: top;\n",
       "    }\n",
       "\n",
       "    .dataframe thead th {\n",
       "        text-align: right;\n",
       "    }\n",
       "</style>\n",
       "<table border=\"1\" class=\"dataframe\">\n",
       "  <thead>\n",
       "    <tr style=\"text-align: right;\">\n",
       "      <th>beer_beerid</th>\n",
       "      <th>5</th>\n",
       "      <th>6</th>\n",
       "      <th>7</th>\n",
       "      <th>8</th>\n",
       "      <th>9</th>\n",
       "      <th>10</th>\n",
       "      <th>11</th>\n",
       "      <th>12</th>\n",
       "      <th>13</th>\n",
       "      <th>14</th>\n",
       "      <th>...</th>\n",
       "      <th>74548</th>\n",
       "      <th>74579</th>\n",
       "      <th>74591</th>\n",
       "      <th>74783</th>\n",
       "      <th>74827</th>\n",
       "      <th>74904</th>\n",
       "      <th>74986</th>\n",
       "      <th>75013</th>\n",
       "      <th>75086</th>\n",
       "      <th>76144</th>\n",
       "    </tr>\n",
       "    <tr>\n",
       "      <th>review_profilename</th>\n",
       "      <th></th>\n",
       "      <th></th>\n",
       "      <th></th>\n",
       "      <th></th>\n",
       "      <th></th>\n",
       "      <th></th>\n",
       "      <th></th>\n",
       "      <th></th>\n",
       "      <th></th>\n",
       "      <th></th>\n",
       "      <th></th>\n",
       "      <th></th>\n",
       "      <th></th>\n",
       "      <th></th>\n",
       "      <th></th>\n",
       "      <th></th>\n",
       "      <th></th>\n",
       "      <th></th>\n",
       "      <th></th>\n",
       "      <th></th>\n",
       "      <th></th>\n",
       "    </tr>\n",
       "  </thead>\n",
       "  <tbody>\n",
       "    <tr>\n",
       "      <td>0110x011</td>\n",
       "      <td>NaN</td>\n",
       "      <td>NaN</td>\n",
       "      <td>NaN</td>\n",
       "      <td>NaN</td>\n",
       "      <td>NaN</td>\n",
       "      <td>NaN</td>\n",
       "      <td>NaN</td>\n",
       "      <td>NaN</td>\n",
       "      <td>NaN</td>\n",
       "      <td>NaN</td>\n",
       "      <td>...</td>\n",
       "      <td>NaN</td>\n",
       "      <td>NaN</td>\n",
       "      <td>NaN</td>\n",
       "      <td>NaN</td>\n",
       "      <td>NaN</td>\n",
       "      <td>NaN</td>\n",
       "      <td>NaN</td>\n",
       "      <td>NaN</td>\n",
       "      <td>NaN</td>\n",
       "      <td>NaN</td>\n",
       "    </tr>\n",
       "    <tr>\n",
       "      <td>01Ryan10</td>\n",
       "      <td>NaN</td>\n",
       "      <td>NaN</td>\n",
       "      <td>NaN</td>\n",
       "      <td>NaN</td>\n",
       "      <td>NaN</td>\n",
       "      <td>NaN</td>\n",
       "      <td>NaN</td>\n",
       "      <td>NaN</td>\n",
       "      <td>NaN</td>\n",
       "      <td>NaN</td>\n",
       "      <td>...</td>\n",
       "      <td>NaN</td>\n",
       "      <td>NaN</td>\n",
       "      <td>NaN</td>\n",
       "      <td>NaN</td>\n",
       "      <td>NaN</td>\n",
       "      <td>NaN</td>\n",
       "      <td>NaN</td>\n",
       "      <td>NaN</td>\n",
       "      <td>NaN</td>\n",
       "      <td>NaN</td>\n",
       "    </tr>\n",
       "    <tr>\n",
       "      <td>04101Brewer</td>\n",
       "      <td>NaN</td>\n",
       "      <td>NaN</td>\n",
       "      <td>NaN</td>\n",
       "      <td>NaN</td>\n",
       "      <td>NaN</td>\n",
       "      <td>NaN</td>\n",
       "      <td>NaN</td>\n",
       "      <td>NaN</td>\n",
       "      <td>NaN</td>\n",
       "      <td>NaN</td>\n",
       "      <td>...</td>\n",
       "      <td>NaN</td>\n",
       "      <td>NaN</td>\n",
       "      <td>NaN</td>\n",
       "      <td>NaN</td>\n",
       "      <td>NaN</td>\n",
       "      <td>NaN</td>\n",
       "      <td>NaN</td>\n",
       "      <td>NaN</td>\n",
       "      <td>NaN</td>\n",
       "      <td>NaN</td>\n",
       "    </tr>\n",
       "    <tr>\n",
       "      <td>05Harley</td>\n",
       "      <td>NaN</td>\n",
       "      <td>NaN</td>\n",
       "      <td>NaN</td>\n",
       "      <td>NaN</td>\n",
       "      <td>NaN</td>\n",
       "      <td>NaN</td>\n",
       "      <td>NaN</td>\n",
       "      <td>NaN</td>\n",
       "      <td>NaN</td>\n",
       "      <td>NaN</td>\n",
       "      <td>...</td>\n",
       "      <td>NaN</td>\n",
       "      <td>NaN</td>\n",
       "      <td>NaN</td>\n",
       "      <td>NaN</td>\n",
       "      <td>NaN</td>\n",
       "      <td>NaN</td>\n",
       "      <td>NaN</td>\n",
       "      <td>NaN</td>\n",
       "      <td>NaN</td>\n",
       "      <td>NaN</td>\n",
       "    </tr>\n",
       "    <tr>\n",
       "      <td>0beerguy0</td>\n",
       "      <td>NaN</td>\n",
       "      <td>NaN</td>\n",
       "      <td>NaN</td>\n",
       "      <td>NaN</td>\n",
       "      <td>NaN</td>\n",
       "      <td>NaN</td>\n",
       "      <td>NaN</td>\n",
       "      <td>NaN</td>\n",
       "      <td>NaN</td>\n",
       "      <td>NaN</td>\n",
       "      <td>...</td>\n",
       "      <td>NaN</td>\n",
       "      <td>NaN</td>\n",
       "      <td>NaN</td>\n",
       "      <td>NaN</td>\n",
       "      <td>NaN</td>\n",
       "      <td>NaN</td>\n",
       "      <td>NaN</td>\n",
       "      <td>NaN</td>\n",
       "      <td>NaN</td>\n",
       "      <td>NaN</td>\n",
       "    </tr>\n",
       "  </tbody>\n",
       "</table>\n",
       "<p>5 rows × 4256 columns</p>\n",
       "</div>"
      ],
      "text/plain": [
       "beer_beerid         5      6      7      8      9      10     11     12     \\\n",
       "review_profilename                                                           \n",
       "0110x011              NaN    NaN    NaN    NaN    NaN    NaN    NaN    NaN   \n",
       "01Ryan10              NaN    NaN    NaN    NaN    NaN    NaN    NaN    NaN   \n",
       "04101Brewer           NaN    NaN    NaN    NaN    NaN    NaN    NaN    NaN   \n",
       "05Harley              NaN    NaN    NaN    NaN    NaN    NaN    NaN    NaN   \n",
       "0beerguy0             NaN    NaN    NaN    NaN    NaN    NaN    NaN    NaN   \n",
       "\n",
       "beer_beerid         13     14     ...  74548  74579  74591  74783  74827  \\\n",
       "review_profilename                ...                                      \n",
       "0110x011              NaN    NaN  ...    NaN    NaN    NaN    NaN    NaN   \n",
       "01Ryan10              NaN    NaN  ...    NaN    NaN    NaN    NaN    NaN   \n",
       "04101Brewer           NaN    NaN  ...    NaN    NaN    NaN    NaN    NaN   \n",
       "05Harley              NaN    NaN  ...    NaN    NaN    NaN    NaN    NaN   \n",
       "0beerguy0             NaN    NaN  ...    NaN    NaN    NaN    NaN    NaN   \n",
       "\n",
       "beer_beerid         74904  74986  75013  75086  76144  \n",
       "review_profilename                                     \n",
       "0110x011              NaN    NaN    NaN    NaN    NaN  \n",
       "01Ryan10              NaN    NaN    NaN    NaN    NaN  \n",
       "04101Brewer           NaN    NaN    NaN    NaN    NaN  \n",
       "05Harley              NaN    NaN    NaN    NaN    NaN  \n",
       "0beerguy0             NaN    NaN    NaN    NaN    NaN  \n",
       "\n",
       "[5 rows x 4256 columns]"
      ]
     },
     "execution_count": 45,
     "metadata": {},
     "output_type": "execute_result"
    }
   ],
   "source": [
    "df_subtracted.head()"
   ]
  },
  {
   "cell_type": "markdown",
   "metadata": {
    "colab_type": "text",
    "hidden": true,
    "id": "_4IYjrRpTIwu"
   },
   "source": [
    "##### Finding adjusted cosine similarity"
   ]
  },
  {
   "cell_type": "code",
   "execution_count": 46,
   "metadata": {
    "colab": {
     "base_uri": "https://localhost:8080/",
     "height": 134
    },
    "colab_type": "code",
    "executionInfo": {
     "elapsed": 79179,
     "status": "ok",
     "timestamp": 1581780930242,
     "user": {
      "displayName": "Ashish Bansal",
      "photoUrl": "https://lh3.googleusercontent.com/a-/AAuE7mAl4f5AYg93L5LxheDY1qujFVeyESegUCfT5BYI0A=s64",
      "userId": "16202438904858005659"
     },
     "user_tz": -330
    },
    "hidden": true,
    "id": "hmO6p3ZNTIwv",
    "outputId": "169afa92-995f-4994-ac2f-667ca5265740"
   },
   "outputs": [
    {
     "name": "stdout",
     "output_type": "stream",
     "text": [
      "[[1. 0. 0. ... 0. 0. 0.]\n",
      " [0. 0. 0. ... 0. 0. 0.]\n",
      " [0. 0. 0. ... 0. 0. 0.]\n",
      " ...\n",
      " [0. 0. 0. ... 0. 0. 0.]\n",
      " [0. 0. 0. ... 0. 1. 0.]\n",
      " [0. 0. 0. ... 0. 0. 1.]]\n"
     ]
    }
   ],
   "source": [
    "from sklearn.metrics.pairwise import pairwise_distances\n",
    "\n",
    "# User Similarity Matrix\n",
    "user_correlation = 1 - pairwise_distances(df_subtracted.fillna(0), metric='cosine')\n",
    "user_correlation[np.isnan(user_correlation)] = 0\n",
    "print(user_correlation)"
   ]
  },
  {
   "cell_type": "code",
   "execution_count": 47,
   "metadata": {
    "hidden": true
   },
   "outputs": [
    {
     "data": {
      "text/plain": [
       "(18178, 18178)"
      ]
     },
     "execution_count": 47,
     "metadata": {},
     "output_type": "execute_result"
    }
   ],
   "source": [
    "user_correlation.shape"
   ]
  },
  {
   "cell_type": "markdown",
   "metadata": {
    "hidden": true
   },
   "source": [
    "Determine how similar the first 10 users are to each other and visualise it"
   ]
  },
  {
   "cell_type": "code",
   "execution_count": 48,
   "metadata": {
    "hidden": true
   },
   "outputs": [],
   "source": [
    "#slicing for first 10 users\n",
    "first_10_user = user_correlation[:10,:10]"
   ]
  },
  {
   "cell_type": "code",
   "execution_count": 92,
   "metadata": {
    "hidden": true
   },
   "outputs": [
    {
     "data": {
      "image/png": "[encoded data removed]",
      "text/plain": [
       "<Figure size 600x400 with 2 Axes>"
      ]
     },
     "metadata": {
      "needs_background": "light"
     },
     "output_type": "display_data"
    }
   ],
   "source": [
    "#checking the correlation among them\n",
    "plt.figure(dpi=100)\n",
    "sns.heatmap(first_10_user, annot=True)\n",
    "plt.show()"
   ]
  },
  {
   "cell_type": "markdown",
   "metadata": {
    "hidden": true
   },
   "source": [
    "As we can see we have some correlation of user 4 with user 7"
   ]
  },
  {
   "cell_type": "markdown",
   "metadata": {
    "colab_type": "text",
    "heading_collapsed": true,
    "hidden": true,
    "id": "qZMauGzNTIw3"
   },
   "source": [
    "### Prediction"
   ]
  },
  {
   "cell_type": "markdown",
   "metadata": {
    "colab_type": "text",
    "hidden": true,
    "id": "neh5Ig21TIw6"
   },
   "source": [
    "Doing the prediction for the users which are positively related with other users, and not the users which are negatively related as we are interested in the users which are more similar to the current users. So, ignoring the correlation for values less than 0. "
   ]
  },
  {
   "cell_type": "code",
   "execution_count": 49,
   "metadata": {
    "colab": {
     "base_uri": "https://localhost:8080/",
     "height": 134
    },
    "colab_type": "code",
    "executionInfo": {
     "elapsed": 78166,
     "status": "ok",
     "timestamp": 1581780930243,
     "user": {
      "displayName": "Ashish Bansal",
      "photoUrl": "https://lh3.googleusercontent.com/a-/AAuE7mAl4f5AYg93L5LxheDY1qujFVeyESegUCfT5BYI0A=s64",
      "userId": "16202438904858005659"
     },
     "user_tz": -330
    },
    "hidden": true,
    "id": "q7tDdt6WTIw8",
    "outputId": "c6078344-6376-4a4d-a40b-7c3f5bc948df"
   },
   "outputs": [
    {
     "data": {
      "text/plain": [
       "array([[1., 0., 0., ..., 0., 0., 0.],\n",
       "       [0., 0., 0., ..., 0., 0., 0.],\n",
       "       [0., 0., 0., ..., 0., 0., 0.],\n",
       "       ...,\n",
       "       [0., 0., 0., ..., 0., 0., 0.],\n",
       "       [0., 0., 0., ..., 0., 1., 0.],\n",
       "       [0., 0., 0., ..., 0., 0., 1.]])"
      ]
     },
     "execution_count": 49,
     "metadata": {},
     "output_type": "execute_result"
    }
   ],
   "source": [
    "user_correlation[user_correlation<0]=0\n",
    "user_correlation"
   ]
  },
  {
   "cell_type": "markdown",
   "metadata": {
    "colab_type": "text",
    "hidden": true,
    "id": "VWFcRybJTIxF"
   },
   "source": [
    "Rating predicted by the user (for beers rated as well as not rated) is the weighted sum of correlation with the beer rating (as present in the rating dataset). "
   ]
  },
  {
   "cell_type": "code",
   "execution_count": 50,
   "metadata": {
    "colab": {
     "base_uri": "https://localhost:8080/",
     "height": 235
    },
    "colab_type": "code",
    "executionInfo": {
     "elapsed": 114069,
     "status": "ok",
     "timestamp": 1581780966819,
     "user": {
      "displayName": "Ashish Bansal",
      "photoUrl": "https://lh3.googleusercontent.com/a-/AAuE7mAl4f5AYg93L5LxheDY1qujFVeyESegUCfT5BYI0A=s64",
      "userId": "16202438904858005659"
     },
     "user_tz": -330
    },
    "hidden": true,
    "id": "PqV9yCgFTIxH",
    "outputId": "686eaf03-add1-4442-d5a7-7b7fdd1074e9"
   },
   "outputs": [
    {
     "data": {
      "text/plain": [
       "array([[1.18244242, 2.55795871, 1.71964535, ..., 2.0671261 , 1.37801967,\n",
       "        0.56435711],\n",
       "       [0.        , 0.        , 0.        , ..., 0.        , 0.        ,\n",
       "        0.        ],\n",
       "       [0.        , 0.        , 0.        , ..., 0.        , 0.        ,\n",
       "        0.        ],\n",
       "       ...,\n",
       "       [0.        , 0.        , 0.        , ..., 0.        , 0.        ,\n",
       "        0.        ],\n",
       "       [0.80003557, 1.62887852, 2.21877022, ..., 0.08619877, 0.59919829,\n",
       "        0.        ],\n",
       "       [0.1682518 , 5.89003291, 3.06398731, ..., 0.        , 1.65847645,\n",
       "        0.02893921]])"
      ]
     },
     "execution_count": 50,
     "metadata": {},
     "output_type": "execute_result"
    }
   ],
   "source": [
    "user_predicted_ratings = np.dot(user_correlation, beer_features_1.fillna(0))\n",
    "user_predicted_ratings"
   ]
  },
  {
   "cell_type": "code",
   "execution_count": 51,
   "metadata": {
    "colab": {
     "base_uri": "https://localhost:8080/",
     "height": 34
    },
    "colab_type": "code",
    "executionInfo": {
     "elapsed": 113752,
     "status": "ok",
     "timestamp": 1581780966822,
     "user": {
      "displayName": "Ashish Bansal",
      "photoUrl": "https://lh3.googleusercontent.com/a-/AAuE7mAl4f5AYg93L5LxheDY1qujFVeyESegUCfT5BYI0A=s64",
      "userId": "16202438904858005659"
     },
     "user_tz": -330
    },
    "hidden": true,
    "id": "sYcPkWMITIxN",
    "outputId": "01620215-747a-412d-bebd-cf44086179f0"
   },
   "outputs": [
    {
     "data": {
      "text/plain": [
       "(18178, 4256)"
      ]
     },
     "execution_count": 51,
     "metadata": {},
     "output_type": "execute_result"
    }
   ],
   "source": [
    "user_predicted_ratings.shape"
   ]
  },
  {
   "cell_type": "markdown",
   "metadata": {
    "colab_type": "text",
    "hidden": true,
    "id": "vBp6HVo_TIxS"
   },
   "source": [
    "Since we are interested only in the beers not rated by the user, we will ignore the beers rated by the user by making it zero. "
   ]
  },
  {
   "cell_type": "code",
   "execution_count": 52,
   "metadata": {
    "colab": {
     "base_uri": "https://localhost:8080/",
     "height": 274
    },
    "colab_type": "code",
    "executionInfo": {
     "elapsed": 113098,
     "status": "ok",
     "timestamp": 1581780966827,
     "user": {
      "displayName": "Ashish Bansal",
      "photoUrl": "https://lh3.googleusercontent.com/a-/AAuE7mAl4f5AYg93L5LxheDY1qujFVeyESegUCfT5BYI0A=s64",
      "userId": "16202438904858005659"
     },
     "user_tz": -330
    },
    "hidden": true,
    "id": "TbIZsf-BTIxU",
    "outputId": "0cfe738f-6bd3-46f9-8751-3455206bd90e"
   },
   "outputs": [
    {
     "data": {
      "text/html": [
       "<div>\n",
       "<style scoped>\n",
       "    .dataframe tbody tr th:only-of-type {\n",
       "        vertical-align: middle;\n",
       "    }\n",
       "\n",
       "    .dataframe tbody tr th {\n",
       "        vertical-align: top;\n",
       "    }\n",
       "\n",
       "    .dataframe thead th {\n",
       "        text-align: right;\n",
       "    }\n",
       "</style>\n",
       "<table border=\"1\" class=\"dataframe\">\n",
       "  <thead>\n",
       "    <tr style=\"text-align: right;\">\n",
       "      <th>beer_beerid</th>\n",
       "      <th>5</th>\n",
       "      <th>6</th>\n",
       "      <th>7</th>\n",
       "      <th>8</th>\n",
       "      <th>9</th>\n",
       "      <th>10</th>\n",
       "      <th>11</th>\n",
       "      <th>12</th>\n",
       "      <th>13</th>\n",
       "      <th>14</th>\n",
       "      <th>...</th>\n",
       "      <th>74548</th>\n",
       "      <th>74579</th>\n",
       "      <th>74591</th>\n",
       "      <th>74783</th>\n",
       "      <th>74827</th>\n",
       "      <th>74904</th>\n",
       "      <th>74986</th>\n",
       "      <th>75013</th>\n",
       "      <th>75086</th>\n",
       "      <th>76144</th>\n",
       "    </tr>\n",
       "    <tr>\n",
       "      <th>review_profilename</th>\n",
       "      <th></th>\n",
       "      <th></th>\n",
       "      <th></th>\n",
       "      <th></th>\n",
       "      <th></th>\n",
       "      <th></th>\n",
       "      <th></th>\n",
       "      <th></th>\n",
       "      <th></th>\n",
       "      <th></th>\n",
       "      <th></th>\n",
       "      <th></th>\n",
       "      <th></th>\n",
       "      <th></th>\n",
       "      <th></th>\n",
       "      <th></th>\n",
       "      <th></th>\n",
       "      <th></th>\n",
       "      <th></th>\n",
       "      <th></th>\n",
       "      <th></th>\n",
       "    </tr>\n",
       "  </thead>\n",
       "  <tbody>\n",
       "    <tr>\n",
       "      <td>0110x011</td>\n",
       "      <td>1.182442</td>\n",
       "      <td>2.557959</td>\n",
       "      <td>1.719645</td>\n",
       "      <td>0.502519</td>\n",
       "      <td>0.266772</td>\n",
       "      <td>2.049708</td>\n",
       "      <td>0.186944</td>\n",
       "      <td>0.040888</td>\n",
       "      <td>0.276982</td>\n",
       "      <td>0.452979</td>\n",
       "      <td>...</td>\n",
       "      <td>0.965768</td>\n",
       "      <td>0.700817</td>\n",
       "      <td>0.398613</td>\n",
       "      <td>0.120390</td>\n",
       "      <td>1.379414</td>\n",
       "      <td>0.787486</td>\n",
       "      <td>2.680475</td>\n",
       "      <td>2.067126</td>\n",
       "      <td>1.378020</td>\n",
       "      <td>0.564357</td>\n",
       "    </tr>\n",
       "    <tr>\n",
       "      <td>01Ryan10</td>\n",
       "      <td>0.000000</td>\n",
       "      <td>0.000000</td>\n",
       "      <td>0.000000</td>\n",
       "      <td>0.000000</td>\n",
       "      <td>0.000000</td>\n",
       "      <td>0.000000</td>\n",
       "      <td>0.000000</td>\n",
       "      <td>0.000000</td>\n",
       "      <td>0.000000</td>\n",
       "      <td>0.000000</td>\n",
       "      <td>...</td>\n",
       "      <td>0.000000</td>\n",
       "      <td>0.000000</td>\n",
       "      <td>0.000000</td>\n",
       "      <td>0.000000</td>\n",
       "      <td>0.000000</td>\n",
       "      <td>0.000000</td>\n",
       "      <td>0.000000</td>\n",
       "      <td>0.000000</td>\n",
       "      <td>0.000000</td>\n",
       "      <td>0.000000</td>\n",
       "    </tr>\n",
       "    <tr>\n",
       "      <td>04101Brewer</td>\n",
       "      <td>0.000000</td>\n",
       "      <td>0.000000</td>\n",
       "      <td>0.000000</td>\n",
       "      <td>0.000000</td>\n",
       "      <td>0.000000</td>\n",
       "      <td>0.000000</td>\n",
       "      <td>0.000000</td>\n",
       "      <td>0.000000</td>\n",
       "      <td>0.000000</td>\n",
       "      <td>0.000000</td>\n",
       "      <td>...</td>\n",
       "      <td>0.000000</td>\n",
       "      <td>0.000000</td>\n",
       "      <td>0.000000</td>\n",
       "      <td>0.000000</td>\n",
       "      <td>0.000000</td>\n",
       "      <td>0.000000</td>\n",
       "      <td>0.000000</td>\n",
       "      <td>0.000000</td>\n",
       "      <td>0.000000</td>\n",
       "      <td>0.000000</td>\n",
       "    </tr>\n",
       "    <tr>\n",
       "      <td>05Harley</td>\n",
       "      <td>1.056769</td>\n",
       "      <td>3.142892</td>\n",
       "      <td>2.142663</td>\n",
       "      <td>0.317305</td>\n",
       "      <td>0.081123</td>\n",
       "      <td>3.302263</td>\n",
       "      <td>0.048020</td>\n",
       "      <td>0.031072</td>\n",
       "      <td>0.228071</td>\n",
       "      <td>0.737875</td>\n",
       "      <td>...</td>\n",
       "      <td>0.653470</td>\n",
       "      <td>1.614945</td>\n",
       "      <td>0.486533</td>\n",
       "      <td>1.036711</td>\n",
       "      <td>0.677990</td>\n",
       "      <td>1.867341</td>\n",
       "      <td>6.536365</td>\n",
       "      <td>2.075731</td>\n",
       "      <td>2.318730</td>\n",
       "      <td>1.050252</td>\n",
       "    </tr>\n",
       "    <tr>\n",
       "      <td>0beerguy0</td>\n",
       "      <td>0.562421</td>\n",
       "      <td>2.293032</td>\n",
       "      <td>0.898325</td>\n",
       "      <td>0.519310</td>\n",
       "      <td>0.000000</td>\n",
       "      <td>2.194530</td>\n",
       "      <td>0.053718</td>\n",
       "      <td>0.144822</td>\n",
       "      <td>0.149932</td>\n",
       "      <td>1.126728</td>\n",
       "      <td>...</td>\n",
       "      <td>0.428906</td>\n",
       "      <td>0.263696</td>\n",
       "      <td>0.019324</td>\n",
       "      <td>0.261731</td>\n",
       "      <td>0.215301</td>\n",
       "      <td>0.002897</td>\n",
       "      <td>0.116457</td>\n",
       "      <td>0.187123</td>\n",
       "      <td>0.234862</td>\n",
       "      <td>0.250498</td>\n",
       "    </tr>\n",
       "  </tbody>\n",
       "</table>\n",
       "<p>5 rows × 4256 columns</p>\n",
       "</div>"
      ],
      "text/plain": [
       "beer_beerid            5         6         7         8         9      \\\n",
       "review_profilename                                                     \n",
       "0110x011            1.182442  2.557959  1.719645  0.502519  0.266772   \n",
       "01Ryan10            0.000000  0.000000  0.000000  0.000000  0.000000   \n",
       "04101Brewer         0.000000  0.000000  0.000000  0.000000  0.000000   \n",
       "05Harley            1.056769  3.142892  2.142663  0.317305  0.081123   \n",
       "0beerguy0           0.562421  2.293032  0.898325  0.519310  0.000000   \n",
       "\n",
       "beer_beerid            10        11        12        13        14     ...  \\\n",
       "review_profilename                                                    ...   \n",
       "0110x011            2.049708  0.186944  0.040888  0.276982  0.452979  ...   \n",
       "01Ryan10            0.000000  0.000000  0.000000  0.000000  0.000000  ...   \n",
       "04101Brewer         0.000000  0.000000  0.000000  0.000000  0.000000  ...   \n",
       "05Harley            3.302263  0.048020  0.031072  0.228071  0.737875  ...   \n",
       "0beerguy0           2.194530  0.053718  0.144822  0.149932  1.126728  ...   \n",
       "\n",
       "beer_beerid            74548     74579     74591     74783     74827  \\\n",
       "review_profilename                                                     \n",
       "0110x011            0.965768  0.700817  0.398613  0.120390  1.379414   \n",
       "01Ryan10            0.000000  0.000000  0.000000  0.000000  0.000000   \n",
       "04101Brewer         0.000000  0.000000  0.000000  0.000000  0.000000   \n",
       "05Harley            0.653470  1.614945  0.486533  1.036711  0.677990   \n",
       "0beerguy0           0.428906  0.263696  0.019324  0.261731  0.215301   \n",
       "\n",
       "beer_beerid            74904     74986     75013     75086     76144  \n",
       "review_profilename                                                    \n",
       "0110x011            0.787486  2.680475  2.067126  1.378020  0.564357  \n",
       "01Ryan10            0.000000  0.000000  0.000000  0.000000  0.000000  \n",
       "04101Brewer         0.000000  0.000000  0.000000  0.000000  0.000000  \n",
       "05Harley            1.867341  6.536365  2.075731  2.318730  1.050252  \n",
       "0beerguy0           0.002897  0.116457  0.187123  0.234862  0.250498  \n",
       "\n",
       "[5 rows x 4256 columns]"
      ]
     },
     "execution_count": 52,
     "metadata": {},
     "output_type": "execute_result"
    }
   ],
   "source": [
    "user_final_rating = np.multiply(user_predicted_ratings,dummy_train)\n",
    "user_final_rating.head()"
   ]
  },
  {
   "cell_type": "markdown",
   "metadata": {
    "colab_type": "text",
    "hidden": true,
    "id": "3eb7IhxlTIxf"
   },
   "source": [
    "### Finding the top 5 recommendation for the user 1 "
   ]
  },
  {
   "cell_type": "code",
   "execution_count": 53,
   "metadata": {
    "colab": {
     "base_uri": "https://localhost:8080/",
     "height": 134
    },
    "colab_type": "code",
    "executionInfo": {
     "elapsed": 112454,
     "status": "ok",
     "timestamp": 1581780966830,
     "user": {
      "displayName": "Ashish Bansal",
      "photoUrl": "https://lh3.googleusercontent.com/a-/AAuE7mAl4f5AYg93L5LxheDY1qujFVeyESegUCfT5BYI0A=s64",
      "userId": "16202438904858005659"
     },
     "user_tz": -330
    },
    "hidden": true,
    "id": "KBKU-xE1TIxh",
    "outputId": "df964c8f-45b8-490f-9527-1a75080be587"
   },
   "outputs": [
    {
     "data": {
      "text/plain": [
       "beer_beerid\n",
       "7971     22.057847\n",
       "645      18.630846\n",
       "412      16.761231\n",
       "19960    16.125919\n",
       "17112    15.992458\n",
       "Name: 0110x011, dtype: float64"
      ]
     },
     "execution_count": 53,
     "metadata": {},
     "output_type": "execute_result"
    }
   ],
   "source": [
    "user_final_rating.iloc[0].sort_values(ascending=False)[0:5]"
   ]
  },
  {
   "cell_type": "markdown",
   "metadata": {
    "colab_type": "text",
    "heading_collapsed": true,
    "id": "IMwoSAoUTIx3"
   },
   "source": [
    "## Item Based Similarity"
   ]
  },
  {
   "cell_type": "markdown",
   "metadata": {
    "colab_type": "text",
    "hidden": true,
    "id": "RY7zKaATTIx6"
   },
   "source": [
    "Using Correlation"
   ]
  },
  {
   "cell_type": "markdown",
   "metadata": {
    "colab_type": "text",
    "hidden": true,
    "id": "fo7IjFWgTIyC"
   },
   "source": [
    "Taking the transpose of the rating matrix to normalize the rating around the mean for different beer id. In the user based similarity, we had taken mean for each user intead of each beer. "
   ]
  },
  {
   "cell_type": "code",
   "execution_count": 54,
   "metadata": {
    "colab": {
     "base_uri": "https://localhost:8080/",
     "height": 274
    },
    "colab_type": "code",
    "executionInfo": {
     "elapsed": 112085,
     "status": "ok",
     "timestamp": 1581780967889,
     "user": {
      "displayName": "Ashish Bansal",
      "photoUrl": "https://lh3.googleusercontent.com/a-/AAuE7mAl4f5AYg93L5LxheDY1qujFVeyESegUCfT5BYI0A=s64",
      "userId": "16202438904858005659"
     },
     "user_tz": -330
    },
    "hidden": true,
    "id": "gTCZOO8NTIyO",
    "outputId": "0e4b652b-0ae8-492e-e3b0-97c9facf9884"
   },
   "outputs": [
    {
     "data": {
      "text/html": [
       "<div>\n",
       "<style scoped>\n",
       "    .dataframe tbody tr th:only-of-type {\n",
       "        vertical-align: middle;\n",
       "    }\n",
       "\n",
       "    .dataframe tbody tr th {\n",
       "        vertical-align: top;\n",
       "    }\n",
       "\n",
       "    .dataframe thead th {\n",
       "        text-align: right;\n",
       "    }\n",
       "</style>\n",
       "<table border=\"1\" class=\"dataframe\">\n",
       "  <thead>\n",
       "    <tr style=\"text-align: right;\">\n",
       "      <th>review_profilename</th>\n",
       "      <th>0110x011</th>\n",
       "      <th>01Ryan10</th>\n",
       "      <th>04101Brewer</th>\n",
       "      <th>05Harley</th>\n",
       "      <th>0beerguy0</th>\n",
       "      <th>0runkp0s</th>\n",
       "      <th>0tt0</th>\n",
       "      <th>1000Bottles</th>\n",
       "      <th>1001111</th>\n",
       "      <th>100floods</th>\n",
       "      <th>...</th>\n",
       "      <th>zuffenhausen</th>\n",
       "      <th>zuggy9</th>\n",
       "      <th>zulufactor</th>\n",
       "      <th>zwalk8</th>\n",
       "      <th>zwan</th>\n",
       "      <th>zymrgy</th>\n",
       "      <th>zymurgy4all</th>\n",
       "      <th>zymurgywhiz</th>\n",
       "      <th>zythus</th>\n",
       "      <th>zyzygy</th>\n",
       "    </tr>\n",
       "    <tr>\n",
       "      <th>beer_beerid</th>\n",
       "      <th></th>\n",
       "      <th></th>\n",
       "      <th></th>\n",
       "      <th></th>\n",
       "      <th></th>\n",
       "      <th></th>\n",
       "      <th></th>\n",
       "      <th></th>\n",
       "      <th></th>\n",
       "      <th></th>\n",
       "      <th></th>\n",
       "      <th></th>\n",
       "      <th></th>\n",
       "      <th></th>\n",
       "      <th></th>\n",
       "      <th></th>\n",
       "      <th></th>\n",
       "      <th></th>\n",
       "      <th></th>\n",
       "      <th></th>\n",
       "      <th></th>\n",
       "    </tr>\n",
       "  </thead>\n",
       "  <tbody>\n",
       "    <tr>\n",
       "      <td>5</td>\n",
       "      <td>NaN</td>\n",
       "      <td>NaN</td>\n",
       "      <td>NaN</td>\n",
       "      <td>NaN</td>\n",
       "      <td>NaN</td>\n",
       "      <td>NaN</td>\n",
       "      <td>NaN</td>\n",
       "      <td>NaN</td>\n",
       "      <td>NaN</td>\n",
       "      <td>NaN</td>\n",
       "      <td>...</td>\n",
       "      <td>NaN</td>\n",
       "      <td>NaN</td>\n",
       "      <td>NaN</td>\n",
       "      <td>NaN</td>\n",
       "      <td>NaN</td>\n",
       "      <td>NaN</td>\n",
       "      <td>NaN</td>\n",
       "      <td>NaN</td>\n",
       "      <td>NaN</td>\n",
       "      <td>NaN</td>\n",
       "    </tr>\n",
       "    <tr>\n",
       "      <td>6</td>\n",
       "      <td>NaN</td>\n",
       "      <td>NaN</td>\n",
       "      <td>NaN</td>\n",
       "      <td>NaN</td>\n",
       "      <td>NaN</td>\n",
       "      <td>NaN</td>\n",
       "      <td>NaN</td>\n",
       "      <td>NaN</td>\n",
       "      <td>NaN</td>\n",
       "      <td>NaN</td>\n",
       "      <td>...</td>\n",
       "      <td>NaN</td>\n",
       "      <td>NaN</td>\n",
       "      <td>NaN</td>\n",
       "      <td>NaN</td>\n",
       "      <td>NaN</td>\n",
       "      <td>NaN</td>\n",
       "      <td>NaN</td>\n",
       "      <td>NaN</td>\n",
       "      <td>NaN</td>\n",
       "      <td>NaN</td>\n",
       "    </tr>\n",
       "    <tr>\n",
       "      <td>7</td>\n",
       "      <td>NaN</td>\n",
       "      <td>NaN</td>\n",
       "      <td>NaN</td>\n",
       "      <td>NaN</td>\n",
       "      <td>NaN</td>\n",
       "      <td>NaN</td>\n",
       "      <td>NaN</td>\n",
       "      <td>NaN</td>\n",
       "      <td>NaN</td>\n",
       "      <td>NaN</td>\n",
       "      <td>...</td>\n",
       "      <td>NaN</td>\n",
       "      <td>NaN</td>\n",
       "      <td>NaN</td>\n",
       "      <td>NaN</td>\n",
       "      <td>NaN</td>\n",
       "      <td>NaN</td>\n",
       "      <td>NaN</td>\n",
       "      <td>NaN</td>\n",
       "      <td>NaN</td>\n",
       "      <td>NaN</td>\n",
       "    </tr>\n",
       "    <tr>\n",
       "      <td>8</td>\n",
       "      <td>NaN</td>\n",
       "      <td>NaN</td>\n",
       "      <td>NaN</td>\n",
       "      <td>NaN</td>\n",
       "      <td>NaN</td>\n",
       "      <td>NaN</td>\n",
       "      <td>NaN</td>\n",
       "      <td>NaN</td>\n",
       "      <td>NaN</td>\n",
       "      <td>NaN</td>\n",
       "      <td>...</td>\n",
       "      <td>NaN</td>\n",
       "      <td>NaN</td>\n",
       "      <td>NaN</td>\n",
       "      <td>NaN</td>\n",
       "      <td>NaN</td>\n",
       "      <td>NaN</td>\n",
       "      <td>NaN</td>\n",
       "      <td>NaN</td>\n",
       "      <td>NaN</td>\n",
       "      <td>NaN</td>\n",
       "    </tr>\n",
       "    <tr>\n",
       "      <td>9</td>\n",
       "      <td>NaN</td>\n",
       "      <td>NaN</td>\n",
       "      <td>NaN</td>\n",
       "      <td>NaN</td>\n",
       "      <td>NaN</td>\n",
       "      <td>NaN</td>\n",
       "      <td>NaN</td>\n",
       "      <td>NaN</td>\n",
       "      <td>NaN</td>\n",
       "      <td>NaN</td>\n",
       "      <td>...</td>\n",
       "      <td>NaN</td>\n",
       "      <td>NaN</td>\n",
       "      <td>NaN</td>\n",
       "      <td>NaN</td>\n",
       "      <td>NaN</td>\n",
       "      <td>NaN</td>\n",
       "      <td>NaN</td>\n",
       "      <td>NaN</td>\n",
       "      <td>NaN</td>\n",
       "      <td>NaN</td>\n",
       "    </tr>\n",
       "  </tbody>\n",
       "</table>\n",
       "<p>5 rows × 18178 columns</p>\n",
       "</div>"
      ],
      "text/plain": [
       "review_profilename  0110x011  01Ryan10  04101Brewer  05Harley  0beerguy0  \\\n",
       "beer_beerid                                                                \n",
       "5                        NaN       NaN          NaN       NaN        NaN   \n",
       "6                        NaN       NaN          NaN       NaN        NaN   \n",
       "7                        NaN       NaN          NaN       NaN        NaN   \n",
       "8                        NaN       NaN          NaN       NaN        NaN   \n",
       "9                        NaN       NaN          NaN       NaN        NaN   \n",
       "\n",
       "review_profilename  0runkp0s  0tt0  1000Bottles  1001111  100floods  ...  \\\n",
       "beer_beerid                                                          ...   \n",
       "5                        NaN   NaN          NaN      NaN        NaN  ...   \n",
       "6                        NaN   NaN          NaN      NaN        NaN  ...   \n",
       "7                        NaN   NaN          NaN      NaN        NaN  ...   \n",
       "8                        NaN   NaN          NaN      NaN        NaN  ...   \n",
       "9                        NaN   NaN          NaN      NaN        NaN  ...   \n",
       "\n",
       "review_profilename  zuffenhausen  zuggy9  zulufactor  zwalk8  zwan  zymrgy  \\\n",
       "beer_beerid                                                                  \n",
       "5                            NaN     NaN         NaN     NaN   NaN     NaN   \n",
       "6                            NaN     NaN         NaN     NaN   NaN     NaN   \n",
       "7                            NaN     NaN         NaN     NaN   NaN     NaN   \n",
       "8                            NaN     NaN         NaN     NaN   NaN     NaN   \n",
       "9                            NaN     NaN         NaN     NaN   NaN     NaN   \n",
       "\n",
       "review_profilename  zymurgy4all  zymurgywhiz  zythus  zyzygy  \n",
       "beer_beerid                                                   \n",
       "5                           NaN          NaN     NaN     NaN  \n",
       "6                           NaN          NaN     NaN     NaN  \n",
       "7                           NaN          NaN     NaN     NaN  \n",
       "8                           NaN          NaN     NaN     NaN  \n",
       "9                           NaN          NaN     NaN     NaN  \n",
       "\n",
       "[5 rows x 18178 columns]"
      ]
     },
     "execution_count": 54,
     "metadata": {},
     "output_type": "execute_result"
    }
   ],
   "source": [
    "beer_features_1 = train.pivot_table(\n",
    "    index='review_profilename',\n",
    "    columns='beer_beerid',\n",
    "    values='review_overall'\n",
    ").T\n",
    "\n",
    "beer_features_1.head()"
   ]
  },
  {
   "cell_type": "markdown",
   "metadata": {
    "colab_type": "text",
    "hidden": true,
    "id": "VF_2EkxrTIyX"
   },
   "source": [
    "Normalising the beer rating for each beer"
   ]
  },
  {
   "cell_type": "code",
   "execution_count": 55,
   "metadata": {
    "colab": {},
    "colab_type": "code",
    "hidden": true,
    "id": "dZFImEpoTIya"
   },
   "outputs": [],
   "source": [
    "mean = np.nanmean(beer_features_1, axis=1)\n",
    "df_subtracted = (beer_features_1.T-mean).T"
   ]
  },
  {
   "cell_type": "code",
   "execution_count": 56,
   "metadata": {
    "colab": {
     "base_uri": "https://localhost:8080/",
     "height": 274
    },
    "colab_type": "code",
    "executionInfo": {
     "elapsed": 113940,
     "status": "ok",
     "timestamp": 1581780970794,
     "user": {
      "displayName": "Ashish Bansal",
      "photoUrl": "https://lh3.googleusercontent.com/a-/AAuE7mAl4f5AYg93L5LxheDY1qujFVeyESegUCfT5BYI0A=s64",
      "userId": "16202438904858005659"
     },
     "user_tz": -330
    },
    "hidden": true,
    "id": "j6CqlVaCTIyj",
    "outputId": "d7b5e5b5-b597-4984-dace-eb741cafe6b3"
   },
   "outputs": [
    {
     "data": {
      "text/html": [
       "<div>\n",
       "<style scoped>\n",
       "    .dataframe tbody tr th:only-of-type {\n",
       "        vertical-align: middle;\n",
       "    }\n",
       "\n",
       "    .dataframe tbody tr th {\n",
       "        vertical-align: top;\n",
       "    }\n",
       "\n",
       "    .dataframe thead th {\n",
       "        text-align: right;\n",
       "    }\n",
       "</style>\n",
       "<table border=\"1\" class=\"dataframe\">\n",
       "  <thead>\n",
       "    <tr style=\"text-align: right;\">\n",
       "      <th>review_profilename</th>\n",
       "      <th>0110x011</th>\n",
       "      <th>01Ryan10</th>\n",
       "      <th>04101Brewer</th>\n",
       "      <th>05Harley</th>\n",
       "      <th>0beerguy0</th>\n",
       "      <th>0runkp0s</th>\n",
       "      <th>0tt0</th>\n",
       "      <th>1000Bottles</th>\n",
       "      <th>1001111</th>\n",
       "      <th>100floods</th>\n",
       "      <th>...</th>\n",
       "      <th>zuffenhausen</th>\n",
       "      <th>zuggy9</th>\n",
       "      <th>zulufactor</th>\n",
       "      <th>zwalk8</th>\n",
       "      <th>zwan</th>\n",
       "      <th>zymrgy</th>\n",
       "      <th>zymurgy4all</th>\n",
       "      <th>zymurgywhiz</th>\n",
       "      <th>zythus</th>\n",
       "      <th>zyzygy</th>\n",
       "    </tr>\n",
       "    <tr>\n",
       "      <th>beer_beerid</th>\n",
       "      <th></th>\n",
       "      <th></th>\n",
       "      <th></th>\n",
       "      <th></th>\n",
       "      <th></th>\n",
       "      <th></th>\n",
       "      <th></th>\n",
       "      <th></th>\n",
       "      <th></th>\n",
       "      <th></th>\n",
       "      <th></th>\n",
       "      <th></th>\n",
       "      <th></th>\n",
       "      <th></th>\n",
       "      <th></th>\n",
       "      <th></th>\n",
       "      <th></th>\n",
       "      <th></th>\n",
       "      <th></th>\n",
       "      <th></th>\n",
       "      <th></th>\n",
       "    </tr>\n",
       "  </thead>\n",
       "  <tbody>\n",
       "    <tr>\n",
       "      <td>5</td>\n",
       "      <td>NaN</td>\n",
       "      <td>NaN</td>\n",
       "      <td>NaN</td>\n",
       "      <td>NaN</td>\n",
       "      <td>NaN</td>\n",
       "      <td>NaN</td>\n",
       "      <td>NaN</td>\n",
       "      <td>NaN</td>\n",
       "      <td>NaN</td>\n",
       "      <td>NaN</td>\n",
       "      <td>...</td>\n",
       "      <td>NaN</td>\n",
       "      <td>NaN</td>\n",
       "      <td>NaN</td>\n",
       "      <td>NaN</td>\n",
       "      <td>NaN</td>\n",
       "      <td>NaN</td>\n",
       "      <td>NaN</td>\n",
       "      <td>NaN</td>\n",
       "      <td>NaN</td>\n",
       "      <td>NaN</td>\n",
       "    </tr>\n",
       "    <tr>\n",
       "      <td>6</td>\n",
       "      <td>NaN</td>\n",
       "      <td>NaN</td>\n",
       "      <td>NaN</td>\n",
       "      <td>NaN</td>\n",
       "      <td>NaN</td>\n",
       "      <td>NaN</td>\n",
       "      <td>NaN</td>\n",
       "      <td>NaN</td>\n",
       "      <td>NaN</td>\n",
       "      <td>NaN</td>\n",
       "      <td>...</td>\n",
       "      <td>NaN</td>\n",
       "      <td>NaN</td>\n",
       "      <td>NaN</td>\n",
       "      <td>NaN</td>\n",
       "      <td>NaN</td>\n",
       "      <td>NaN</td>\n",
       "      <td>NaN</td>\n",
       "      <td>NaN</td>\n",
       "      <td>NaN</td>\n",
       "      <td>NaN</td>\n",
       "    </tr>\n",
       "    <tr>\n",
       "      <td>7</td>\n",
       "      <td>NaN</td>\n",
       "      <td>NaN</td>\n",
       "      <td>NaN</td>\n",
       "      <td>NaN</td>\n",
       "      <td>NaN</td>\n",
       "      <td>NaN</td>\n",
       "      <td>NaN</td>\n",
       "      <td>NaN</td>\n",
       "      <td>NaN</td>\n",
       "      <td>NaN</td>\n",
       "      <td>...</td>\n",
       "      <td>NaN</td>\n",
       "      <td>NaN</td>\n",
       "      <td>NaN</td>\n",
       "      <td>NaN</td>\n",
       "      <td>NaN</td>\n",
       "      <td>NaN</td>\n",
       "      <td>NaN</td>\n",
       "      <td>NaN</td>\n",
       "      <td>NaN</td>\n",
       "      <td>NaN</td>\n",
       "    </tr>\n",
       "    <tr>\n",
       "      <td>8</td>\n",
       "      <td>NaN</td>\n",
       "      <td>NaN</td>\n",
       "      <td>NaN</td>\n",
       "      <td>NaN</td>\n",
       "      <td>NaN</td>\n",
       "      <td>NaN</td>\n",
       "      <td>NaN</td>\n",
       "      <td>NaN</td>\n",
       "      <td>NaN</td>\n",
       "      <td>NaN</td>\n",
       "      <td>...</td>\n",
       "      <td>NaN</td>\n",
       "      <td>NaN</td>\n",
       "      <td>NaN</td>\n",
       "      <td>NaN</td>\n",
       "      <td>NaN</td>\n",
       "      <td>NaN</td>\n",
       "      <td>NaN</td>\n",
       "      <td>NaN</td>\n",
       "      <td>NaN</td>\n",
       "      <td>NaN</td>\n",
       "    </tr>\n",
       "    <tr>\n",
       "      <td>9</td>\n",
       "      <td>NaN</td>\n",
       "      <td>NaN</td>\n",
       "      <td>NaN</td>\n",
       "      <td>NaN</td>\n",
       "      <td>NaN</td>\n",
       "      <td>NaN</td>\n",
       "      <td>NaN</td>\n",
       "      <td>NaN</td>\n",
       "      <td>NaN</td>\n",
       "      <td>NaN</td>\n",
       "      <td>...</td>\n",
       "      <td>NaN</td>\n",
       "      <td>NaN</td>\n",
       "      <td>NaN</td>\n",
       "      <td>NaN</td>\n",
       "      <td>NaN</td>\n",
       "      <td>NaN</td>\n",
       "      <td>NaN</td>\n",
       "      <td>NaN</td>\n",
       "      <td>NaN</td>\n",
       "      <td>NaN</td>\n",
       "    </tr>\n",
       "  </tbody>\n",
       "</table>\n",
       "<p>5 rows × 18178 columns</p>\n",
       "</div>"
      ],
      "text/plain": [
       "review_profilename  0110x011  01Ryan10  04101Brewer  05Harley  0beerguy0  \\\n",
       "beer_beerid                                                                \n",
       "5                        NaN       NaN          NaN       NaN        NaN   \n",
       "6                        NaN       NaN          NaN       NaN        NaN   \n",
       "7                        NaN       NaN          NaN       NaN        NaN   \n",
       "8                        NaN       NaN          NaN       NaN        NaN   \n",
       "9                        NaN       NaN          NaN       NaN        NaN   \n",
       "\n",
       "review_profilename  0runkp0s  0tt0  1000Bottles  1001111  100floods  ...  \\\n",
       "beer_beerid                                                          ...   \n",
       "5                        NaN   NaN          NaN      NaN        NaN  ...   \n",
       "6                        NaN   NaN          NaN      NaN        NaN  ...   \n",
       "7                        NaN   NaN          NaN      NaN        NaN  ...   \n",
       "8                        NaN   NaN          NaN      NaN        NaN  ...   \n",
       "9                        NaN   NaN          NaN      NaN        NaN  ...   \n",
       "\n",
       "review_profilename  zuffenhausen  zuggy9  zulufactor  zwalk8  zwan  zymrgy  \\\n",
       "beer_beerid                                                                  \n",
       "5                            NaN     NaN         NaN     NaN   NaN     NaN   \n",
       "6                            NaN     NaN         NaN     NaN   NaN     NaN   \n",
       "7                            NaN     NaN         NaN     NaN   NaN     NaN   \n",
       "8                            NaN     NaN         NaN     NaN   NaN     NaN   \n",
       "9                            NaN     NaN         NaN     NaN   NaN     NaN   \n",
       "\n",
       "review_profilename  zymurgy4all  zymurgywhiz  zythus  zyzygy  \n",
       "beer_beerid                                                   \n",
       "5                           NaN          NaN     NaN     NaN  \n",
       "6                           NaN          NaN     NaN     NaN  \n",
       "7                           NaN          NaN     NaN     NaN  \n",
       "8                           NaN          NaN     NaN     NaN  \n",
       "9                           NaN          NaN     NaN     NaN  \n",
       "\n",
       "[5 rows x 18178 columns]"
      ]
     },
     "execution_count": 56,
     "metadata": {},
     "output_type": "execute_result"
    }
   ],
   "source": [
    "df_subtracted.head()"
   ]
  },
  {
   "cell_type": "markdown",
   "metadata": {
    "colab_type": "text",
    "hidden": true,
    "id": "0FujSBAnTIys"
   },
   "source": [
    "Finding the cosine similarity. Note that since the data is normalised, both the cosine metric and correlation metric will give the same value. "
   ]
  },
  {
   "cell_type": "code",
   "execution_count": 57,
   "metadata": {
    "colab": {
     "base_uri": "https://localhost:8080/",
     "height": 235
    },
    "colab_type": "code",
    "executionInfo": {
     "elapsed": 123532,
     "status": "ok",
     "timestamp": 1581780981620,
     "user": {
      "displayName": "Ashish Bansal",
      "photoUrl": "https://lh3.googleusercontent.com/a-/AAuE7mAl4f5AYg93L5LxheDY1qujFVeyESegUCfT5BYI0A=s64",
      "userId": "16202438904858005659"
     },
     "user_tz": -330
    },
    "hidden": true,
    "id": "6t1GCFDCTIyu",
    "outputId": "4f327e5f-31e6-403d-d5f1-9f4e52cd8aca"
   },
   "outputs": [
    {
     "name": "stdout",
     "output_type": "stream",
     "text": [
      "[[ 1.         -0.01562584  0.01211138 ...  0.          0.01540869\n",
      "   0.        ]\n",
      " [-0.01562584  1.         -0.01878745 ...  0.03727192 -0.00331617\n",
      "   0.        ]\n",
      " [ 0.01211138 -0.01878745  1.         ...  0.         -0.01046676\n",
      "  -0.01479061]\n",
      " ...\n",
      " [ 0.          0.03727192  0.         ...  1.         -0.11488183\n",
      "   0.        ]\n",
      " [ 0.01540869 -0.00331617 -0.01046676 ... -0.11488183  1.\n",
      "   0.        ]\n",
      " [ 0.          0.         -0.01479061 ...  0.          0.\n",
      "   1.        ]]\n"
     ]
    }
   ],
   "source": [
    "from sklearn.metrics.pairwise import pairwise_distances\n",
    "\n",
    "# User Similarity Matrix\n",
    "item_correlation = 1 - pairwise_distances(df_subtracted.fillna(0), metric='cosine')\n",
    "item_correlation[np.isnan(item_correlation)] = 0\n",
    "print(item_correlation)"
   ]
  },
  {
   "cell_type": "markdown",
   "metadata": {
    "hidden": true
   },
   "source": [
    "Compute and visualise the similarity between the first 10 beers"
   ]
  },
  {
   "cell_type": "code",
   "execution_count": 58,
   "metadata": {
    "hidden": true
   },
   "outputs": [],
   "source": [
    "#slicing the data for first 10 beers\n",
    "first_10_beer = item_correlation[:10,:10]"
   ]
  },
  {
   "cell_type": "code",
   "execution_count": 91,
   "metadata": {
    "hidden": true
   },
   "outputs": [
    {
     "data": {
      "image/png": "[encoded data removed]",
      "text/plain": [
       "<Figure size 600x400 with 2 Axes>"
      ]
     },
     "metadata": {
      "needs_background": "light"
     },
     "output_type": "display_data"
    }
   ],
   "source": [
    "#checking the correlation among them\n",
    "plt.figure(dpi=100)\n",
    "sns.heatmap(first_10_beer, annot=True)\n",
    "plt.show()"
   ]
  },
  {
   "cell_type": "markdown",
   "metadata": {
    "hidden": true
   },
   "source": [
    "As we can see beer 9 is correlated with beer 1"
   ]
  },
  {
   "cell_type": "markdown",
   "metadata": {
    "colab_type": "text",
    "hidden": true,
    "id": "eX2zRVYUTIy2"
   },
   "source": [
    "Filtering the correlation only for which the value is greater than 0. (Positively correlated)"
   ]
  },
  {
   "cell_type": "code",
   "execution_count": 59,
   "metadata": {
    "colab": {
     "base_uri": "https://localhost:8080/",
     "height": 235
    },
    "colab_type": "code",
    "executionInfo": {
     "elapsed": 122251,
     "status": "ok",
     "timestamp": 1581780981624,
     "user": {
      "displayName": "Ashish Bansal",
      "photoUrl": "https://lh3.googleusercontent.com/a-/AAuE7mAl4f5AYg93L5LxheDY1qujFVeyESegUCfT5BYI0A=s64",
      "userId": "16202438904858005659"
     },
     "user_tz": -330
    },
    "hidden": true,
    "id": "_SpUU7EtTIy4",
    "outputId": "2a1318cd-b8d5-4461-ca00-9c570be7fc7d"
   },
   "outputs": [
    {
     "data": {
      "text/plain": [
       "array([[1.        , 0.        , 0.01211138, ..., 0.        , 0.01540869,\n",
       "        0.        ],\n",
       "       [0.        , 1.        , 0.        , ..., 0.03727192, 0.        ,\n",
       "        0.        ],\n",
       "       [0.01211138, 0.        , 1.        , ..., 0.        , 0.        ,\n",
       "        0.        ],\n",
       "       ...,\n",
       "       [0.        , 0.03727192, 0.        , ..., 1.        , 0.        ,\n",
       "        0.        ],\n",
       "       [0.01540869, 0.        , 0.        , ..., 0.        , 1.        ,\n",
       "        0.        ],\n",
       "       [0.        , 0.        , 0.        , ..., 0.        , 0.        ,\n",
       "        1.        ]])"
      ]
     },
     "execution_count": 59,
     "metadata": {},
     "output_type": "execute_result"
    }
   ],
   "source": [
    "item_correlation[item_correlation<0]=0\n",
    "item_correlation"
   ]
  },
  {
   "cell_type": "code",
   "execution_count": 60,
   "metadata": {
    "hidden": true
   },
   "outputs": [
    {
     "data": {
      "text/plain": [
       "(4256, 4256)"
      ]
     },
     "execution_count": 60,
     "metadata": {},
     "output_type": "execute_result"
    }
   ],
   "source": [
    "#checking the shape of item correlation\n",
    "item_correlation.shape"
   ]
  },
  {
   "cell_type": "markdown",
   "metadata": {
    "colab_type": "text",
    "heading_collapsed": true,
    "hidden": true,
    "id": "fgWq2dTSTIzC"
   },
   "source": [
    "### Prediction"
   ]
  },
  {
   "cell_type": "code",
   "execution_count": 61,
   "metadata": {
    "colab": {
     "base_uri": "https://localhost:8080/",
     "height": 235
    },
    "colab_type": "code",
    "executionInfo": {
     "elapsed": 128386,
     "status": "ok",
     "timestamp": 1581780989221,
     "user": {
      "displayName": "Ashish Bansal",
      "photoUrl": "https://lh3.googleusercontent.com/a-/AAuE7mAl4f5AYg93L5LxheDY1qujFVeyESegUCfT5BYI0A=s64",
      "userId": "16202438904858005659"
     },
     "user_tz": -330
    },
    "hidden": true,
    "id": "O8K6XJInTIzL",
    "outputId": "5ca9b5f4-58aa-4b4a-f5a9-fc372052d87a"
   },
   "outputs": [
    {
     "data": {
      "text/plain": [
       "array([[0.14525899, 0.65983015, 0.66839251, ..., 2.14337916, 0.94960013,\n",
       "        0.41936545],\n",
       "       [0.        , 0.        , 0.11684525, ..., 0.        , 0.02070355,\n",
       "        0.        ],\n",
       "       [0.        , 0.11450807, 0.08898361, ..., 0.02949306, 0.0310163 ,\n",
       "        0.        ],\n",
       "       ...,\n",
       "       [0.02574087, 0.        , 0.        , ..., 0.1756002 , 0.00448454,\n",
       "        0.        ],\n",
       "       [0.11538136, 0.01805158, 0.22767592, ..., 0.02894815, 0.07471608,\n",
       "        0.        ],\n",
       "       [0.01899867, 0.12102912, 0.01053752, ..., 0.        , 0.0950498 ,\n",
       "        0.00873801]])"
      ]
     },
     "execution_count": 61,
     "metadata": {},
     "output_type": "execute_result"
    }
   ],
   "source": [
    "#Multiplying the martices\n",
    "item_predicted_ratings = np.dot((beer_features_1.fillna(0).T),item_correlation)\n",
    "item_predicted_ratings"
   ]
  },
  {
   "cell_type": "code",
   "execution_count": 62,
   "metadata": {
    "colab": {
     "base_uri": "https://localhost:8080/",
     "height": 34
    },
    "colab_type": "code",
    "executionInfo": {
     "elapsed": 127754,
     "status": "ok",
     "timestamp": 1581780989226,
     "user": {
      "displayName": "Ashish Bansal",
      "photoUrl": "https://lh3.googleusercontent.com/a-/AAuE7mAl4f5AYg93L5LxheDY1qujFVeyESegUCfT5BYI0A=s64",
      "userId": "16202438904858005659"
     },
     "user_tz": -330
    },
    "hidden": true,
    "id": "LDQso2EGTIzV",
    "outputId": "2b311f94-b325-45b3-e085-25418073b9ca"
   },
   "outputs": [
    {
     "data": {
      "text/plain": [
       "(18178, 4256)"
      ]
     },
     "execution_count": 62,
     "metadata": {},
     "output_type": "execute_result"
    }
   ],
   "source": [
    "item_predicted_ratings.shape"
   ]
  },
  {
   "cell_type": "code",
   "execution_count": 63,
   "metadata": {
    "colab": {
     "base_uri": "https://localhost:8080/",
     "height": 34
    },
    "colab_type": "code",
    "executionInfo": {
     "elapsed": 127426,
     "status": "ok",
     "timestamp": 1581780989230,
     "user": {
      "displayName": "Ashish Bansal",
      "photoUrl": "https://lh3.googleusercontent.com/a-/AAuE7mAl4f5AYg93L5LxheDY1qujFVeyESegUCfT5BYI0A=s64",
      "userId": "16202438904858005659"
     },
     "user_tz": -330
    },
    "hidden": true,
    "id": "6iA18HsXTIzd",
    "outputId": "b540de02-d05a-4e6a-b5c5-82158c84984b"
   },
   "outputs": [
    {
     "data": {
      "text/plain": [
       "(18178, 4256)"
      ]
     },
     "execution_count": 63,
     "metadata": {},
     "output_type": "execute_result"
    }
   ],
   "source": [
    "dummy_train.shape"
   ]
  },
  {
   "cell_type": "markdown",
   "metadata": {
    "colab_type": "text",
    "heading_collapsed": true,
    "hidden": true,
    "id": "iQKOP0jsTIzi"
   },
   "source": [
    "### Filtering the rating only for the beers not rated by the user for recommendation"
   ]
  },
  {
   "cell_type": "code",
   "execution_count": 64,
   "metadata": {
    "colab": {
     "base_uri": "https://localhost:8080/",
     "height": 274
    },
    "colab_type": "code",
    "executionInfo": {
     "elapsed": 125332,
     "status": "ok",
     "timestamp": 1581780989635,
     "user": {
      "displayName": "Ashish Bansal",
      "photoUrl": "https://lh3.googleusercontent.com/a-/AAuE7mAl4f5AYg93L5LxheDY1qujFVeyESegUCfT5BYI0A=s64",
      "userId": "16202438904858005659"
     },
     "user_tz": -330
    },
    "hidden": true,
    "id": "xL6NpKX9TIzj",
    "outputId": "53dcc521-68f7-4e3f-e82f-656c545053b3"
   },
   "outputs": [
    {
     "data": {
      "text/html": [
       "<div>\n",
       "<style scoped>\n",
       "    .dataframe tbody tr th:only-of-type {\n",
       "        vertical-align: middle;\n",
       "    }\n",
       "\n",
       "    .dataframe tbody tr th {\n",
       "        vertical-align: top;\n",
       "    }\n",
       "\n",
       "    .dataframe thead th {\n",
       "        text-align: right;\n",
       "    }\n",
       "</style>\n",
       "<table border=\"1\" class=\"dataframe\">\n",
       "  <thead>\n",
       "    <tr style=\"text-align: right;\">\n",
       "      <th>beer_beerid</th>\n",
       "      <th>5</th>\n",
       "      <th>6</th>\n",
       "      <th>7</th>\n",
       "      <th>8</th>\n",
       "      <th>9</th>\n",
       "      <th>10</th>\n",
       "      <th>11</th>\n",
       "      <th>12</th>\n",
       "      <th>13</th>\n",
       "      <th>14</th>\n",
       "      <th>...</th>\n",
       "      <th>74548</th>\n",
       "      <th>74579</th>\n",
       "      <th>74591</th>\n",
       "      <th>74783</th>\n",
       "      <th>74827</th>\n",
       "      <th>74904</th>\n",
       "      <th>74986</th>\n",
       "      <th>75013</th>\n",
       "      <th>75086</th>\n",
       "      <th>76144</th>\n",
       "    </tr>\n",
       "    <tr>\n",
       "      <th>review_profilename</th>\n",
       "      <th></th>\n",
       "      <th></th>\n",
       "      <th></th>\n",
       "      <th></th>\n",
       "      <th></th>\n",
       "      <th></th>\n",
       "      <th></th>\n",
       "      <th></th>\n",
       "      <th></th>\n",
       "      <th></th>\n",
       "      <th></th>\n",
       "      <th></th>\n",
       "      <th></th>\n",
       "      <th></th>\n",
       "      <th></th>\n",
       "      <th></th>\n",
       "      <th></th>\n",
       "      <th></th>\n",
       "      <th></th>\n",
       "      <th></th>\n",
       "      <th></th>\n",
       "    </tr>\n",
       "  </thead>\n",
       "  <tbody>\n",
       "    <tr>\n",
       "      <td>0110x011</td>\n",
       "      <td>0.145259</td>\n",
       "      <td>0.659830</td>\n",
       "      <td>0.668393</td>\n",
       "      <td>0.307106</td>\n",
       "      <td>0.196194</td>\n",
       "      <td>0.446388</td>\n",
       "      <td>0.105648</td>\n",
       "      <td>0.964518</td>\n",
       "      <td>0.277860</td>\n",
       "      <td>0.358746</td>\n",
       "      <td>...</td>\n",
       "      <td>1.043923</td>\n",
       "      <td>0.537332</td>\n",
       "      <td>0.469443</td>\n",
       "      <td>0.307827</td>\n",
       "      <td>1.199551</td>\n",
       "      <td>0.139630</td>\n",
       "      <td>0.503557</td>\n",
       "      <td>2.143379</td>\n",
       "      <td>0.949600</td>\n",
       "      <td>0.419365</td>\n",
       "    </tr>\n",
       "    <tr>\n",
       "      <td>01Ryan10</td>\n",
       "      <td>0.000000</td>\n",
       "      <td>0.000000</td>\n",
       "      <td>0.116845</td>\n",
       "      <td>0.000000</td>\n",
       "      <td>0.000000</td>\n",
       "      <td>0.004093</td>\n",
       "      <td>0.000000</td>\n",
       "      <td>0.000000</td>\n",
       "      <td>0.000000</td>\n",
       "      <td>0.000000</td>\n",
       "      <td>...</td>\n",
       "      <td>0.000000</td>\n",
       "      <td>0.155203</td>\n",
       "      <td>0.000000</td>\n",
       "      <td>0.091288</td>\n",
       "      <td>0.000000</td>\n",
       "      <td>0.028012</td>\n",
       "      <td>0.034321</td>\n",
       "      <td>0.000000</td>\n",
       "      <td>0.020704</td>\n",
       "      <td>0.000000</td>\n",
       "    </tr>\n",
       "    <tr>\n",
       "      <td>04101Brewer</td>\n",
       "      <td>0.000000</td>\n",
       "      <td>0.114508</td>\n",
       "      <td>0.088984</td>\n",
       "      <td>0.000000</td>\n",
       "      <td>0.000000</td>\n",
       "      <td>0.006132</td>\n",
       "      <td>0.000000</td>\n",
       "      <td>0.000000</td>\n",
       "      <td>0.000000</td>\n",
       "      <td>0.000000</td>\n",
       "      <td>...</td>\n",
       "      <td>0.000000</td>\n",
       "      <td>0.069317</td>\n",
       "      <td>0.145800</td>\n",
       "      <td>0.000000</td>\n",
       "      <td>0.039402</td>\n",
       "      <td>0.000000</td>\n",
       "      <td>0.000000</td>\n",
       "      <td>0.029493</td>\n",
       "      <td>0.031016</td>\n",
       "      <td>0.000000</td>\n",
       "    </tr>\n",
       "    <tr>\n",
       "      <td>05Harley</td>\n",
       "      <td>0.938446</td>\n",
       "      <td>0.739017</td>\n",
       "      <td>0.314239</td>\n",
       "      <td>0.793638</td>\n",
       "      <td>0.309616</td>\n",
       "      <td>1.038832</td>\n",
       "      <td>0.021234</td>\n",
       "      <td>0.633639</td>\n",
       "      <td>0.144820</td>\n",
       "      <td>0.544344</td>\n",
       "      <td>...</td>\n",
       "      <td>0.289327</td>\n",
       "      <td>0.432028</td>\n",
       "      <td>0.401374</td>\n",
       "      <td>0.264036</td>\n",
       "      <td>0.738560</td>\n",
       "      <td>0.418241</td>\n",
       "      <td>1.254938</td>\n",
       "      <td>0.852468</td>\n",
       "      <td>0.547181</td>\n",
       "      <td>0.521962</td>\n",
       "    </tr>\n",
       "    <tr>\n",
       "      <td>0beerguy0</td>\n",
       "      <td>0.387906</td>\n",
       "      <td>0.207039</td>\n",
       "      <td>0.053501</td>\n",
       "      <td>0.372696</td>\n",
       "      <td>0.002359</td>\n",
       "      <td>0.078481</td>\n",
       "      <td>0.814244</td>\n",
       "      <td>0.113646</td>\n",
       "      <td>0.055588</td>\n",
       "      <td>0.305834</td>\n",
       "      <td>...</td>\n",
       "      <td>0.000000</td>\n",
       "      <td>0.000000</td>\n",
       "      <td>0.090740</td>\n",
       "      <td>0.011537</td>\n",
       "      <td>0.001867</td>\n",
       "      <td>0.044114</td>\n",
       "      <td>0.007340</td>\n",
       "      <td>0.011165</td>\n",
       "      <td>0.043213</td>\n",
       "      <td>0.040645</td>\n",
       "    </tr>\n",
       "  </tbody>\n",
       "</table>\n",
       "<p>5 rows × 4256 columns</p>\n",
       "</div>"
      ],
      "text/plain": [
       "beer_beerid            5         6         7         8         9      \\\n",
       "review_profilename                                                     \n",
       "0110x011            0.145259  0.659830  0.668393  0.307106  0.196194   \n",
       "01Ryan10            0.000000  0.000000  0.116845  0.000000  0.000000   \n",
       "04101Brewer         0.000000  0.114508  0.088984  0.000000  0.000000   \n",
       "05Harley            0.938446  0.739017  0.314239  0.793638  0.309616   \n",
       "0beerguy0           0.387906  0.207039  0.053501  0.372696  0.002359   \n",
       "\n",
       "beer_beerid            10        11        12        13        14     ...  \\\n",
       "review_profilename                                                    ...   \n",
       "0110x011            0.446388  0.105648  0.964518  0.277860  0.358746  ...   \n",
       "01Ryan10            0.004093  0.000000  0.000000  0.000000  0.000000  ...   \n",
       "04101Brewer         0.006132  0.000000  0.000000  0.000000  0.000000  ...   \n",
       "05Harley            1.038832  0.021234  0.633639  0.144820  0.544344  ...   \n",
       "0beerguy0           0.078481  0.814244  0.113646  0.055588  0.305834  ...   \n",
       "\n",
       "beer_beerid            74548     74579     74591     74783     74827  \\\n",
       "review_profilename                                                     \n",
       "0110x011            1.043923  0.537332  0.469443  0.307827  1.199551   \n",
       "01Ryan10            0.000000  0.155203  0.000000  0.091288  0.000000   \n",
       "04101Brewer         0.000000  0.069317  0.145800  0.000000  0.039402   \n",
       "05Harley            0.289327  0.432028  0.401374  0.264036  0.738560   \n",
       "0beerguy0           0.000000  0.000000  0.090740  0.011537  0.001867   \n",
       "\n",
       "beer_beerid            74904     74986     75013     75086     76144  \n",
       "review_profilename                                                    \n",
       "0110x011            0.139630  0.503557  2.143379  0.949600  0.419365  \n",
       "01Ryan10            0.028012  0.034321  0.000000  0.020704  0.000000  \n",
       "04101Brewer         0.000000  0.000000  0.029493  0.031016  0.000000  \n",
       "05Harley            0.418241  1.254938  0.852468  0.547181  0.521962  \n",
       "0beerguy0           0.044114  0.007340  0.011165  0.043213  0.040645  \n",
       "\n",
       "[5 rows x 4256 columns]"
      ]
     },
     "execution_count": 64,
     "metadata": {},
     "output_type": "execute_result"
    }
   ],
   "source": [
    "item_final_rating = np.multiply(item_predicted_ratings,dummy_train)\n",
    "item_final_rating.head()"
   ]
  },
  {
   "cell_type": "markdown",
   "metadata": {
    "colab_type": "text",
    "heading_collapsed": true,
    "hidden": true,
    "id": "GKxLEdJZTIzn"
   },
   "source": [
    "### Top 5 prediction for the user -1"
   ]
  },
  {
   "cell_type": "code",
   "execution_count": 65,
   "metadata": {
    "colab": {
     "base_uri": "https://localhost:8080/",
     "height": 134
    },
    "colab_type": "code",
    "executionInfo": {
     "elapsed": 123232,
     "status": "ok",
     "timestamp": 1581780989639,
     "user": {
      "displayName": "Ashish Bansal",
      "photoUrl": "https://lh3.googleusercontent.com/a-/AAuE7mAl4f5AYg93L5LxheDY1qujFVeyESegUCfT5BYI0A=s64",
      "userId": "16202438904858005659"
     },
     "user_tz": -330
    },
    "hidden": true,
    "id": "cfSTYkboTIzo",
    "outputId": "25e49bf6-3813-402f-9be6-cc91d4e4db44"
   },
   "outputs": [
    {
     "data": {
      "text/plain": [
       "beer_beerid\n",
       "28268    4.285281\n",
       "56775    4.164330\n",
       "45679    4.160792\n",
       "59194    3.960795\n",
       "55139    3.872927\n",
       "Name: 0110x011, dtype: float64"
      ]
     },
     "execution_count": 65,
     "metadata": {},
     "output_type": "execute_result"
    }
   ],
   "source": [
    "#beer recommendation for user 1 using item based similarity\n",
    "item_final_rating.iloc[0].sort_values(ascending=False)[0:5]"
   ]
  },
  {
   "cell_type": "markdown",
   "metadata": {
    "colab_type": "text",
    "heading_collapsed": true,
    "id": "GRUZbz_KTIzr"
   },
   "source": [
    "## Evaluation"
   ]
  },
  {
   "cell_type": "markdown",
   "metadata": {
    "colab_type": "text",
    "hidden": true,
    "id": "ABisLJBWTIzs"
   },
   "source": [
    "Evaluation will we same as you have seen above for the prediction. The only difference being, you will evaluate for the beer already rated by the user insead of predicting it for the beer not rated by the user. "
   ]
  },
  {
   "cell_type": "markdown",
   "metadata": {
    "colab_type": "text",
    "heading_collapsed": true,
    "hidden": true,
    "id": "Kiduc-HRTIzt"
   },
   "source": [
    "### Using User Similarity"
   ]
  },
  {
   "cell_type": "code",
   "execution_count": 66,
   "metadata": {
    "colab": {},
    "colab_type": "code",
    "hidden": true,
    "id": "f6Hkvx2BTIzv"
   },
   "outputs": [],
   "source": [
    "#pivoting the data\n",
    "test_beer_features = test.pivot_table(\n",
    "    index='review_profilename',\n",
    "    columns='beer_beerid',\n",
    "    values='review_overall'\n",
    ")"
   ]
  },
  {
   "cell_type": "code",
   "execution_count": 67,
   "metadata": {
    "colab": {},
    "colab_type": "code",
    "hidden": true,
    "id": "2BXtXNH0f_jf"
   },
   "outputs": [],
   "source": [
    "#normalizing the data\n",
    "mean = np.nanmean(test_beer_features, axis=1)\n",
    "test_df_subtracted = (test_beer_features.T-mean).T"
   ]
  },
  {
   "cell_type": "code",
   "execution_count": 68,
   "metadata": {
    "colab": {
     "base_uri": "https://localhost:8080/",
     "height": 134
    },
    "colab_type": "code",
    "executionInfo": {
     "elapsed": 119163,
     "status": "ok",
     "timestamp": 1581781016067,
     "user": {
      "displayName": "Ashish Bansal",
      "photoUrl": "https://lh3.googleusercontent.com/a-/AAuE7mAl4f5AYg93L5LxheDY1qujFVeyESegUCfT5BYI0A=s64",
      "userId": "16202438904858005659"
     },
     "user_tz": -330
    },
    "hidden": true,
    "id": "LrUerWTif_fe",
    "outputId": "9d74ee89-6fd6-4e79-ef61-12952624de0f"
   },
   "outputs": [
    {
     "name": "stdout",
     "output_type": "stream",
     "text": [
      "[[1. 0. 0. ... 0. 0. 0.]\n",
      " [0. 1. 0. ... 0. 0. 0.]\n",
      " [0. 0. 1. ... 0. 0. 0.]\n",
      " ...\n",
      " [0. 0. 0. ... 1. 0. 0.]\n",
      " [0. 0. 0. ... 0. 0. 0.]\n",
      " [0. 0. 0. ... 0. 0. 0.]]\n"
     ]
    }
   ],
   "source": [
    "# User Similarity Matrix\n",
    "test_user_correlation = 1 - pairwise_distances(test_df_subtracted.fillna(0), metric='cosine')\n",
    "test_user_correlation[np.isnan(test_user_correlation)] = 0\n",
    "print(test_user_correlation)"
   ]
  },
  {
   "cell_type": "code",
   "execution_count": 69,
   "metadata": {
    "colab": {
     "base_uri": "https://localhost:8080/",
     "height": 235
    },
    "colab_type": "code",
    "executionInfo": {
     "elapsed": 131372,
     "status": "ok",
     "timestamp": 1581781035701,
     "user": {
      "displayName": "Ashish Bansal",
      "photoUrl": "https://lh3.googleusercontent.com/a-/AAuE7mAl4f5AYg93L5LxheDY1qujFVeyESegUCfT5BYI0A=s64",
      "userId": "16202438904858005659"
     },
     "user_tz": -330
    },
    "hidden": true,
    "id": "e_qYyZyRTIzx",
    "outputId": "13252ce0-6953-457b-d195-023ec199e7c3"
   },
   "outputs": [
    {
     "data": {
      "text/plain": [
       "array([[0.0624601 , 0.07433164, 0.31805408, ..., 0.17234855, 0.28063077,\n",
       "        0.19415157],\n",
       "       [0.16986554, 0.02785984, 1.04057005, ..., 0.17589445, 0.15780997,\n",
       "        0.        ],\n",
       "       [0.99912985, 0.29908996, 0.07547315, ..., 0.21665583, 0.16527427,\n",
       "        0.11213802],\n",
       "       ...,\n",
       "       [1.22858391, 1.25067705, 0.39384452, ..., 0.        , 0.20089052,\n",
       "        0.        ],\n",
       "       [0.        , 0.        , 0.        , ..., 0.        , 0.        ,\n",
       "        0.        ],\n",
       "       [0.        , 0.        , 0.        , ..., 0.        , 0.        ,\n",
       "        0.        ]])"
      ]
     },
     "execution_count": 69,
     "metadata": {},
     "output_type": "execute_result"
    }
   ],
   "source": [
    "#getting test useer prediction rating matrix\n",
    "test_user_correlation[test_user_correlation<0]=0\n",
    "test_user_predicted_ratings = np.dot(test_user_correlation, test_beer_features.fillna(0))\n",
    "test_user_predicted_ratings"
   ]
  },
  {
   "cell_type": "markdown",
   "metadata": {
    "colab_type": "text",
    "hidden": true,
    "id": "hIz414GoTIz1"
   },
   "source": [
    "#### Doing prediction for the beers rated by the user"
   ]
  },
  {
   "cell_type": "code",
   "execution_count": 70,
   "metadata": {
    "colab": {},
    "colab_type": "code",
    "hidden": true,
    "id": "AMkzhTYyTIz1"
   },
   "outputs": [],
   "source": [
    "test_user_final_rating = np.multiply(test_user_predicted_ratings,dummy_test)"
   ]
  },
  {
   "cell_type": "code",
   "execution_count": 71,
   "metadata": {
    "colab": {
     "base_uri": "https://localhost:8080/",
     "height": 274
    },
    "colab_type": "code",
    "executionInfo": {
     "elapsed": 1197,
     "status": "ok",
     "timestamp": 1581781048680,
     "user": {
      "displayName": "Ashish Bansal",
      "photoUrl": "https://lh3.googleusercontent.com/a-/AAuE7mAl4f5AYg93L5LxheDY1qujFVeyESegUCfT5BYI0A=s64",
      "userId": "16202438904858005659"
     },
     "user_tz": -330
    },
    "hidden": true,
    "id": "AGd12AS9TIz4",
    "outputId": "f1335fd7-fab2-428d-d625-52c4bf5e60a1"
   },
   "outputs": [
    {
     "data": {
      "text/html": [
       "<div>\n",
       "<style scoped>\n",
       "    .dataframe tbody tr th:only-of-type {\n",
       "        vertical-align: middle;\n",
       "    }\n",
       "\n",
       "    .dataframe tbody tr th {\n",
       "        vertical-align: top;\n",
       "    }\n",
       "\n",
       "    .dataframe thead th {\n",
       "        text-align: right;\n",
       "    }\n",
       "</style>\n",
       "<table border=\"1\" class=\"dataframe\">\n",
       "  <thead>\n",
       "    <tr style=\"text-align: right;\">\n",
       "      <th>beer_beerid</th>\n",
       "      <th>5</th>\n",
       "      <th>6</th>\n",
       "      <th>7</th>\n",
       "      <th>8</th>\n",
       "      <th>9</th>\n",
       "      <th>10</th>\n",
       "      <th>11</th>\n",
       "      <th>12</th>\n",
       "      <th>13</th>\n",
       "      <th>14</th>\n",
       "      <th>...</th>\n",
       "      <th>74548</th>\n",
       "      <th>74579</th>\n",
       "      <th>74591</th>\n",
       "      <th>74783</th>\n",
       "      <th>74827</th>\n",
       "      <th>74904</th>\n",
       "      <th>74986</th>\n",
       "      <th>75013</th>\n",
       "      <th>75086</th>\n",
       "      <th>76144</th>\n",
       "    </tr>\n",
       "    <tr>\n",
       "      <th>review_profilename</th>\n",
       "      <th></th>\n",
       "      <th></th>\n",
       "      <th></th>\n",
       "      <th></th>\n",
       "      <th></th>\n",
       "      <th></th>\n",
       "      <th></th>\n",
       "      <th></th>\n",
       "      <th></th>\n",
       "      <th></th>\n",
       "      <th></th>\n",
       "      <th></th>\n",
       "      <th></th>\n",
       "      <th></th>\n",
       "      <th></th>\n",
       "      <th></th>\n",
       "      <th></th>\n",
       "      <th></th>\n",
       "      <th></th>\n",
       "      <th></th>\n",
       "      <th></th>\n",
       "    </tr>\n",
       "  </thead>\n",
       "  <tbody>\n",
       "    <tr>\n",
       "      <td>0110x011</td>\n",
       "      <td>0.0</td>\n",
       "      <td>0.0</td>\n",
       "      <td>0.0</td>\n",
       "      <td>0.0</td>\n",
       "      <td>0.0</td>\n",
       "      <td>0.0</td>\n",
       "      <td>0.0</td>\n",
       "      <td>0.0</td>\n",
       "      <td>0.0</td>\n",
       "      <td>0.0</td>\n",
       "      <td>...</td>\n",
       "      <td>0.0</td>\n",
       "      <td>0.0</td>\n",
       "      <td>0.0</td>\n",
       "      <td>0.0</td>\n",
       "      <td>0.0</td>\n",
       "      <td>0.0</td>\n",
       "      <td>0.0</td>\n",
       "      <td>0.0</td>\n",
       "      <td>0.0</td>\n",
       "      <td>0.0</td>\n",
       "    </tr>\n",
       "    <tr>\n",
       "      <td>05Harley</td>\n",
       "      <td>0.0</td>\n",
       "      <td>0.0</td>\n",
       "      <td>0.0</td>\n",
       "      <td>0.0</td>\n",
       "      <td>0.0</td>\n",
       "      <td>0.0</td>\n",
       "      <td>0.0</td>\n",
       "      <td>0.0</td>\n",
       "      <td>0.0</td>\n",
       "      <td>0.0</td>\n",
       "      <td>...</td>\n",
       "      <td>0.0</td>\n",
       "      <td>0.0</td>\n",
       "      <td>0.0</td>\n",
       "      <td>0.0</td>\n",
       "      <td>0.0</td>\n",
       "      <td>0.0</td>\n",
       "      <td>0.0</td>\n",
       "      <td>0.0</td>\n",
       "      <td>0.0</td>\n",
       "      <td>0.0</td>\n",
       "    </tr>\n",
       "    <tr>\n",
       "      <td>0tt0</td>\n",
       "      <td>0.0</td>\n",
       "      <td>0.0</td>\n",
       "      <td>0.0</td>\n",
       "      <td>0.0</td>\n",
       "      <td>0.0</td>\n",
       "      <td>0.0</td>\n",
       "      <td>0.0</td>\n",
       "      <td>0.0</td>\n",
       "      <td>0.0</td>\n",
       "      <td>0.0</td>\n",
       "      <td>...</td>\n",
       "      <td>0.0</td>\n",
       "      <td>0.0</td>\n",
       "      <td>0.0</td>\n",
       "      <td>0.0</td>\n",
       "      <td>0.0</td>\n",
       "      <td>0.0</td>\n",
       "      <td>0.0</td>\n",
       "      <td>0.0</td>\n",
       "      <td>0.0</td>\n",
       "      <td>0.0</td>\n",
       "    </tr>\n",
       "    <tr>\n",
       "      <td>1000Bottles</td>\n",
       "      <td>0.0</td>\n",
       "      <td>0.0</td>\n",
       "      <td>0.0</td>\n",
       "      <td>0.0</td>\n",
       "      <td>0.0</td>\n",
       "      <td>0.0</td>\n",
       "      <td>0.0</td>\n",
       "      <td>0.0</td>\n",
       "      <td>0.0</td>\n",
       "      <td>0.0</td>\n",
       "      <td>...</td>\n",
       "      <td>0.0</td>\n",
       "      <td>0.0</td>\n",
       "      <td>0.0</td>\n",
       "      <td>0.0</td>\n",
       "      <td>0.0</td>\n",
       "      <td>0.0</td>\n",
       "      <td>0.0</td>\n",
       "      <td>0.0</td>\n",
       "      <td>0.0</td>\n",
       "      <td>0.0</td>\n",
       "    </tr>\n",
       "    <tr>\n",
       "      <td>100floods</td>\n",
       "      <td>0.0</td>\n",
       "      <td>0.0</td>\n",
       "      <td>0.0</td>\n",
       "      <td>0.0</td>\n",
       "      <td>0.0</td>\n",
       "      <td>0.0</td>\n",
       "      <td>0.0</td>\n",
       "      <td>0.0</td>\n",
       "      <td>0.0</td>\n",
       "      <td>0.0</td>\n",
       "      <td>...</td>\n",
       "      <td>0.0</td>\n",
       "      <td>0.0</td>\n",
       "      <td>0.0</td>\n",
       "      <td>0.0</td>\n",
       "      <td>0.0</td>\n",
       "      <td>0.0</td>\n",
       "      <td>0.0</td>\n",
       "      <td>0.0</td>\n",
       "      <td>0.0</td>\n",
       "      <td>0.0</td>\n",
       "    </tr>\n",
       "  </tbody>\n",
       "</table>\n",
       "<p>5 rows × 4256 columns</p>\n",
       "</div>"
      ],
      "text/plain": [
       "beer_beerid         5      6      7      8      9      10     11     12     \\\n",
       "review_profilename                                                           \n",
       "0110x011              0.0    0.0    0.0    0.0    0.0    0.0    0.0    0.0   \n",
       "05Harley              0.0    0.0    0.0    0.0    0.0    0.0    0.0    0.0   \n",
       "0tt0                  0.0    0.0    0.0    0.0    0.0    0.0    0.0    0.0   \n",
       "1000Bottles           0.0    0.0    0.0    0.0    0.0    0.0    0.0    0.0   \n",
       "100floods             0.0    0.0    0.0    0.0    0.0    0.0    0.0    0.0   \n",
       "\n",
       "beer_beerid         13     14     ...  74548  74579  74591  74783  74827  \\\n",
       "review_profilename                ...                                      \n",
       "0110x011              0.0    0.0  ...    0.0    0.0    0.0    0.0    0.0   \n",
       "05Harley              0.0    0.0  ...    0.0    0.0    0.0    0.0    0.0   \n",
       "0tt0                  0.0    0.0  ...    0.0    0.0    0.0    0.0    0.0   \n",
       "1000Bottles           0.0    0.0  ...    0.0    0.0    0.0    0.0    0.0   \n",
       "100floods             0.0    0.0  ...    0.0    0.0    0.0    0.0    0.0   \n",
       "\n",
       "beer_beerid         74904  74986  75013  75086  76144  \n",
       "review_profilename                                     \n",
       "0110x011              0.0    0.0    0.0    0.0    0.0  \n",
       "05Harley              0.0    0.0    0.0    0.0    0.0  \n",
       "0tt0                  0.0    0.0    0.0    0.0    0.0  \n",
       "1000Bottles           0.0    0.0    0.0    0.0    0.0  \n",
       "100floods             0.0    0.0    0.0    0.0    0.0  \n",
       "\n",
       "[5 rows x 4256 columns]"
      ]
     },
     "execution_count": 71,
     "metadata": {},
     "output_type": "execute_result"
    }
   ],
   "source": [
    "test_user_final_rating.head()"
   ]
  },
  {
   "cell_type": "markdown",
   "metadata": {
    "colab_type": "text",
    "hidden": true,
    "id": "cAD_gv4bTIz7"
   },
   "source": [
    "#### Calculating the RMSE for only the beers rated by user. For  RMSE, normalising the rating to (1,5) range. "
   ]
  },
  {
   "cell_type": "code",
   "execution_count": 72,
   "metadata": {
    "colab": {
     "base_uri": "https://localhost:8080/",
     "height": 151
    },
    "colab_type": "code",
    "executionInfo": {
     "elapsed": 3723,
     "status": "ok",
     "timestamp": 1581781093705,
     "user": {
      "displayName": "Ashish Bansal",
      "photoUrl": "https://lh3.googleusercontent.com/a-/AAuE7mAl4f5AYg93L5LxheDY1qujFVeyESegUCfT5BYI0A=s64",
      "userId": "16202438904858005659"
     },
     "user_tz": -330
    },
    "hidden": true,
    "id": "rO_XuPoTTIz8",
    "outputId": "5c517d9f-a885-4729-94f3-03022a51ed3b"
   },
   "outputs": [
    {
     "name": "stdout",
     "output_type": "stream",
     "text": [
      "MinMaxScaler(copy=True, feature_range=(1, 5))\n",
      "[[nan nan nan ... nan nan nan]\n",
      " [nan nan nan ... nan nan nan]\n",
      " [nan nan nan ... nan nan nan]\n",
      " ...\n",
      " [nan nan nan ... nan nan nan]\n",
      " [nan nan nan ... nan nan nan]\n",
      " [nan nan nan ... nan nan nan]]\n"
     ]
    }
   ],
   "source": [
    "from sklearn.preprocessing import MinMaxScaler\n",
    "from numpy import *\n",
    "\n",
    "X  = test_user_final_rating.copy() \n",
    "X = X[X>0]\n",
    "\n",
    "scaler = MinMaxScaler(feature_range=(1, 5))\n",
    "print(scaler.fit(X))\n",
    "y = (scaler.transform(X))\n",
    "\n",
    "print(y)"
   ]
  },
  {
   "cell_type": "code",
   "execution_count": 73,
   "metadata": {
    "colab": {},
    "colab_type": "code",
    "hidden": true,
    "id": "tvaWgnh0TI0C"
   },
   "outputs": [],
   "source": [
    "test_ = test.pivot_table(\n",
    "    index='review_profilename',\n",
    "    columns='beer_beerid',\n",
    "    values='review_overall'\n",
    ")"
   ]
  },
  {
   "cell_type": "code",
   "execution_count": 74,
   "metadata": {
    "colab": {},
    "colab_type": "code",
    "hidden": true,
    "id": "0NCQpkXaTI0E"
   },
   "outputs": [],
   "source": [
    "# Finding total non-NaN value\n",
    "total_non_nan = np.count_nonzero(~np.isnan(y))"
   ]
  },
  {
   "cell_type": "code",
   "execution_count": 75,
   "metadata": {
    "colab": {
     "base_uri": "https://localhost:8080/",
     "height": 34
    },
    "colab_type": "code",
    "executionInfo": {
     "elapsed": 4656,
     "status": "ok",
     "timestamp": 1581781140684,
     "user": {
      "displayName": "Ashish Bansal",
      "photoUrl": "https://lh3.googleusercontent.com/a-/AAuE7mAl4f5AYg93L5LxheDY1qujFVeyESegUCfT5BYI0A=s64",
      "userId": "16202438904858005659"
     },
     "user_tz": -330
    },
    "hidden": true,
    "id": "qBTA_V2ETI0G",
    "outputId": "f10b6b6f-c163-4d7a-8a80-8986b36e19e8"
   },
   "outputs": [
    {
     "name": "stdout",
     "output_type": "stream",
     "text": [
      "1.9157322292879087\n"
     ]
    }
   ],
   "source": [
    "#calculating rmse\n",
    "rmse = (sum(sum((test_ - y )**2))/total_non_nan)**0.5\n",
    "print(rmse)"
   ]
  },
  {
   "cell_type": "markdown",
   "metadata": {
    "colab_type": "text",
    "hidden": true,
    "id": "rCn5PP9BTI0J"
   },
   "source": [
    "### Using Item similarity"
   ]
  },
  {
   "cell_type": "code",
   "execution_count": 76,
   "metadata": {
    "colab": {},
    "colab_type": "code",
    "hidden": true,
    "id": "mqXCxvuGTI0L"
   },
   "outputs": [],
   "source": [
    "#pivoting the data\n",
    "test_beer_features = test.pivot_table(\n",
    "    index='review_profilename',\n",
    "    columns='beer_beerid',\n",
    "    values='review_overall'\n",
    ").T\n",
    "#normalizing the data\n",
    "mean = np.nanmean(test_beer_features, axis=1)\n",
    "test_df_subtracted = (test_beer_features.T-mean).T"
   ]
  },
  {
   "cell_type": "code",
   "execution_count": 77,
   "metadata": {
    "hidden": true
   },
   "outputs": [],
   "source": [
    "#getting correlation\n",
    "test_item_correlation = 1 - pairwise_distances(test_df_subtracted.fillna(0), metric='cosine')\n",
    "test_item_correlation[np.isnan(test_item_correlation)] = 0\n",
    "test_item_correlation[test_item_correlation<0]=0"
   ]
  },
  {
   "cell_type": "code",
   "execution_count": 78,
   "metadata": {
    "colab": {
     "base_uri": "https://localhost:8080/",
     "height": 34
    },
    "colab_type": "code",
    "executionInfo": {
     "elapsed": 7037,
     "status": "ok",
     "timestamp": 1581781191491,
     "user": {
      "displayName": "Ashish Bansal",
      "photoUrl": "https://lh3.googleusercontent.com/a-/AAuE7mAl4f5AYg93L5LxheDY1qujFVeyESegUCfT5BYI0A=s64",
      "userId": "16202438904858005659"
     },
     "user_tz": -330
    },
    "hidden": true,
    "id": "AHj61EoXTI0P",
    "outputId": "d2d59316-4482-4539-c709-42f9f4e09187"
   },
   "outputs": [
    {
     "data": {
      "text/plain": [
       "(4256, 4256)"
      ]
     },
     "execution_count": 78,
     "metadata": {},
     "output_type": "execute_result"
    }
   ],
   "source": [
    "test_item_correlation.shape"
   ]
  },
  {
   "cell_type": "code",
   "execution_count": 79,
   "metadata": {
    "colab": {
     "base_uri": "https://localhost:8080/",
     "height": 34
    },
    "colab_type": "code",
    "executionInfo": {
     "elapsed": 1138,
     "status": "ok",
     "timestamp": 1581781195182,
     "user": {
      "displayName": "Ashish Bansal",
      "photoUrl": "https://lh3.googleusercontent.com/a-/AAuE7mAl4f5AYg93L5LxheDY1qujFVeyESegUCfT5BYI0A=s64",
      "userId": "16202438904858005659"
     },
     "user_tz": -330
    },
    "hidden": true,
    "id": "uOHTUEDUTI0S",
    "outputId": "d3f5031c-a598-44fd-8d5a-3221b547efce"
   },
   "outputs": [
    {
     "data": {
      "text/plain": [
       "(4256, 13257)"
      ]
     },
     "execution_count": 79,
     "metadata": {},
     "output_type": "execute_result"
    }
   ],
   "source": [
    "test_beer_features.shape"
   ]
  },
  {
   "cell_type": "code",
   "execution_count": 80,
   "metadata": {
    "colab": {
     "base_uri": "https://localhost:8080/",
     "height": 274
    },
    "colab_type": "code",
    "executionInfo": {
     "elapsed": 7543,
     "status": "ok",
     "timestamp": 1581781212924,
     "user": {
      "displayName": "Ashish Bansal",
      "photoUrl": "https://lh3.googleusercontent.com/a-/AAuE7mAl4f5AYg93L5LxheDY1qujFVeyESegUCfT5BYI0A=s64",
      "userId": "16202438904858005659"
     },
     "user_tz": -330
    },
    "hidden": true,
    "id": "2znkcmoBTI0W",
    "outputId": "1a331869-ac26-449b-d8b8-ce92f1491be0"
   },
   "outputs": [
    {
     "data": {
      "text/html": [
       "<div>\n",
       "<style scoped>\n",
       "    .dataframe tbody tr th:only-of-type {\n",
       "        vertical-align: middle;\n",
       "    }\n",
       "\n",
       "    .dataframe tbody tr th {\n",
       "        vertical-align: top;\n",
       "    }\n",
       "\n",
       "    .dataframe thead th {\n",
       "        text-align: right;\n",
       "    }\n",
       "</style>\n",
       "<table border=\"1\" class=\"dataframe\">\n",
       "  <thead>\n",
       "    <tr style=\"text-align: right;\">\n",
       "      <th>beer_beerid</th>\n",
       "      <th>5</th>\n",
       "      <th>6</th>\n",
       "      <th>7</th>\n",
       "      <th>8</th>\n",
       "      <th>9</th>\n",
       "      <th>10</th>\n",
       "      <th>11</th>\n",
       "      <th>12</th>\n",
       "      <th>13</th>\n",
       "      <th>14</th>\n",
       "      <th>...</th>\n",
       "      <th>74548</th>\n",
       "      <th>74579</th>\n",
       "      <th>74591</th>\n",
       "      <th>74783</th>\n",
       "      <th>74827</th>\n",
       "      <th>74904</th>\n",
       "      <th>74986</th>\n",
       "      <th>75013</th>\n",
       "      <th>75086</th>\n",
       "      <th>76144</th>\n",
       "    </tr>\n",
       "    <tr>\n",
       "      <th>review_profilename</th>\n",
       "      <th></th>\n",
       "      <th></th>\n",
       "      <th></th>\n",
       "      <th></th>\n",
       "      <th></th>\n",
       "      <th></th>\n",
       "      <th></th>\n",
       "      <th></th>\n",
       "      <th></th>\n",
       "      <th></th>\n",
       "      <th></th>\n",
       "      <th></th>\n",
       "      <th></th>\n",
       "      <th></th>\n",
       "      <th></th>\n",
       "      <th></th>\n",
       "      <th></th>\n",
       "      <th></th>\n",
       "      <th></th>\n",
       "      <th></th>\n",
       "      <th></th>\n",
       "    </tr>\n",
       "  </thead>\n",
       "  <tbody>\n",
       "    <tr>\n",
       "      <td>0110x011</td>\n",
       "      <td>0.0</td>\n",
       "      <td>0.0</td>\n",
       "      <td>0.0</td>\n",
       "      <td>0.0</td>\n",
       "      <td>0.0</td>\n",
       "      <td>0.0</td>\n",
       "      <td>0.0</td>\n",
       "      <td>0.0</td>\n",
       "      <td>0.0</td>\n",
       "      <td>0.0</td>\n",
       "      <td>...</td>\n",
       "      <td>0.0</td>\n",
       "      <td>0.0</td>\n",
       "      <td>0.0</td>\n",
       "      <td>0.0</td>\n",
       "      <td>0.0</td>\n",
       "      <td>0.0</td>\n",
       "      <td>0.0</td>\n",
       "      <td>0.0</td>\n",
       "      <td>0.0</td>\n",
       "      <td>0.0</td>\n",
       "    </tr>\n",
       "    <tr>\n",
       "      <td>05Harley</td>\n",
       "      <td>0.0</td>\n",
       "      <td>0.0</td>\n",
       "      <td>0.0</td>\n",
       "      <td>0.0</td>\n",
       "      <td>0.0</td>\n",
       "      <td>0.0</td>\n",
       "      <td>0.0</td>\n",
       "      <td>0.0</td>\n",
       "      <td>0.0</td>\n",
       "      <td>0.0</td>\n",
       "      <td>...</td>\n",
       "      <td>0.0</td>\n",
       "      <td>0.0</td>\n",
       "      <td>0.0</td>\n",
       "      <td>0.0</td>\n",
       "      <td>0.0</td>\n",
       "      <td>0.0</td>\n",
       "      <td>0.0</td>\n",
       "      <td>0.0</td>\n",
       "      <td>0.0</td>\n",
       "      <td>0.0</td>\n",
       "    </tr>\n",
       "    <tr>\n",
       "      <td>0tt0</td>\n",
       "      <td>0.0</td>\n",
       "      <td>0.0</td>\n",
       "      <td>0.0</td>\n",
       "      <td>0.0</td>\n",
       "      <td>0.0</td>\n",
       "      <td>0.0</td>\n",
       "      <td>0.0</td>\n",
       "      <td>0.0</td>\n",
       "      <td>0.0</td>\n",
       "      <td>0.0</td>\n",
       "      <td>...</td>\n",
       "      <td>0.0</td>\n",
       "      <td>0.0</td>\n",
       "      <td>0.0</td>\n",
       "      <td>0.0</td>\n",
       "      <td>0.0</td>\n",
       "      <td>0.0</td>\n",
       "      <td>0.0</td>\n",
       "      <td>0.0</td>\n",
       "      <td>0.0</td>\n",
       "      <td>0.0</td>\n",
       "    </tr>\n",
       "    <tr>\n",
       "      <td>1000Bottles</td>\n",
       "      <td>0.0</td>\n",
       "      <td>0.0</td>\n",
       "      <td>0.0</td>\n",
       "      <td>0.0</td>\n",
       "      <td>0.0</td>\n",
       "      <td>0.0</td>\n",
       "      <td>0.0</td>\n",
       "      <td>0.0</td>\n",
       "      <td>0.0</td>\n",
       "      <td>0.0</td>\n",
       "      <td>...</td>\n",
       "      <td>0.0</td>\n",
       "      <td>0.0</td>\n",
       "      <td>0.0</td>\n",
       "      <td>0.0</td>\n",
       "      <td>0.0</td>\n",
       "      <td>0.0</td>\n",
       "      <td>0.0</td>\n",
       "      <td>0.0</td>\n",
       "      <td>0.0</td>\n",
       "      <td>0.0</td>\n",
       "    </tr>\n",
       "    <tr>\n",
       "      <td>100floods</td>\n",
       "      <td>0.0</td>\n",
       "      <td>0.0</td>\n",
       "      <td>0.0</td>\n",
       "      <td>0.0</td>\n",
       "      <td>0.0</td>\n",
       "      <td>0.0</td>\n",
       "      <td>0.0</td>\n",
       "      <td>0.0</td>\n",
       "      <td>0.0</td>\n",
       "      <td>0.0</td>\n",
       "      <td>...</td>\n",
       "      <td>0.0</td>\n",
       "      <td>0.0</td>\n",
       "      <td>0.0</td>\n",
       "      <td>0.0</td>\n",
       "      <td>0.0</td>\n",
       "      <td>0.0</td>\n",
       "      <td>0.0</td>\n",
       "      <td>0.0</td>\n",
       "      <td>0.0</td>\n",
       "      <td>0.0</td>\n",
       "    </tr>\n",
       "  </tbody>\n",
       "</table>\n",
       "<p>5 rows × 4256 columns</p>\n",
       "</div>"
      ],
      "text/plain": [
       "beer_beerid         5      6      7      8      9      10     11     12     \\\n",
       "review_profilename                                                           \n",
       "0110x011              0.0    0.0    0.0    0.0    0.0    0.0    0.0    0.0   \n",
       "05Harley              0.0    0.0    0.0    0.0    0.0    0.0    0.0    0.0   \n",
       "0tt0                  0.0    0.0    0.0    0.0    0.0    0.0    0.0    0.0   \n",
       "1000Bottles           0.0    0.0    0.0    0.0    0.0    0.0    0.0    0.0   \n",
       "100floods             0.0    0.0    0.0    0.0    0.0    0.0    0.0    0.0   \n",
       "\n",
       "beer_beerid         13     14     ...  74548  74579  74591  74783  74827  \\\n",
       "review_profilename                ...                                      \n",
       "0110x011              0.0    0.0  ...    0.0    0.0    0.0    0.0    0.0   \n",
       "05Harley              0.0    0.0  ...    0.0    0.0    0.0    0.0    0.0   \n",
       "0tt0                  0.0    0.0  ...    0.0    0.0    0.0    0.0    0.0   \n",
       "1000Bottles           0.0    0.0  ...    0.0    0.0    0.0    0.0    0.0   \n",
       "100floods             0.0    0.0  ...    0.0    0.0    0.0    0.0    0.0   \n",
       "\n",
       "beer_beerid         74904  74986  75013  75086  76144  \n",
       "review_profilename                                     \n",
       "0110x011              0.0    0.0    0.0    0.0    0.0  \n",
       "05Harley              0.0    0.0    0.0    0.0    0.0  \n",
       "0tt0                  0.0    0.0    0.0    0.0    0.0  \n",
       "1000Bottles           0.0    0.0    0.0    0.0    0.0  \n",
       "100floods             0.0    0.0    0.0    0.0    0.0  \n",
       "\n",
       "[5 rows x 4256 columns]"
      ]
     },
     "execution_count": 80,
     "metadata": {},
     "output_type": "execute_result"
    }
   ],
   "source": [
    "#getting final data\n",
    "test_item_predicted_ratings = (np.dot(test_item_correlation, test_beer_features.fillna(0))).T\n",
    "test_item_final_rating = np.multiply(test_item_predicted_ratings,dummy_test)\n",
    "test_item_final_rating.head()"
   ]
  },
  {
   "cell_type": "code",
   "execution_count": 81,
   "metadata": {
    "colab": {},
    "colab_type": "code",
    "hidden": true,
    "id": "21YqZGuVTI0Z"
   },
   "outputs": [],
   "source": [
    "test_ = test.pivot_table(\n",
    "    index='review_profilename',\n",
    "    columns='beer_beerid',\n",
    "    values='review_overall'\n",
    ")"
   ]
  },
  {
   "cell_type": "code",
   "execution_count": 82,
   "metadata": {
    "colab": {
     "base_uri": "https://localhost:8080/",
     "height": 34
    },
    "colab_type": "code",
    "executionInfo": {
     "elapsed": 4263,
     "status": "ok",
     "timestamp": 1581781273571,
     "user": {
      "displayName": "Ashish Bansal",
      "photoUrl": "https://lh3.googleusercontent.com/a-/AAuE7mAl4f5AYg93L5LxheDY1qujFVeyESegUCfT5BYI0A=s64",
      "userId": "16202438904858005659"
     },
     "user_tz": -330
    },
    "hidden": true,
    "id": "7dk8W5JyTI0f",
    "outputId": "316b8c89-0378-4b89-81f6-2110cfb3b47d"
   },
   "outputs": [
    {
     "name": "stdout",
     "output_type": "stream",
     "text": [
      "MinMaxScaler(copy=True, feature_range=(1, 5))\n"
     ]
    }
   ],
   "source": [
    "from sklearn.preprocessing import MinMaxScaler\n",
    "from numpy import *\n",
    "\n",
    "X  = test_item_final_rating.copy() \n",
    "X = X[X>0]\n",
    "\n",
    "scaler = MinMaxScaler(feature_range=(1, 5))\n",
    "print(scaler.fit(X))\n",
    "y = (scaler.transform(X))\n",
    "\n",
    "\n",
    "test_ = test.pivot_table(\n",
    "    index='review_profilename',\n",
    "    columns='beer_beerid',\n",
    "    values='review_overall'\n",
    ")\n",
    "\n",
    "# Finding total non-NaN value\n",
    "total_non_nan = np.count_nonzero(~np.isnan(y))"
   ]
  },
  {
   "cell_type": "markdown",
   "metadata": {
    "colab_type": "text",
    "hidden": true,
    "id": "1nAdCKORTI0k"
   },
   "source": [
    "#### Finding RMSE"
   ]
  },
  {
   "cell_type": "code",
   "execution_count": 83,
   "metadata": {
    "colab": {
     "base_uri": "https://localhost:8080/",
     "height": 34
    },
    "colab_type": "code",
    "executionInfo": {
     "elapsed": 4666,
     "status": "ok",
     "timestamp": 1581781282156,
     "user": {
      "displayName": "Ashish Bansal",
      "photoUrl": "https://lh3.googleusercontent.com/a-/AAuE7mAl4f5AYg93L5LxheDY1qujFVeyESegUCfT5BYI0A=s64",
      "userId": "16202438904858005659"
     },
     "user_tz": -330
    },
    "hidden": true,
    "id": "E_qCoARnTI0l",
    "outputId": "c80af1a6-d575-45f3-f637-54283cfa1d7e"
   },
   "outputs": [
    {
     "name": "stdout",
     "output_type": "stream",
     "text": [
      "2.156720445008961\n"
     ]
    }
   ],
   "source": [
    "#calculating RMSE\n",
    "rmse = (sum(sum((test_ - y )**2))/total_non_nan)**0.5\n",
    "print(rmse)"
   ]
  },
  {
   "cell_type": "markdown",
   "metadata": {},
   "source": [
    "## Results"
   ]
  },
  {
   "cell_type": "markdown",
   "metadata": {
    "colab": {},
    "colab_type": "code",
    "id": "GdRbR-E7TI0p"
   },
   "source": [
    "**As we can see RMSE for user based recommendation (1.9157) is less than RMSE for item based recommendation (2.1567), so we can say that user based recommendation is more suitable and we will use the same for further answers.**"
   ]
  },
  {
   "cell_type": "markdown",
   "metadata": {},
   "source": [
    "Give the names of the top 5 beers that you would recommend to the users 'cokes', 'genog' and 'giblet' using both the models."
   ]
  },
  {
   "cell_type": "code",
   "execution_count": 93,
   "metadata": {},
   "outputs": [
    {
     "data": {
      "text/html": [
       "<div>\n",
       "<style scoped>\n",
       "    .dataframe tbody tr th:only-of-type {\n",
       "        vertical-align: middle;\n",
       "    }\n",
       "\n",
       "    .dataframe tbody tr th {\n",
       "        vertical-align: top;\n",
       "    }\n",
       "\n",
       "    .dataframe thead th {\n",
       "        text-align: right;\n",
       "    }\n",
       "</style>\n",
       "<table border=\"1\" class=\"dataframe\">\n",
       "  <thead>\n",
       "    <tr style=\"text-align: right;\">\n",
       "      <th>beer_beerid</th>\n",
       "      <th>5</th>\n",
       "      <th>6</th>\n",
       "      <th>7</th>\n",
       "      <th>8</th>\n",
       "      <th>9</th>\n",
       "      <th>10</th>\n",
       "      <th>11</th>\n",
       "      <th>12</th>\n",
       "      <th>13</th>\n",
       "      <th>14</th>\n",
       "      <th>...</th>\n",
       "      <th>74548</th>\n",
       "      <th>74579</th>\n",
       "      <th>74591</th>\n",
       "      <th>74783</th>\n",
       "      <th>74827</th>\n",
       "      <th>74904</th>\n",
       "      <th>74986</th>\n",
       "      <th>75013</th>\n",
       "      <th>75086</th>\n",
       "      <th>76144</th>\n",
       "    </tr>\n",
       "    <tr>\n",
       "      <th>review_profilename</th>\n",
       "      <th></th>\n",
       "      <th></th>\n",
       "      <th></th>\n",
       "      <th></th>\n",
       "      <th></th>\n",
       "      <th></th>\n",
       "      <th></th>\n",
       "      <th></th>\n",
       "      <th></th>\n",
       "      <th></th>\n",
       "      <th></th>\n",
       "      <th></th>\n",
       "      <th></th>\n",
       "      <th></th>\n",
       "      <th></th>\n",
       "      <th></th>\n",
       "      <th></th>\n",
       "      <th></th>\n",
       "      <th></th>\n",
       "      <th></th>\n",
       "      <th></th>\n",
       "    </tr>\n",
       "  </thead>\n",
       "  <tbody>\n",
       "    <tr>\n",
       "      <td>0110x011</td>\n",
       "      <td>1.182442</td>\n",
       "      <td>2.557959</td>\n",
       "      <td>1.719645</td>\n",
       "      <td>0.502519</td>\n",
       "      <td>0.266772</td>\n",
       "      <td>2.049708</td>\n",
       "      <td>0.186944</td>\n",
       "      <td>0.040888</td>\n",
       "      <td>0.276982</td>\n",
       "      <td>0.452979</td>\n",
       "      <td>...</td>\n",
       "      <td>0.965768</td>\n",
       "      <td>0.700817</td>\n",
       "      <td>0.398613</td>\n",
       "      <td>0.120390</td>\n",
       "      <td>1.379414</td>\n",
       "      <td>0.787486</td>\n",
       "      <td>2.680475</td>\n",
       "      <td>2.067126</td>\n",
       "      <td>1.378020</td>\n",
       "      <td>0.564357</td>\n",
       "    </tr>\n",
       "    <tr>\n",
       "      <td>01Ryan10</td>\n",
       "      <td>0.000000</td>\n",
       "      <td>0.000000</td>\n",
       "      <td>0.000000</td>\n",
       "      <td>0.000000</td>\n",
       "      <td>0.000000</td>\n",
       "      <td>0.000000</td>\n",
       "      <td>0.000000</td>\n",
       "      <td>0.000000</td>\n",
       "      <td>0.000000</td>\n",
       "      <td>0.000000</td>\n",
       "      <td>...</td>\n",
       "      <td>0.000000</td>\n",
       "      <td>0.000000</td>\n",
       "      <td>0.000000</td>\n",
       "      <td>0.000000</td>\n",
       "      <td>0.000000</td>\n",
       "      <td>0.000000</td>\n",
       "      <td>0.000000</td>\n",
       "      <td>0.000000</td>\n",
       "      <td>0.000000</td>\n",
       "      <td>0.000000</td>\n",
       "    </tr>\n",
       "    <tr>\n",
       "      <td>04101Brewer</td>\n",
       "      <td>0.000000</td>\n",
       "      <td>0.000000</td>\n",
       "      <td>0.000000</td>\n",
       "      <td>0.000000</td>\n",
       "      <td>0.000000</td>\n",
       "      <td>0.000000</td>\n",
       "      <td>0.000000</td>\n",
       "      <td>0.000000</td>\n",
       "      <td>0.000000</td>\n",
       "      <td>0.000000</td>\n",
       "      <td>...</td>\n",
       "      <td>0.000000</td>\n",
       "      <td>0.000000</td>\n",
       "      <td>0.000000</td>\n",
       "      <td>0.000000</td>\n",
       "      <td>0.000000</td>\n",
       "      <td>0.000000</td>\n",
       "      <td>0.000000</td>\n",
       "      <td>0.000000</td>\n",
       "      <td>0.000000</td>\n",
       "      <td>0.000000</td>\n",
       "    </tr>\n",
       "    <tr>\n",
       "      <td>05Harley</td>\n",
       "      <td>1.056769</td>\n",
       "      <td>3.142892</td>\n",
       "      <td>2.142663</td>\n",
       "      <td>0.317305</td>\n",
       "      <td>0.081123</td>\n",
       "      <td>3.302263</td>\n",
       "      <td>0.048020</td>\n",
       "      <td>0.031072</td>\n",
       "      <td>0.228071</td>\n",
       "      <td>0.737875</td>\n",
       "      <td>...</td>\n",
       "      <td>0.653470</td>\n",
       "      <td>1.614945</td>\n",
       "      <td>0.486533</td>\n",
       "      <td>1.036711</td>\n",
       "      <td>0.677990</td>\n",
       "      <td>1.867341</td>\n",
       "      <td>6.536365</td>\n",
       "      <td>2.075731</td>\n",
       "      <td>2.318730</td>\n",
       "      <td>1.050252</td>\n",
       "    </tr>\n",
       "    <tr>\n",
       "      <td>0beerguy0</td>\n",
       "      <td>0.562421</td>\n",
       "      <td>2.293032</td>\n",
       "      <td>0.898325</td>\n",
       "      <td>0.519310</td>\n",
       "      <td>0.000000</td>\n",
       "      <td>2.194530</td>\n",
       "      <td>0.053718</td>\n",
       "      <td>0.144822</td>\n",
       "      <td>0.149932</td>\n",
       "      <td>1.126728</td>\n",
       "      <td>...</td>\n",
       "      <td>0.428906</td>\n",
       "      <td>0.263696</td>\n",
       "      <td>0.019324</td>\n",
       "      <td>0.261731</td>\n",
       "      <td>0.215301</td>\n",
       "      <td>0.002897</td>\n",
       "      <td>0.116457</td>\n",
       "      <td>0.187123</td>\n",
       "      <td>0.234862</td>\n",
       "      <td>0.250498</td>\n",
       "    </tr>\n",
       "  </tbody>\n",
       "</table>\n",
       "<p>5 rows × 4256 columns</p>\n",
       "</div>"
      ],
      "text/plain": [
       "beer_beerid            5         6         7         8         9      \\\n",
       "review_profilename                                                     \n",
       "0110x011            1.182442  2.557959  1.719645  0.502519  0.266772   \n",
       "01Ryan10            0.000000  0.000000  0.000000  0.000000  0.000000   \n",
       "04101Brewer         0.000000  0.000000  0.000000  0.000000  0.000000   \n",
       "05Harley            1.056769  3.142892  2.142663  0.317305  0.081123   \n",
       "0beerguy0           0.562421  2.293032  0.898325  0.519310  0.000000   \n",
       "\n",
       "beer_beerid            10        11        12        13        14     ...  \\\n",
       "review_profilename                                                    ...   \n",
       "0110x011            2.049708  0.186944  0.040888  0.276982  0.452979  ...   \n",
       "01Ryan10            0.000000  0.000000  0.000000  0.000000  0.000000  ...   \n",
       "04101Brewer         0.000000  0.000000  0.000000  0.000000  0.000000  ...   \n",
       "05Harley            3.302263  0.048020  0.031072  0.228071  0.737875  ...   \n",
       "0beerguy0           2.194530  0.053718  0.144822  0.149932  1.126728  ...   \n",
       "\n",
       "beer_beerid            74548     74579     74591     74783     74827  \\\n",
       "review_profilename                                                     \n",
       "0110x011            0.965768  0.700817  0.398613  0.120390  1.379414   \n",
       "01Ryan10            0.000000  0.000000  0.000000  0.000000  0.000000   \n",
       "04101Brewer         0.000000  0.000000  0.000000  0.000000  0.000000   \n",
       "05Harley            0.653470  1.614945  0.486533  1.036711  0.677990   \n",
       "0beerguy0           0.428906  0.263696  0.019324  0.261731  0.215301   \n",
       "\n",
       "beer_beerid            74904     74986     75013     75086     76144  \n",
       "review_profilename                                                    \n",
       "0110x011            0.787486  2.680475  2.067126  1.378020  0.564357  \n",
       "01Ryan10            0.000000  0.000000  0.000000  0.000000  0.000000  \n",
       "04101Brewer         0.000000  0.000000  0.000000  0.000000  0.000000  \n",
       "05Harley            1.867341  6.536365  2.075731  2.318730  1.050252  \n",
       "0beerguy0           0.002897  0.116457  0.187123  0.234862  0.250498  \n",
       "\n",
       "[5 rows x 4256 columns]"
      ]
     },
     "execution_count": 93,
     "metadata": {},
     "output_type": "execute_result"
    }
   ],
   "source": [
    "user_final_rating.head()"
   ]
  },
  {
   "cell_type": "code",
   "execution_count": 102,
   "metadata": {},
   "outputs": [
    {
     "name": "stdout",
     "output_type": "stream",
     "text": [
      "Top 5 beers for user cokes\n",
      "\n",
      "\n",
      "beer_beerid\n",
      "412     25.248147\n",
      "4083    24.941647\n",
      "92      23.729353\n",
      "1093    23.657486\n",
      "34      23.067981\n",
      "Name: cokes, dtype: float64\n",
      "=-=-=-=-=-=-=-=-=-=-=-=-=-=-=-=-=-=-=-=-=-=-=-=-=-\n",
      "Top 5 beers for user genog\n",
      "\n",
      "\n",
      "beer_beerid\n",
      "1093    33.281698\n",
      "2093    30.631213\n",
      "412     27.595358\n",
      "4083    26.499116\n",
      "645     26.278370\n",
      "Name: genog, dtype: float64\n",
      "=-=-=-=-=-=-=-=-=-=-=-=-=-=-=-=-=-=-=-=-=-=-=-=-=-\n",
      "Top 5 beers for user giblet\n",
      "\n",
      "\n",
      "beer_beerid\n",
      "412     57.426746\n",
      "2093    52.709849\n",
      "34      46.108230\n",
      "355     45.814940\n",
      "1708    45.679501\n",
      "Name: giblet, dtype: float64\n",
      "=-=-=-=-=-=-=-=-=-=-=-=-=-=-=-=-=-=-=-=-=-=-=-=-=-\n"
     ]
    }
   ],
   "source": [
    "#creating function to get recommended beers for users using user based recommendation system\n",
    "users = ['cokes','genog','giblet']\n",
    "for user in users:\n",
    "    print('Top 5 beers for user',user)\n",
    "    print('\\n')  \n",
    "    print(user_final_rating.loc[user].sort_values(ascending=False)[0:5])\n",
    "    print('=-'*25)\n",
    "  "
   ]
  },
  {
   "cell_type": "code",
   "execution_count": 85,
   "metadata": {},
   "outputs": [
    {
     "data": {
      "text/html": [
       "<div>\n",
       "<style scoped>\n",
       "    .dataframe tbody tr th:only-of-type {\n",
       "        vertical-align: middle;\n",
       "    }\n",
       "\n",
       "    .dataframe tbody tr th {\n",
       "        vertical-align: top;\n",
       "    }\n",
       "\n",
       "    .dataframe thead th {\n",
       "        text-align: right;\n",
       "    }\n",
       "</style>\n",
       "<table border=\"1\" class=\"dataframe\">\n",
       "  <thead>\n",
       "    <tr style=\"text-align: right;\">\n",
       "      <th>beer_beerid</th>\n",
       "      <th>5</th>\n",
       "      <th>6</th>\n",
       "      <th>7</th>\n",
       "      <th>8</th>\n",
       "      <th>9</th>\n",
       "      <th>10</th>\n",
       "      <th>11</th>\n",
       "      <th>12</th>\n",
       "      <th>13</th>\n",
       "      <th>14</th>\n",
       "      <th>...</th>\n",
       "      <th>74548</th>\n",
       "      <th>74579</th>\n",
       "      <th>74591</th>\n",
       "      <th>74783</th>\n",
       "      <th>74827</th>\n",
       "      <th>74904</th>\n",
       "      <th>74986</th>\n",
       "      <th>75013</th>\n",
       "      <th>75086</th>\n",
       "      <th>76144</th>\n",
       "    </tr>\n",
       "    <tr>\n",
       "      <th>review_profilename</th>\n",
       "      <th></th>\n",
       "      <th></th>\n",
       "      <th></th>\n",
       "      <th></th>\n",
       "      <th></th>\n",
       "      <th></th>\n",
       "      <th></th>\n",
       "      <th></th>\n",
       "      <th></th>\n",
       "      <th></th>\n",
       "      <th></th>\n",
       "      <th></th>\n",
       "      <th></th>\n",
       "      <th></th>\n",
       "      <th></th>\n",
       "      <th></th>\n",
       "      <th></th>\n",
       "      <th></th>\n",
       "      <th></th>\n",
       "      <th></th>\n",
       "      <th></th>\n",
       "    </tr>\n",
       "  </thead>\n",
       "  <tbody>\n",
       "    <tr>\n",
       "      <td>0110x011</td>\n",
       "      <td>0.145259</td>\n",
       "      <td>0.659830</td>\n",
       "      <td>0.668393</td>\n",
       "      <td>0.307106</td>\n",
       "      <td>0.196194</td>\n",
       "      <td>0.446388</td>\n",
       "      <td>0.105648</td>\n",
       "      <td>0.964518</td>\n",
       "      <td>0.277860</td>\n",
       "      <td>0.358746</td>\n",
       "      <td>...</td>\n",
       "      <td>1.043923</td>\n",
       "      <td>0.537332</td>\n",
       "      <td>0.469443</td>\n",
       "      <td>0.307827</td>\n",
       "      <td>1.199551</td>\n",
       "      <td>0.139630</td>\n",
       "      <td>0.503557</td>\n",
       "      <td>2.143379</td>\n",
       "      <td>0.949600</td>\n",
       "      <td>0.419365</td>\n",
       "    </tr>\n",
       "    <tr>\n",
       "      <td>01Ryan10</td>\n",
       "      <td>0.000000</td>\n",
       "      <td>0.000000</td>\n",
       "      <td>0.116845</td>\n",
       "      <td>0.000000</td>\n",
       "      <td>0.000000</td>\n",
       "      <td>0.004093</td>\n",
       "      <td>0.000000</td>\n",
       "      <td>0.000000</td>\n",
       "      <td>0.000000</td>\n",
       "      <td>0.000000</td>\n",
       "      <td>...</td>\n",
       "      <td>0.000000</td>\n",
       "      <td>0.155203</td>\n",
       "      <td>0.000000</td>\n",
       "      <td>0.091288</td>\n",
       "      <td>0.000000</td>\n",
       "      <td>0.028012</td>\n",
       "      <td>0.034321</td>\n",
       "      <td>0.000000</td>\n",
       "      <td>0.020704</td>\n",
       "      <td>0.000000</td>\n",
       "    </tr>\n",
       "    <tr>\n",
       "      <td>04101Brewer</td>\n",
       "      <td>0.000000</td>\n",
       "      <td>0.114508</td>\n",
       "      <td>0.088984</td>\n",
       "      <td>0.000000</td>\n",
       "      <td>0.000000</td>\n",
       "      <td>0.006132</td>\n",
       "      <td>0.000000</td>\n",
       "      <td>0.000000</td>\n",
       "      <td>0.000000</td>\n",
       "      <td>0.000000</td>\n",
       "      <td>...</td>\n",
       "      <td>0.000000</td>\n",
       "      <td>0.069317</td>\n",
       "      <td>0.145800</td>\n",
       "      <td>0.000000</td>\n",
       "      <td>0.039402</td>\n",
       "      <td>0.000000</td>\n",
       "      <td>0.000000</td>\n",
       "      <td>0.029493</td>\n",
       "      <td>0.031016</td>\n",
       "      <td>0.000000</td>\n",
       "    </tr>\n",
       "    <tr>\n",
       "      <td>05Harley</td>\n",
       "      <td>0.938446</td>\n",
       "      <td>0.739017</td>\n",
       "      <td>0.314239</td>\n",
       "      <td>0.793638</td>\n",
       "      <td>0.309616</td>\n",
       "      <td>1.038832</td>\n",
       "      <td>0.021234</td>\n",
       "      <td>0.633639</td>\n",
       "      <td>0.144820</td>\n",
       "      <td>0.544344</td>\n",
       "      <td>...</td>\n",
       "      <td>0.289327</td>\n",
       "      <td>0.432028</td>\n",
       "      <td>0.401374</td>\n",
       "      <td>0.264036</td>\n",
       "      <td>0.738560</td>\n",
       "      <td>0.418241</td>\n",
       "      <td>1.254938</td>\n",
       "      <td>0.852468</td>\n",
       "      <td>0.547181</td>\n",
       "      <td>0.521962</td>\n",
       "    </tr>\n",
       "    <tr>\n",
       "      <td>0beerguy0</td>\n",
       "      <td>0.387906</td>\n",
       "      <td>0.207039</td>\n",
       "      <td>0.053501</td>\n",
       "      <td>0.372696</td>\n",
       "      <td>0.002359</td>\n",
       "      <td>0.078481</td>\n",
       "      <td>0.814244</td>\n",
       "      <td>0.113646</td>\n",
       "      <td>0.055588</td>\n",
       "      <td>0.305834</td>\n",
       "      <td>...</td>\n",
       "      <td>0.000000</td>\n",
       "      <td>0.000000</td>\n",
       "      <td>0.090740</td>\n",
       "      <td>0.011537</td>\n",
       "      <td>0.001867</td>\n",
       "      <td>0.044114</td>\n",
       "      <td>0.007340</td>\n",
       "      <td>0.011165</td>\n",
       "      <td>0.043213</td>\n",
       "      <td>0.040645</td>\n",
       "    </tr>\n",
       "  </tbody>\n",
       "</table>\n",
       "<p>5 rows × 4256 columns</p>\n",
       "</div>"
      ],
      "text/plain": [
       "beer_beerid            5         6         7         8         9      \\\n",
       "review_profilename                                                     \n",
       "0110x011            0.145259  0.659830  0.668393  0.307106  0.196194   \n",
       "01Ryan10            0.000000  0.000000  0.116845  0.000000  0.000000   \n",
       "04101Brewer         0.000000  0.114508  0.088984  0.000000  0.000000   \n",
       "05Harley            0.938446  0.739017  0.314239  0.793638  0.309616   \n",
       "0beerguy0           0.387906  0.207039  0.053501  0.372696  0.002359   \n",
       "\n",
       "beer_beerid            10        11        12        13        14     ...  \\\n",
       "review_profilename                                                    ...   \n",
       "0110x011            0.446388  0.105648  0.964518  0.277860  0.358746  ...   \n",
       "01Ryan10            0.004093  0.000000  0.000000  0.000000  0.000000  ...   \n",
       "04101Brewer         0.006132  0.000000  0.000000  0.000000  0.000000  ...   \n",
       "05Harley            1.038832  0.021234  0.633639  0.144820  0.544344  ...   \n",
       "0beerguy0           0.078481  0.814244  0.113646  0.055588  0.305834  ...   \n",
       "\n",
       "beer_beerid            74548     74579     74591     74783     74827  \\\n",
       "review_profilename                                                     \n",
       "0110x011            1.043923  0.537332  0.469443  0.307827  1.199551   \n",
       "01Ryan10            0.000000  0.155203  0.000000  0.091288  0.000000   \n",
       "04101Brewer         0.000000  0.069317  0.145800  0.000000  0.039402   \n",
       "05Harley            0.289327  0.432028  0.401374  0.264036  0.738560   \n",
       "0beerguy0           0.000000  0.000000  0.090740  0.011537  0.001867   \n",
       "\n",
       "beer_beerid            74904     74986     75013     75086     76144  \n",
       "review_profilename                                                    \n",
       "0110x011            0.139630  0.503557  2.143379  0.949600  0.419365  \n",
       "01Ryan10            0.028012  0.034321  0.000000  0.020704  0.000000  \n",
       "04101Brewer         0.000000  0.000000  0.029493  0.031016  0.000000  \n",
       "05Harley            0.418241  1.254938  0.852468  0.547181  0.521962  \n",
       "0beerguy0           0.044114  0.007340  0.011165  0.043213  0.040645  \n",
       "\n",
       "[5 rows x 4256 columns]"
      ]
     },
     "execution_count": 85,
     "metadata": {},
     "output_type": "execute_result"
    }
   ],
   "source": [
    "item_final_rating.head()"
   ]
  },
  {
   "cell_type": "code",
   "execution_count": 103,
   "metadata": {},
   "outputs": [
    {
     "name": "stdout",
     "output_type": "stream",
     "text": [
      "Top 5 beers for user cokes\n",
      "\n",
      "\n",
      "beer_beerid\n",
      "2147     15.278005\n",
      "28268    15.038614\n",
      "19426    14.669737\n",
      "31196    14.380846\n",
      "7012     14.021908\n",
      "Name: cokes, dtype: float64\n",
      "=-=-=-=-=-=-=-=-=-=-=-=-=-=-=-=-=-=-=-=-=-=-=-=-=-\n",
      "Top 5 beers for user genog\n",
      "\n",
      "\n",
      "beer_beerid\n",
      "46188    4.749782\n",
      "9182     4.741679\n",
      "36179    4.407275\n",
      "34363    4.313852\n",
      "36539    4.188567\n",
      "Name: genog, dtype: float64\n",
      "=-=-=-=-=-=-=-=-=-=-=-=-=-=-=-=-=-=-=-=-=-=-=-=-=-\n",
      "Top 5 beers for user giblet\n",
      "\n",
      "\n",
      "beer_beerid\n",
      "10100    5.680221\n",
      "46652    4.851436\n",
      "24427    4.652132\n",
      "341      4.630110\n",
      "17910    4.534480\n",
      "Name: giblet, dtype: float64\n",
      "=-=-=-=-=-=-=-=-=-=-=-=-=-=-=-=-=-=-=-=-=-=-=-=-=-\n"
     ]
    }
   ],
   "source": [
    "#creating function to get recommended beers for users using item based recommendation system\n",
    "users = ['cokes','genog','giblet']\n",
    "for user in users:\n",
    "    print('Top 5 beers for user',user)\n",
    "    print('\\n')\n",
    "    print(item_final_rating.loc[user].sort_values(ascending=False)[0:5])\n",
    "    print('=-'*25)\n",
    "    "
   ]
  },
  {
   "cell_type": "markdown",
   "metadata": {},
   "source": [
    "Assignment Complete :) <br>\n",
    "Thanks for all the support from TA's and peers."
   ]
  },
  {
   "cell_type": "code",
   "execution_count": null,
   "metadata": {},
   "outputs": [],
   "source": []
  }
 ],
 "metadata": {
  "accelerator": "GPU",
  "colab": {
   "collapsed_sections": [
    "hIz414GoTIz1",
    "cAD_gv4bTIz7",
    "rCn5PP9BTI0J",
    "1nAdCKORTI0k"
   ],
   "machine_shape": "hm",
   "name": "Beer_Recommendation_System.ipynb",
   "provenance": []
  },
  "kernelspec": {
   "display_name": "Python 3",
   "language": "python",
   "name": "python3"
  },
  "language_info": {
   "codemirror_mode": {
    "name": "ipython",
    "version": 3
   },
   "file_extension": ".py",
   "mimetype": "text/x-python",
   "name": "python",
   "nbconvert_exporter": "python",
   "pygments_lexer": "ipython3",
   "version": "3.7.4"
  },
  "toc": {
   "base_numbering": 1,
   "nav_menu": {},
   "number_sections": true,
   "sideBar": true,
   "skip_h1_title": false,
   "title_cell": "Table of Contents",
   "title_sidebar": "Contents",
   "toc_cell": false,
   "toc_position": {
    "height": "calc(100% - 180px)",
    "left": "10px",
    "top": "150px",
    "width": "245.76px"
   },
   "toc_section_display": true,
   "toc_window_display": false
  },
  "varInspector": {
   "cols": {
    "lenName": 16,
    "lenType": 16,
    "lenVar": 40
   },
   "kernels_config": {
    "python": {
     "delete_cmd_postfix": "",
     "delete_cmd_prefix": "del ",
     "library": "var_list.py",
     "varRefreshCmd": "print(var_dic_list())"
    },
    "r": {
     "delete_cmd_postfix": ") ",
     "delete_cmd_prefix": "rm(",
     "library": "var_list.r",
     "varRefreshCmd": "cat(var_dic_list()) "
    }
   },
   "types_to_exclude": [
    "module",
    "function",
    "builtin_function_or_method",
    "instance",
    "_Feature"
   ],
   "window_display": false
  }
 },
 "nbformat": 4,
 "nbformat_minor": 1
}
